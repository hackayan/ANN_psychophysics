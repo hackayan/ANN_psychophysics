{
  "nbformat": 4,
  "nbformat_minor": 0,
  "metadata": {
    "colab": {
      "provenance": [],
      "machine_shape": "hm",
      "gpuType": "V100",
      "authorship_tag": "ABX9TyPyITAUNbUIiqi8Gp7r2oJ3",
      "include_colab_link": true
    },
    "kernelspec": {
      "name": "python3",
      "display_name": "Python 3"
    },
    "language_info": {
      "name": "python"
    }
  },
  "cells": [
    {
      "cell_type": "markdown",
      "metadata": {
        "id": "view-in-github",
        "colab_type": "text"
      },
      "source": [
        "<a href=\"https://colab.research.google.com/github/hackayan/ANN_psychophysics/blob/master/model_fit.ipynb\" target=\"_parent\"><img src=\"https://colab.research.google.com/assets/colab-badge.svg\" alt=\"Open In Colab\"/></a>"
      ]
    },
    {
      "cell_type": "code",
      "execution_count": null,
      "metadata": {
        "id": "C3d6tqkmVWaS"
      },
      "outputs": [],
      "source": [
        "import numpy as np\n",
        "\n",
        "def simulate_M1random_v1(T, mu, b):\n",
        "    a = np.zeros(T, dtype=int)\n",
        "    r = np.zeros(T, dtype=bool)\n",
        "\n",
        "    for t in range(T):\n",
        "        # compute choice probabilities\n",
        "        p = [b, 1 - b]\n",
        "\n",
        "        # make choice according to choice probabilities\n",
        "        a[t] = np.random.choice([0, 1], p=p)\n",
        "\n",
        "        # generate reward based on choice\n",
        "        r[t] = np.random.rand() < mu[a[t]]\n",
        "\n",
        "    return a, r\n"
      ]
    },
    {
      "cell_type": "code",
      "source": [
        "simulate_M1random_v1(100, [25,0],0.31)"
      ],
      "metadata": {
        "colab": {
          "base_uri": "https://localhost:8080/"
        },
        "id": "XDkiDBGXAsAE",
        "outputId": "4c804240-5419-46a6-bf35-e660854ed986"
      },
      "execution_count": null,
      "outputs": [
        {
          "output_type": "execute_result",
          "data": {
            "text/plain": [
              "(array([1, 1, 1, 0, 1, 1, 1, 1, 1, 0, 1, 1, 1, 1, 1, 0, 0, 1, 1, 1, 1, 1,\n",
              "        1, 1, 1, 0, 1, 1, 1, 1, 1, 1, 1, 0, 1, 1, 1, 1, 0, 1, 1, 1, 1, 1,\n",
              "        0, 1, 1, 0, 1, 0, 1, 0, 1, 1, 1, 0, 1, 0, 1, 1, 1, 1, 1, 1, 0, 1,\n",
              "        1, 1, 1, 1, 0, 1, 0, 1, 1, 1, 1, 1, 1, 0, 1, 1, 1, 1, 1, 1, 1, 1,\n",
              "        1, 0, 1, 1, 0, 1, 1, 1, 1, 1, 1, 1]),\n",
              " array([False, False, False,  True, False, False, False, False, False,\n",
              "         True, False, False, False, False, False,  True,  True, False,\n",
              "        False, False, False, False, False, False, False,  True, False,\n",
              "        False, False, False, False, False, False,  True, False, False,\n",
              "        False, False,  True, False, False, False, False, False,  True,\n",
              "        False, False,  True, False,  True, False,  True, False, False,\n",
              "        False,  True, False,  True, False, False, False, False, False,\n",
              "        False,  True, False, False, False, False, False,  True, False,\n",
              "         True, False, False, False, False, False, False,  True, False,\n",
              "        False, False, False, False, False, False, False, False,  True,\n",
              "        False, False,  True, False, False, False, False, False, False,\n",
              "        False]))"
            ]
          },
          "metadata": {},
          "execution_count": 73
        }
      ]
    },
    {
      "cell_type": "code",
      "source": [
        "import numpy as np\n",
        "\n",
        "def simulate_M2WSLS_v1(T, mu, epsilon):\n",
        "    a = np.zeros(T, dtype=int)\n",
        "    r = np.zeros(T, dtype=bool)\n",
        "\n",
        "    # last reward/action (initialize as nan)\n",
        "    rLast = np.nan\n",
        "    aLast = np.nan\n",
        "\n",
        "    for t in range(T):\n",
        "        # compute choice probabilities\n",
        "        if np.isnan(rLast):\n",
        "            # first trial choose randomly\n",
        "            p = [0.5, 0.5]\n",
        "        else:\n",
        "            # choice depends on last reward\n",
        "            if rLast == 1:\n",
        "                # win stay (with probability 1-epsilon)\n",
        "                p = [epsilon/2, epsilon/2]\n",
        "                p[aLast] = 1 - epsilon/2\n",
        "            else:\n",
        "                # lose shift (with probability 1-epsilon)\n",
        "                p = [(1-epsilon/2), (1-epsilon/2)]\n",
        "                p[aLast] = epsilon/2\n",
        "\n",
        "        # make choice according to choice probabilities\n",
        "        a[t] = np.random.choice([0, 1], p=p)\n",
        "\n",
        "        # generate reward based on choice\n",
        "        r[t] = np.random.rand() < mu[a[t]]\n",
        "\n",
        "        aLast = a[t]\n",
        "        rLast = r[t]\n",
        "\n",
        "    return a, r\n"
      ],
      "metadata": {
        "id": "h915ATv7Vf79"
      },
      "execution_count": null,
      "outputs": []
    },
    {
      "cell_type": "code",
      "source": [
        "simulate_M2WSLS_v1(100,[25,0],0.1)"
      ],
      "metadata": {
        "colab": {
          "base_uri": "https://localhost:8080/"
        },
        "id": "QhzDn5VY8Um9",
        "outputId": "974b2567-f243-490a-b48b-fefff30b618a"
      },
      "execution_count": null,
      "outputs": [
        {
          "output_type": "execute_result",
          "data": {
            "text/plain": [
              "(array([1, 0, 0, 0, 0, 0, 0, 0, 0, 0, 0, 0, 0, 0, 0, 0, 0, 0, 0, 0, 0, 0,\n",
              "        0, 1, 0, 0, 0, 0, 0, 0, 0, 0, 0, 0, 0, 0, 0, 0, 0, 0, 0, 0, 0, 0,\n",
              "        0, 0, 0, 0, 0, 0, 0, 0, 0, 0, 0, 0, 0, 0, 0, 0, 0, 0, 0, 0, 0, 0,\n",
              "        0, 0, 0, 0, 0, 0, 0, 0, 0, 0, 0, 0, 0, 0, 0, 0, 0, 0, 0, 0, 1, 0,\n",
              "        0, 0, 0, 0, 0, 0, 0, 0, 0, 0, 0, 0]),\n",
              " array([False,  True,  True,  True,  True,  True,  True,  True,  True,\n",
              "         True,  True,  True,  True,  True,  True,  True,  True,  True,\n",
              "         True,  True,  True,  True,  True, False,  True,  True,  True,\n",
              "         True,  True,  True,  True,  True,  True,  True,  True,  True,\n",
              "         True,  True,  True,  True,  True,  True,  True,  True,  True,\n",
              "         True,  True,  True,  True,  True,  True,  True,  True,  True,\n",
              "         True,  True,  True,  True,  True,  True,  True,  True,  True,\n",
              "         True,  True,  True,  True,  True,  True,  True,  True,  True,\n",
              "         True,  True,  True,  True,  True,  True,  True,  True,  True,\n",
              "         True,  True,  True,  True,  True, False,  True,  True,  True,\n",
              "         True,  True,  True,  True,  True,  True,  True,  True,  True,\n",
              "         True]))"
            ]
          },
          "metadata": {},
          "execution_count": 84
        }
      ]
    },
    {
      "cell_type": "code",
      "source": [
        "import numpy as np\n",
        "\n",
        "def simulate_M3RescorlaWagner_v1(T, mu, alpha, beta):\n",
        "    a = np.zeros(T, dtype=int)\n",
        "    r = np.zeros(T, dtype=bool)\n",
        "    Q = np.array([0.5, 0.5])\n",
        "\n",
        "    for t in range(T):\n",
        "        # compute choice probabilities\n",
        "        p = np.exp(beta * Q) / np.sum(np.exp(beta * Q))\n",
        "\n",
        "        # make choice according to choice probabilities\n",
        "        a[t] = np.random.choice([0, 1], p=p)\n",
        "\n",
        "        # generate reward based on choice\n",
        "        r[t] = np.random.rand() < mu[a[t]]\n",
        "\n",
        "        # update values\n",
        "        delta = r[t] - Q[a[t]]\n",
        "        Q[a[t]] = Q[a[t]] + alpha * delta\n",
        "\n",
        "    return a, r\n"
      ],
      "metadata": {
        "id": "jFFIABtlVf_D"
      },
      "execution_count": null,
      "outputs": []
    },
    {
      "cell_type": "code",
      "source": [
        "simulate_M3RescorlaWagner_v1(100, [25,0],0.1, 0.3)"
      ],
      "metadata": {
        "colab": {
          "base_uri": "https://localhost:8080/"
        },
        "id": "-lPO4qVB9KGO",
        "outputId": "d98dbfc2-0153-4b56-e482-afb9a040519d"
      },
      "execution_count": null,
      "outputs": [
        {
          "output_type": "execute_result",
          "data": {
            "text/plain": [
              "(array([0, 0, 0, 0, 0, 0, 0, 0, 0, 0, 1, 0, 1, 1, 0, 1, 0, 0, 0, 1, 1, 0,\n",
              "        0, 1, 1, 1, 0, 0, 0, 1, 0, 1, 0, 0, 1, 0, 0, 1, 0, 1, 1, 1, 0, 0,\n",
              "        1, 0, 0, 1, 0, 1, 1, 1, 1, 1, 1, 1, 0, 0, 1, 0, 0, 1, 0, 0, 0, 0,\n",
              "        1, 1, 1, 0, 1, 1, 1, 0, 0, 0, 1, 0, 1, 1, 1, 1, 0, 1, 0, 0, 0, 0,\n",
              "        0, 1, 0, 1, 1, 0, 0, 0, 0, 0, 1, 1]),\n",
              " array([ True,  True,  True,  True,  True,  True,  True,  True,  True,\n",
              "         True, False,  True, False, False,  True, False,  True,  True,\n",
              "         True, False, False,  True,  True, False, False, False,  True,\n",
              "         True,  True, False,  True, False,  True,  True, False,  True,\n",
              "         True, False,  True, False, False, False,  True,  True, False,\n",
              "         True,  True, False,  True, False, False, False, False, False,\n",
              "        False, False,  True,  True, False,  True,  True, False,  True,\n",
              "         True,  True,  True, False, False, False,  True, False, False,\n",
              "        False,  True,  True,  True, False,  True, False, False, False,\n",
              "        False,  True, False,  True,  True,  True,  True,  True, False,\n",
              "         True, False, False,  True,  True,  True,  True,  True, False,\n",
              "        False]))"
            ]
          },
          "metadata": {},
          "execution_count": 88
        }
      ]
    },
    {
      "cell_type": "code",
      "source": [
        "import numpy as np\n",
        "\n",
        "def simulate_M4ChoiceKernel_v1(T, mu, alpha_c, beta_c):\n",
        "    a = np.zeros(T, dtype=int)\n",
        "    r = np.zeros(T, dtype=bool)\n",
        "    CK = np.array([0, 0])\n",
        "\n",
        "    for t in range(T):\n",
        "        # compute choice probabilities\n",
        "        p = np.exp(beta_c * CK) / np.sum(np.exp(beta_c * CK))\n",
        "\n",
        "        # make choice according to choice probabilities\n",
        "        a[t] = np.random.choice([0, 1], p=p)\n",
        "\n",
        "        # generate reward based on choice\n",
        "        r[t] = np.random.rand() < mu[a[t]]\n",
        "\n",
        "        # update choice kernel\n",
        "        CK = (1 - alpha_c) * CK\n",
        "        CK[a[t]] = CK[a[t]] + alpha_c * 1\n",
        "\n",
        "    return a, r\n"
      ],
      "metadata": {
        "id": "DqWyrFrqVgCX"
      },
      "execution_count": null,
      "outputs": []
    },
    {
      "cell_type": "code",
      "source": [
        "simulate_M4ChoiceKernel_v1(100, [25,0], 0.01,0.5)"
      ],
      "metadata": {
        "colab": {
          "base_uri": "https://localhost:8080/"
        },
        "id": "F9abZDFa9Z9i",
        "outputId": "a4903d4d-0453-4557-efea-e147389510fe"
      },
      "execution_count": null,
      "outputs": [
        {
          "output_type": "execute_result",
          "data": {
            "text/plain": [
              "(array([0, 1, 1, 0, 0, 1, 0, 0, 1, 1, 0, 1, 1, 0, 1, 0, 0, 0, 0, 1, 1, 1,\n",
              "        1, 1, 0, 1, 0, 1, 1, 0, 0, 1, 0, 0, 0, 1, 0, 0, 1, 1, 1, 0, 1, 0,\n",
              "        0, 0, 1, 0, 1, 0, 1, 1, 1, 0, 0, 0, 1, 0, 0, 1, 0, 0, 1, 0, 0, 1,\n",
              "        1, 0, 1, 0, 1, 1, 1, 0, 0, 1, 0, 1, 0, 0, 1, 0, 1, 1, 1, 0, 1, 1,\n",
              "        1, 1, 0, 0, 1, 1, 1, 0, 0, 0, 0, 0]),\n",
              " array([ True, False, False,  True,  True, False,  True,  True, False,\n",
              "        False,  True, False, False,  True, False,  True,  True,  True,\n",
              "         True, False, False, False, False, False,  True, False,  True,\n",
              "        False, False,  True,  True, False,  True,  True,  True, False,\n",
              "         True,  True, False, False, False,  True, False,  True,  True,\n",
              "         True, False,  True, False,  True, False, False, False,  True,\n",
              "         True,  True, False,  True,  True, False,  True,  True, False,\n",
              "         True,  True, False, False,  True, False,  True, False, False,\n",
              "        False,  True,  True, False,  True, False,  True,  True, False,\n",
              "         True, False, False, False,  True, False, False, False, False,\n",
              "         True,  True, False, False, False,  True,  True,  True,  True,\n",
              "         True]))"
            ]
          },
          "metadata": {},
          "execution_count": 90
        }
      ]
    },
    {
      "cell_type": "code",
      "source": [
        "import numpy as np\n",
        "\n",
        "def simulate_M5RWCK_v1(T, mu, alpha, beta, alpha_c, beta_c):\n",
        "    a = np.zeros(T, dtype=int)\n",
        "    r = np.zeros(T, dtype=bool)\n",
        "    Q = np.array([0.5, 0.5])\n",
        "    CK = np.array([0, 0])\n",
        "\n",
        "    for t in range(T):\n",
        "        # compute choice probabilities\n",
        "        V = beta * Q + beta_c * CK\n",
        "        p = np.exp(V) / np.sum(np.exp(V))\n",
        "\n",
        "        # make choice according to choice probabilities\n",
        "        a[t] = np.random.choice([0, 1], p=p)\n",
        "\n",
        "        # generate reward based on choice\n",
        "        r[t] = np.random.rand() < mu[a[t]]\n",
        "\n",
        "        # update values\n",
        "        delta = r[t] - Q[a[t]]\n",
        "        Q[a[t]] = Q[a[t]] + alpha * delta\n",
        "\n",
        "        # update choice kernel\n",
        "        CK = (1 - alpha_c) * CK\n",
        "        CK[a[t]] = CK[a[t]] + alpha_c * 1\n",
        "\n",
        "    return a, r\n"
      ],
      "metadata": {
        "id": "zdiJ8frWVgFP"
      },
      "execution_count": null,
      "outputs": []
    },
    {
      "cell_type": "code",
      "source": [
        "simulate_M5RWCK_v1(100, [25,0], 0.1,0.3, 0.01,0.5)"
      ],
      "metadata": {
        "colab": {
          "base_uri": "https://localhost:8080/"
        },
        "id": "l3kQDhJ99ueY",
        "outputId": "4e44d35a-99a7-4e32-fa0e-8eb2055145e0"
      },
      "execution_count": null,
      "outputs": [
        {
          "output_type": "execute_result",
          "data": {
            "text/plain": [
              "(array([1, 1, 1, 1, 0, 1, 0, 1, 0, 1, 0, 1, 0, 1, 1, 0, 1, 1, 0, 0, 0, 1,\n",
              "        0, 1, 1, 0, 0, 0, 0, 1, 0, 0, 0, 0, 0, 0, 1, 0, 1, 0, 0, 1, 0, 0,\n",
              "        1, 1, 1, 1, 0, 0, 1, 0, 0, 0, 0, 0, 1, 1, 1, 1, 0, 0, 1, 1, 0, 0,\n",
              "        0, 0, 0, 1, 1, 1, 0, 1, 0, 0, 1, 0, 0, 0, 1, 1, 1, 1, 1, 0, 0, 0,\n",
              "        0, 1, 0, 1, 0, 0, 0, 0, 1, 0, 0, 0]),\n",
              " array([False, False, False, False,  True, False,  True, False,  True,\n",
              "        False,  True, False,  True, False, False,  True, False, False,\n",
              "         True,  True,  True, False,  True, False, False,  True,  True,\n",
              "         True,  True, False,  True,  True,  True,  True,  True,  True,\n",
              "        False,  True, False,  True,  True, False,  True,  True, False,\n",
              "        False, False, False,  True,  True, False,  True,  True,  True,\n",
              "         True,  True, False, False, False, False,  True,  True, False,\n",
              "        False,  True,  True,  True,  True,  True, False, False, False,\n",
              "         True, False,  True,  True, False,  True,  True,  True, False,\n",
              "        False, False, False, False,  True,  True,  True,  True, False,\n",
              "         True, False,  True,  True,  True,  True, False,  True,  True,\n",
              "         True]))"
            ]
          },
          "metadata": {},
          "execution_count": 92
        }
      ]
    },
    {
      "cell_type": "code",
      "source": [
        "import numpy as np\n",
        "\n",
        "def simulate_M6RescorlaWagnerBias_v1(T, mu, alpha, beta, Qbias):\n",
        "    a = np.zeros(T, dtype=int)\n",
        "    r = np.zeros(T, dtype=bool)\n",
        "    Q = np.array([0.5, 0.5])\n",
        "\n",
        "    for t in range(T):\n",
        "        # compute choice probabilities\n",
        "        V = Q.copy()\n",
        "        V[0] = V[0] + Qbias\n",
        "        p = np.exp(beta * V) / np.sum(np.exp(beta * V))\n",
        "\n",
        "        # make choice according to choice probabilities\n",
        "        a[t] = np.random.choice([0, 1], p=p)\n",
        "\n",
        "        # generate reward based on choice\n",
        "        r[t] = np.random.rand() < mu[a[t]]\n",
        "\n",
        "        # update values\n",
        "        delta = r[t] - Q[a[t]]\n",
        "        Q[a[t]] = Q[a[t]] + alpha * delta\n",
        "\n",
        "    return a, r\n"
      ],
      "metadata": {
        "id": "Y3iYXbACVgHp"
      },
      "execution_count": null,
      "outputs": []
    },
    {
      "cell_type": "code",
      "source": [
        "simulate_M6RescorlaWagnerBias_v1(100,[25,0], 0.1, 0.03,-10)"
      ],
      "metadata": {
        "colab": {
          "base_uri": "https://localhost:8080/"
        },
        "id": "fYXj2vHe-IZn",
        "outputId": "c1c691ed-d896-4749-8a13-8ccdf9b91db0"
      },
      "execution_count": null,
      "outputs": [
        {
          "output_type": "execute_result",
          "data": {
            "text/plain": [
              "(array([1, 0, 1, 1, 0, 0, 0, 0, 0, 0, 0, 1, 1, 0, 1, 1, 0, 0, 0, 1, 0, 1,\n",
              "        0, 0, 0, 1, 1, 0, 0, 1, 1, 0, 0, 1, 0, 1, 1, 1, 1, 0, 1, 1, 1, 1,\n",
              "        0, 0, 0, 1, 1, 1, 1, 1, 1, 0, 0, 0, 0, 1, 1, 1, 1, 1, 1, 0, 1, 1,\n",
              "        0, 1, 1, 1, 0, 0, 0, 1, 0, 0, 1, 1, 0, 0, 0, 0, 1, 1, 1, 0, 0, 1,\n",
              "        1, 1, 0, 1, 0, 1, 1, 1, 1, 1, 0, 1]),\n",
              " array([False,  True, False, False,  True,  True,  True,  True,  True,\n",
              "         True,  True, False, False,  True, False, False,  True,  True,\n",
              "         True, False,  True, False,  True,  True,  True, False, False,\n",
              "         True,  True, False, False,  True,  True, False,  True, False,\n",
              "        False, False, False,  True, False, False, False, False,  True,\n",
              "         True,  True, False, False, False, False, False, False,  True,\n",
              "         True,  True,  True, False, False, False, False, False, False,\n",
              "         True, False, False,  True, False, False, False,  True,  True,\n",
              "         True, False,  True,  True, False, False,  True,  True,  True,\n",
              "         True, False, False, False,  True,  True, False, False, False,\n",
              "         True, False,  True, False, False, False, False, False,  True,\n",
              "        False]))"
            ]
          },
          "metadata": {},
          "execution_count": 8
        }
      ]
    },
    {
      "cell_type": "code",
      "source": [
        "import numpy as np\n",
        "\n",
        "def simulate_fullRL_v1(alpha, beta, T):\n",
        "    a = np.zeros(T, dtype=int)\n",
        "    r = np.zeros(T, dtype=int)\n",
        "    s = np.zeros(T, dtype=int)\n",
        "\n",
        "    # values for each state\n",
        "    Q = np.zeros((3, 3))\n",
        "\n",
        "    for t in range(T):\n",
        "        s[t] = np.random.randint(0, 3)\n",
        "\n",
        "        # compute choice probabilities\n",
        "        p = np.exp(beta * Q[:, s[t]])\n",
        "        p = p / np.sum(p)\n",
        "\n",
        "        # choose\n",
        "        a[t] = np.random.choice([1, 2, 3], p=p)\n",
        "\n",
        "        # determine reward\n",
        "        if s[t] == 1 or s[t] == 2:\n",
        "            r[t] = int(a[t] == 1)\n",
        "        else:\n",
        "            r[t] = int(a[t] == 3)\n",
        "\n",
        "        # update values\n",
        "        Q[a[t] - 1, s[t] - 1] += alpha * (r[t] - Q[a[t] - 1, s[t] - 1])\n",
        "\n",
        "    return a, r, s\n"
      ],
      "metadata": {
        "id": "ISiqewJrVgKf"
      },
      "execution_count": null,
      "outputs": []
    },
    {
      "cell_type": "code",
      "source": [
        "simulate_fullRL_v1(0.01,0.03,100)"
      ],
      "metadata": {
        "colab": {
          "base_uri": "https://localhost:8080/"
        },
        "id": "m3PhPsbd-m38",
        "outputId": "f830bc01-de02-4779-d81e-fe64427a323b"
      },
      "execution_count": null,
      "outputs": [
        {
          "output_type": "execute_result",
          "data": {
            "text/plain": [
              "(array([2, 1, 1, 3, 3, 2, 3, 3, 3, 3, 3, 3, 1, 3, 3, 3, 3, 3, 2, 3, 3, 1,\n",
              "        2, 1, 2, 3, 2, 2, 2, 1, 2, 1, 1, 3, 3, 3, 2, 2, 2, 2, 1, 1, 2, 3,\n",
              "        2, 1, 3, 1, 1, 1, 3, 2, 1, 3, 3, 3, 2, 3, 1, 1, 2, 1, 2, 3, 2, 3,\n",
              "        1, 3, 1, 3, 1, 3, 2, 3, 3, 2, 2, 2, 2, 1, 1, 2, 1, 3, 3, 2, 1, 2,\n",
              "        3, 3, 2, 2, 3, 2, 3, 1, 2, 2, 2, 1]),\n",
              " array([0, 0, 1, 0, 0, 0, 0, 0, 0, 0, 0, 1, 1, 0, 0, 0, 1, 1, 0, 0, 0, 1,\n",
              "        0, 0, 0, 1, 0, 0, 0, 0, 0, 1, 1, 0, 0, 0, 0, 0, 0, 0, 1, 1, 0, 0,\n",
              "        0, 0, 0, 1, 1, 0, 0, 0, 0, 0, 0, 1, 0, 0, 0, 1, 0, 1, 0, 1, 0, 1,\n",
              "        1, 0, 1, 1, 0, 0, 0, 0, 1, 0, 0, 0, 0, 1, 1, 0, 1, 0, 1, 0, 1, 0,\n",
              "        0, 0, 0, 0, 1, 0, 1, 1, 0, 0, 0, 0]),\n",
              " array([2, 0, 2, 2, 2, 2, 2, 1, 2, 2, 1, 0, 2, 2, 2, 1, 0, 0, 1, 2, 1, 1,\n",
              "        2, 0, 2, 0, 1, 1, 2, 0, 2, 1, 2, 1, 1, 1, 2, 1, 2, 2, 2, 2, 2, 2,\n",
              "        1, 0, 1, 1, 1, 0, 2, 1, 0, 1, 1, 0, 1, 1, 0, 2, 1, 1, 2, 0, 1, 0,\n",
              "        2, 1, 2, 0, 0, 2, 2, 1, 0, 2, 1, 0, 2, 1, 1, 1, 2, 2, 0, 1, 2, 1,\n",
              "        2, 1, 1, 1, 0, 1, 0, 1, 1, 2, 2, 0]))"
            ]
          },
          "metadata": {},
          "execution_count": 2
        }
      ]
    },
    {
      "cell_type": "code",
      "source": [
        "import numpy as np\n",
        "\n",
        "def simulate_validationModel_v1(alpha, beta, T):\n",
        "    AA = np.zeros(T, dtype=int)\n",
        "    RR = np.zeros(T, dtype=int)\n",
        "    QQ = np.zeros((3, T))\n",
        "\n",
        "    Q = np.zeros(3)\n",
        "\n",
        "    for t in range(T):\n",
        "        s = np.random.randint(0, 3)\n",
        "\n",
        "        # compute choice probabilities\n",
        "        p = np.exp(beta * Q)\n",
        "        p = p / np.sum(p)\n",
        "\n",
        "        # choose\n",
        "        a = np.random.choice([1, 2, 3], p=p)\n",
        "\n",
        "        # determine reward\n",
        "        if s == 1 or s == 2:\n",
        "            r = int(a == 1)\n",
        "        else:\n",
        "            r = int(a == 3)\n",
        "\n",
        "        # update values\n",
        "        Q[a - 1] += alpha * (r - Q[a - 1])\n",
        "\n",
        "        QQ[:, t] = Q\n",
        "        AA[t] = a\n",
        "        RR[t] = r\n",
        "\n",
        "    return AA, RR, QQ\n"
      ],
      "metadata": {
        "id": "NOrnKCu2WKG3"
      },
      "execution_count": null,
      "outputs": []
    },
    {
      "cell_type": "code",
      "source": [],
      "metadata": {
        "id": "zCH05yxAAQRu"
      },
      "execution_count": null,
      "outputs": []
    },
    {
      "cell_type": "code",
      "source": [
        "simulate_validationModel_v1(0.01, 0.03, 100)"
      ],
      "metadata": {
        "colab": {
          "base_uri": "https://localhost:8080/"
        },
        "id": "H5dYDTwpAIGm",
        "outputId": "a0c1534b-0050-4128-87a9-e9712e7b2728"
      },
      "execution_count": null,
      "outputs": [
        {
          "output_type": "execute_result",
          "data": {
            "text/plain": [
              "(array([1, 2, 1, 1, 3, 1, 2, 3, 3, 2, 3, 3, 3, 2, 1, 2, 1, 3, 3, 2, 3, 3,\n",
              "        3, 2, 3, 2, 2, 1, 1, 3, 2, 1, 2, 2, 3, 2, 2, 2, 3, 1, 3, 3, 2, 3,\n",
              "        2, 1, 2, 2, 2, 3, 3, 2, 1, 2, 1, 2, 1, 1, 2, 2, 3, 3, 1, 2, 2, 2,\n",
              "        1, 3, 1, 3, 3, 2, 3, 2, 3, 3, 2, 3, 3, 1, 1, 3, 3, 1, 2, 1, 1, 2,\n",
              "        2, 1, 3, 3, 3, 1, 3, 2, 2, 2, 1, 1]),\n",
              " array([0, 0, 1, 0, 1, 1, 0, 1, 0, 0, 0, 1, 0, 0, 1, 0, 0, 0, 1, 0, 0, 0,\n",
              "        0, 0, 0, 0, 0, 1, 1, 0, 0, 1, 0, 0, 1, 0, 0, 0, 1, 1, 0, 0, 0, 0,\n",
              "        0, 1, 0, 0, 0, 0, 0, 0, 1, 0, 1, 0, 1, 1, 0, 0, 0, 1, 1, 0, 0, 0,\n",
              "        1, 1, 1, 1, 1, 0, 0, 0, 1, 0, 0, 0, 0, 1, 1, 1, 1, 0, 0, 1, 1, 0,\n",
              "        0, 1, 1, 0, 0, 1, 1, 0, 0, 0, 1, 1]),\n",
              " array([[0.        , 0.        , 0.01      , 0.0099    , 0.0099    ,\n",
              "         0.019801  , 0.019801  , 0.019801  , 0.019801  , 0.019801  ,\n",
              "         0.019801  , 0.019801  , 0.019801  , 0.019801  , 0.02960299,\n",
              "         0.02960299, 0.02930696, 0.02930696, 0.02930696, 0.02930696,\n",
              "         0.02930696, 0.02930696, 0.02930696, 0.02930696, 0.02930696,\n",
              "         0.02930696, 0.02930696, 0.03901389, 0.04862375, 0.04862375,\n",
              "         0.04862375, 0.05813751, 0.05813751, 0.05813751, 0.05813751,\n",
              "         0.05813751, 0.05813751, 0.05813751, 0.05813751, 0.06755614,\n",
              "         0.06755614, 0.06755614, 0.06755614, 0.06755614, 0.06755614,\n",
              "         0.07688058, 0.07688058, 0.07688058, 0.07688058, 0.07688058,\n",
              "         0.07688058, 0.07688058, 0.08611177, 0.08611177, 0.09525065,\n",
              "         0.09525065, 0.10429815, 0.11325517, 0.11325517, 0.11325517,\n",
              "         0.11325517, 0.11325517, 0.12212261, 0.12212261, 0.12212261,\n",
              "         0.12212261, 0.13090139, 0.13090139, 0.13959237, 0.13959237,\n",
              "         0.13959237, 0.13959237, 0.13959237, 0.13959237, 0.13959237,\n",
              "         0.13959237, 0.13959237, 0.13959237, 0.13959237, 0.14819645,\n",
              "         0.15671449, 0.15671449, 0.15671449, 0.15514734, 0.15514734,\n",
              "         0.16359587, 0.17195991, 0.17195991, 0.17195991, 0.18024031,\n",
              "         0.18024031, 0.18024031, 0.18024031, 0.18843791, 0.18843791,\n",
              "         0.18843791, 0.18843791, 0.18843791, 0.19655353, 0.20458799],\n",
              "        [0.        , 0.        , 0.        , 0.        , 0.        ,\n",
              "         0.        , 0.        , 0.        , 0.        , 0.        ,\n",
              "         0.        , 0.        , 0.        , 0.        , 0.        ,\n",
              "         0.        , 0.        , 0.        , 0.        , 0.        ,\n",
              "         0.        , 0.        , 0.        , 0.        , 0.        ,\n",
              "         0.        , 0.        , 0.        , 0.        , 0.        ,\n",
              "         0.        , 0.        , 0.        , 0.        , 0.        ,\n",
              "         0.        , 0.        , 0.        , 0.        , 0.        ,\n",
              "         0.        , 0.        , 0.        , 0.        , 0.        ,\n",
              "         0.        , 0.        , 0.        , 0.        , 0.        ,\n",
              "         0.        , 0.        , 0.        , 0.        , 0.        ,\n",
              "         0.        , 0.        , 0.        , 0.        , 0.        ,\n",
              "         0.        , 0.        , 0.        , 0.        , 0.        ,\n",
              "         0.        , 0.        , 0.        , 0.        , 0.        ,\n",
              "         0.        , 0.        , 0.        , 0.        , 0.        ,\n",
              "         0.        , 0.        , 0.        , 0.        , 0.        ,\n",
              "         0.        , 0.        , 0.        , 0.        , 0.        ,\n",
              "         0.        , 0.        , 0.        , 0.        , 0.        ,\n",
              "         0.        , 0.        , 0.        , 0.        , 0.        ,\n",
              "         0.        , 0.        , 0.        , 0.        , 0.        ],\n",
              "        [0.        , 0.        , 0.        , 0.        , 0.01      ,\n",
              "         0.01      , 0.01      , 0.0199    , 0.019701  , 0.019701  ,\n",
              "         0.01950399, 0.02930895, 0.02901586, 0.02901586, 0.02901586,\n",
              "         0.02901586, 0.02901586, 0.0287257 , 0.03843844, 0.03843844,\n",
              "         0.03805406, 0.03767352, 0.03729678, 0.03729678, 0.03692382,\n",
              "         0.03692382, 0.03692382, 0.03692382, 0.03692382, 0.03655458,\n",
              "         0.03655458, 0.03655458, 0.03655458, 0.03655458, 0.04618903,\n",
              "         0.04618903, 0.04618903, 0.04618903, 0.05572714, 0.05572714,\n",
              "         0.05516987, 0.05461817, 0.05461817, 0.05407199, 0.05407199,\n",
              "         0.05407199, 0.05407199, 0.05407199, 0.05407199, 0.05353127,\n",
              "         0.05299596, 0.05299596, 0.05299596, 0.05299596, 0.05299596,\n",
              "         0.05299596, 0.05299596, 0.05299596, 0.05299596, 0.05299596,\n",
              "         0.052466  , 0.06194134, 0.06194134, 0.06194134, 0.06194134,\n",
              "         0.06194134, 0.06194134, 0.07132193, 0.07132193, 0.08060871,\n",
              "         0.08980262, 0.08980262, 0.08890459, 0.08890459, 0.09801555,\n",
              "         0.09703539, 0.09703539, 0.09606504, 0.09510439, 0.09510439,\n",
              "         0.09510439, 0.10415334, 0.11311181, 0.11311181, 0.11311181,\n",
              "         0.11311181, 0.11311181, 0.11311181, 0.11311181, 0.11311181,\n",
              "         0.12198069, 0.12076088, 0.11955328, 0.11955328, 0.12835774,\n",
              "         0.12835774, 0.12835774, 0.12835774, 0.12835774, 0.12835774]]))"
            ]
          },
          "metadata": {},
          "execution_count": 4
        }
      ]
    },
    {
      "cell_type": "code",
      "source": [
        "import numpy as np\n",
        "\n",
        "def lik_M1random_v1(a, r, b):\n",
        "    T = len(a)\n",
        "\n",
        "    # Initialize an empty array to store choice probabilities\n",
        "    choiceProb = np.zeros(T)\n",
        "\n",
        "    # Loop over all trials\n",
        "    for t in range(T):\n",
        "        # Compute choice probabilities\n",
        "        p = [b, 1 - b]\n",
        "\n",
        "        # Compute choice probability for actual choice\n",
        "        choiceProb[t] = p[a[t]]\n",
        "\n",
        "    # Compute negative log-likelihood\n",
        "    NegLL = -np.sum(np.log(choiceProb))\n",
        "\n",
        "    return NegLL\n"
      ],
      "metadata": {
        "id": "qXioLk88WKJq"
      },
      "execution_count": null,
      "outputs": []
    },
    {
      "cell_type": "code",
      "source": [
        "lik_M1random_v1([1, 0, 1, 1, 1, 0, 1, 1, 1, 0, 1, 1, 1, 0, 0, 0, 1, 1, 0, 1, 0, 0,\n",
        "        0, 1, 0, 1, 0, 1, 1, 1, 1, 1, 1, 0, 1, 0, 1, 1, 0, 1, 1, 0, 0, 1,\n",
        "        0, 1, 1, 1, 1, 1, 1, 1, 0, 0, 1, 1, 1, 1, 0, 0, 1, 1, 1, 1, 1, 0,\n",
        "        0, 0, 0, 1, 0, 1, 1, 1, 0, 1, 1, 1, 1, 1, 1, 0, 0, 0, 0, 1, 1, 0,\n",
        "        1, 0, 0, 0, 1, 1, 1, 1, 1, 0, 1, 0], [ True, False, False, False, False, False,  True, False, False,\n",
        "        False, False, False, False,  True, False,  True, False, False,\n",
        "        False,  True, False, False, False,  True, False, False, False,\n",
        "         True, False, False,  True, False, False,  True,  True, False,\n",
        "         True, False, False,  True, False, False, False, False,  True,\n",
        "        False, False,  True, False, False, False, False, False,  True,\n",
        "         True,  True, False, False, False, False, False,  True, False,\n",
        "        False, False,  True,  True,  True, False, False, False, False,\n",
        "        False, False, False, False, False,  True,  True, False, False,\n",
        "        False, False, False, False,  True, False, False, False,  True,\n",
        "        False, False, False,  True, False, False, False, False, False,\n",
        "         True], 0.94)"
      ],
      "metadata": {
        "colab": {
          "base_uri": "https://localhost:8080/"
        },
        "id": "PPG2613jAbhs",
        "outputId": "a3913491-80d8-4c92-feee-53b0791843a5"
      },
      "execution_count": null,
      "outputs": [
        {
          "output_type": "execute_result",
          "data": {
            "text/plain": [
              "176.78272978040954"
            ]
          },
          "metadata": {},
          "execution_count": 42
        }
      ]
    },
    {
      "cell_type": "code",
      "source": [
        "import numpy as np\n",
        "\n",
        "def lik_M2WSLS_v1(a, r, epsilon):\n",
        "    T = len(a)\n",
        "    choiceProb = np.zeros(T)\n",
        "\n",
        "    # last reward/action (initialize as nan)\n",
        "    rLast = np.nan\n",
        "    aLast = np.nan\n",
        "\n",
        "    for t in range(T):\n",
        "        # compute choice probabilities\n",
        "        if np.isnan(rLast):\n",
        "            # first trial choose randomly\n",
        "            p = [0.5, 0.5]\n",
        "        else:\n",
        "            # choice depends on last reward\n",
        "            if rLast == 1:\n",
        "                # win stay (with probability 1-epsilon)\n",
        "                p = [epsilon/2, epsilon/2]\n",
        "                p[aLast] = 1 - epsilon/2\n",
        "            else:\n",
        "                # lose shift (with probability 1-epsilon)\n",
        "                p = [(1 - epsilon/2), (1 - epsilon/2)]\n",
        "                p[aLast] = epsilon/2\n",
        "\n",
        "        # compute choice probability for actual choice\n",
        "        choiceProb[t] = p[a[t]]\n",
        "\n",
        "        aLast = a[t]\n",
        "        rLast = r[t]\n",
        "\n",
        "    # compute negative log-likelihood\n",
        "    NegLL = -np.sum(np.log(choiceProb))\n",
        "\n",
        "    return NegLL\n"
      ],
      "metadata": {
        "id": "jhxru8xsWKMU"
      },
      "execution_count": null,
      "outputs": []
    },
    {
      "cell_type": "code",
      "source": [
        "lik_M2WSLS_v1([1, 0, 0, 0, 0, 0, 1, 0, 0, 0, 0, 0, 0, 1, 0, 0, 0, 0, 0, 0, 0, 0,0, 0, 0, 0, 0, 0, 0, 0, 0, 0, 0, 0, 0, 0, 0, 0, 0, 0, 0, 0, 0, 0,0, 0, 0, 0, 0, 0, 0, 0, 0, 0, 0, 0, 0, 0, 0, 0, 0, 1, 0, 0, 0, 0,0, 0, 0, 0, 0, 0, 0, 0, 0, 0, 0, 0, 0, 0, 0, 0, 0, 0, 0, 0, 1, 0, 0, 0, 0, 0, 0, 0, 0, 0, 0, 0, 0, 0], [False,  True,  True,  True,  True,  True, False,  True,  True,\n",
        "         True,  True,  True,  True, False,  True,  True,  True,  True,\n",
        "         True,  True,  True,  True,  True,  True,  True,  True,  True,\n",
        "         True,  True,  True,  True,  True,  True,  True,  True,  True,\n",
        "         True,  True,  True,  True,  True,  True,  True,  True,  True,\n",
        "         True,  True,  True,  True,  True,  True,  True,  True,  True,\n",
        "         True,  True,  True,  True,  True,  True,  True, False,  True,\n",
        "         True,  True,  True,  True,  True,  True,  True,  True,  True,\n",
        "         True,  True,  True,  True,  True,  True,  True,  True,  True,\n",
        "         True,  True,  True,  True,  True, False,  True,  True,  True,\n",
        "         True,  True,  True,  True,  True,  True,  True,  True,  True,\n",
        "         True],.8)"
      ],
      "metadata": {
        "colab": {
          "base_uri": "https://localhost:8080/"
        },
        "id": "66NmYRPmBMk5",
        "outputId": "e6410906-88e8-4952-8c9d-3752bc55dec1"
      },
      "execution_count": null,
      "outputs": [
        {
          "output_type": "execute_result",
          "data": {
            "text/plain": [
              "52.88674436582566"
            ]
          },
          "metadata": {},
          "execution_count": 37
        }
      ]
    },
    {
      "cell_type": "code",
      "source": [
        "import numpy as np\n",
        "\n",
        "def lik_M3RescorlaWagner_v1(a, r, alpha, beta):\n",
        "    Q = np.array([0.5, 0.5])\n",
        "    T = len(a)\n",
        "    choiceProb = np.zeros(T)\n",
        "\n",
        "    for t in range(T):\n",
        "        # compute choice probabilities\n",
        "        p = np.exp(beta * Q) / np.sum(np.exp(beta * Q))\n",
        "\n",
        "        # compute choice probability for actual choice\n",
        "        choiceProb[t] = p[a[t]]\n",
        "\n",
        "        # update values\n",
        "        delta = r[t] - Q[a[t]]\n",
        "        Q[a[t]] += alpha * delta\n",
        "\n",
        "    # compute negative log-likelihood\n",
        "    NegLL = -np.sum(np.log(choiceProb))\n",
        "\n",
        "    return NegLL\n"
      ],
      "metadata": {
        "id": "NX21aBQtWKO3"
      },
      "execution_count": null,
      "outputs": []
    },
    {
      "cell_type": "code",
      "source": [
        "lik_M3RescorlaWagner_v1([1, 1, 1, 1, 0, 0, 0, 0, 0, 1, 1, 1, 1, 0, 1, 1, 0, 0, 0, 0, 0, 1,\n",
        "        1, 0, 1, 0, 1, 0, 0, 0, 1, 1, 0, 0, 0, 1, 0, 0, 1, 1, 0, 0, 0, 1,\n",
        "        0, 0, 0, 0, 0, 1, 1, 0, 1, 1, 1, 0, 1, 0, 0, 1, 0, 0, 1, 1, 0, 1,\n",
        "        1, 1, 0, 0, 0, 0, 0, 1, 0, 1, 1, 0, 0, 0, 1, 1, 1, 0, 0, 0, 0, 0,\n",
        "        0, 0, 1, 0, 1, 1, 1, 1, 1, 0, 0, 0],[False, False, False, False,  True,  True,  True,  True,  True,\n",
        "        False, False, False, False,  True, False, False,  True,  True,\n",
        "         True,  True,  True, False, False,  True, False,  True, False,\n",
        "         True,  True,  True, False, False,  True,  True,  True, False,\n",
        "         True,  True, False, False,  True,  True,  True, False,  True,\n",
        "         True,  True,  True,  True, False, False,  True, False, False,\n",
        "        False,  True, False,  True,  True, False,  True,  True, False,\n",
        "        False,  True, False, False, False,  True,  True,  True,  True,\n",
        "         True, False,  True, False, False,  True,  True,  True, False,\n",
        "        False, False,  True,  True,  True,  True,  True,  True,  True,\n",
        "        False,  True, False, False, False, False, False,  True,  True,\n",
        "         True], 0.01, 0.03)"
      ],
      "metadata": {
        "colab": {
          "base_uri": "https://localhost:8080/"
        },
        "id": "lEB4Eg9HBmpl",
        "outputId": "b82ab33c-a85b-43a2-ca97-bc6eac0a5e92"
      },
      "execution_count": null,
      "outputs": [
        {
          "output_type": "execute_result",
          "data": {
            "text/plain": [
              "69.26817213899302"
            ]
          },
          "metadata": {},
          "execution_count": 6
        }
      ]
    },
    {
      "cell_type": "code",
      "source": [
        "import numpy as np\n",
        "\n",
        "def lik_M4CK_v1(a, r, alpha_c, beta_c):\n",
        "    CK = np.array([0, 0])\n",
        "    T = len(a)\n",
        "    choiceProb = np.zeros(T)\n",
        "\n",
        "    for t in range(T):\n",
        "        # compute choice probabilities\n",
        "        p = np.exp(beta_c * CK) / np.sum(np.exp(beta_c * CK))\n",
        "\n",
        "        # compute choice probability for actual choice\n",
        "        choiceProb[t] = p[a[t]]\n",
        "\n",
        "        # update choice kernel\n",
        "        CK = (1 - alpha_c) * CK\n",
        "        CK[a[t]] += alpha_c * 1\n",
        "    # compute negative log-likelihood\n",
        "    NegLL = -np.sum(np.log(choiceProb))\n",
        "\n",
        "    return NegLL\n"
      ],
      "metadata": {
        "id": "m_a_50lJWKRR"
      },
      "execution_count": null,
      "outputs": []
    },
    {
      "cell_type": "code",
      "source": [
        "lik_M4CK_v1([1, 0, 1, 0, 0, 1, 0, 1, 1, 0, 0, 0, 0, 1, 1, 0, 1, 1, 0, 0, 0, 1,\n",
        "        1, 1, 1, 1, 0, 0, 0, 1, 0, 0, 0, 1, 0, 1, 1, 0, 1, 1, 0, 1, 0, 0,\n",
        "        1, 0, 0, 0, 0, 1, 1, 1, 1, 0, 1, 1, 1, 0, 1, 1, 0, 1, 0, 1, 1, 1,\n",
        "        0, 1, 0, 1, 0, 0, 1, 1, 1, 1, 1, 0, 0, 1, 1, 1, 0, 1, 1, 0, 1, 0,\n",
        "        1, 0, 1, 0, 0, 0, 1, 0, 1, 1, 1, 1],[False,  True, False,  True,  True, False,  True, False, False,\n",
        "         True,  True,  True,  True, False, False,  True, False, False,\n",
        "         True,  True,  True, False, False, False, False, False,  True,\n",
        "         True,  True, False,  True,  True,  True, False,  True, False,\n",
        "        False,  True, False, False,  True, False,  True,  True, False,\n",
        "         True,  True,  True,  True, False, False, False, False,  True,\n",
        "        False, False, False,  True, False, False,  True, False,  True,\n",
        "        False, False, False,  True, False,  True, False,  True,  True,\n",
        "        False, False, False, False, False,  True,  True, False, False,\n",
        "        False,  True, False, False,  True, False,  True, False,  True,\n",
        "        False,  True,  True,  True, False,  True, False, False, False,\n",
        "        False], 0.1, 0.5)"
      ],
      "metadata": {
        "colab": {
          "base_uri": "https://localhost:8080/"
        },
        "id": "Kz-dvNoXIU_F",
        "outputId": "1078a832-62db-4ae8-af1b-dada79b75140"
      },
      "execution_count": null,
      "outputs": [
        {
          "output_type": "execute_result",
          "data": {
            "text/plain": [
              "69.77541926439152"
            ]
          },
          "metadata": {},
          "execution_count": 54
        }
      ]
    },
    {
      "cell_type": "code",
      "source": [
        "import numpy as np\n",
        "\n",
        "def lik_M5RWCK_v1(a, r, alpha, beta, alpha_c, beta_c):\n",
        "    Q = np.array([0.5, 0.5])\n",
        "    CK = np.array([0, 0])\n",
        "    T = len(a)\n",
        "    choiceProb = np.zeros(T)\n",
        "\n",
        "    for t in range(T):\n",
        "        # compute choice probabilities\n",
        "        V = beta * Q + beta_c * CK\n",
        "        p = np.exp(V) / np.sum(np.exp(V))\n",
        "\n",
        "        # compute choice probability for actual choice\n",
        "        choiceProb[t] = p[a[t]]\n",
        "\n",
        "        # update values\n",
        "        delta = r[t] - Q[a[t]]\n",
        "        Q[a[t]] += alpha * delta\n",
        "\n",
        "        # update choice kernel\n",
        "        CK = (1 - alpha_c) * CK\n",
        "        CK[a[t]] += alpha_c * 1\n",
        "\n",
        "    # compute negative log-likelihood\n",
        "    NegLL = -np.sum(np.log(choiceProb))\n",
        "\n",
        "    return NegLL\n"
      ],
      "metadata": {
        "id": "zySEKD28WKUm"
      },
      "execution_count": null,
      "outputs": []
    },
    {
      "cell_type": "code",
      "source": [
        "lik_M5RWCK_v1([1, 0, 1, 0, 1, 0, 1, 1, 1, 1, 1, 1, 0, 0, 1, 1, 0, 1, 0, 0, 1, 1,\n",
        "        0, 0, 0, 0, 0, 0, 1, 0, 0, 1, 0, 1, 0, 1, 0, 0, 1, 0, 1, 1, 0, 1,\n",
        "        0, 0, 0, 0, 1, 1, 1, 1, 1, 1, 1, 0, 0, 1, 0, 1, 0, 1, 1, 0, 1, 1,\n",
        "        0, 0, 0, 0, 1, 1, 1, 0, 0, 0, 1, 1, 1, 1, 0, 0, 0, 0, 1, 0, 0, 1,\n",
        "        1, 1, 1, 1, 1, 1, 1, 0, 0, 0, 1, 1],[False,  True, False,  True, False,  True, False, False, False,\n",
        "        False, False, False,  True,  True, False, False,  True, False,\n",
        "         True,  True, False, False,  True,  True,  True,  True,  True,\n",
        "         True, False,  True,  True, False,  True, False,  True, False,\n",
        "         True,  True, False,  True, False, False,  True, False,  True,\n",
        "         True,  True,  True, False, False, False, False, False, False,\n",
        "        False,  True,  True, False,  True, False,  True, False, False,\n",
        "         True, False, False,  True,  True,  True,  True, False, False,\n",
        "        False,  True,  True,  True, False, False, False, False,  True,\n",
        "         True,  True,  True, False,  True,  True, False, False, False,\n",
        "        False, False, False, False, False,  True,  True,  True, False,\n",
        "        False], 0.01, 0.03, 0.1, 0.5)"
      ],
      "metadata": {
        "colab": {
          "base_uri": "https://localhost:8080/"
        },
        "id": "FshX82n2Irx8",
        "outputId": "abecb3b3-ba49-4c2d-9fe9-9b910f9e279d"
      },
      "execution_count": null,
      "outputs": [
        {
          "output_type": "execute_result",
          "data": {
            "text/plain": [
              "69.67133333787213"
            ]
          },
          "metadata": {},
          "execution_count": 56
        }
      ]
    },
    {
      "cell_type": "code",
      "source": [
        "import numpy as np\n",
        "\n",
        "def lik_M6RescorlaWagnerBias_v1(a, r, alpha, beta, Qbias):\n",
        "    Q = np.array([0.5, 0.5])\n",
        "    T = len(a)\n",
        "    choiceProb = np.zeros(T)\n",
        "\n",
        "    for t in range(T):\n",
        "        # compute choice probabilities\n",
        "        V = Q.copy()\n",
        "        V[0] += Qbias\n",
        "        p = np.exp(beta * V) / np.sum(np.exp(beta * V))\n",
        "\n",
        "        # compute choice probability for actual choice\n",
        "        choiceProb[t] = p[a[t]]\n",
        "\n",
        "        # update values\n",
        "        delta = r[t] - Q[a[t]]\n",
        "        Q[a[t]] += alpha * delta\n",
        "\n",
        "    # compute negative log-likelihood\n",
        "    NegLL = -np.sum(np.log(choiceProb))\n",
        "\n",
        "    return NegLL\n"
      ],
      "metadata": {
        "id": "vigRgNRvWKcO"
      },
      "execution_count": null,
      "outputs": []
    },
    {
      "cell_type": "code",
      "source": [
        "lik_M6RescorlaWagnerBias_v1([1, 0, 1, 1, 0, 0, 0, 0, 0, 0, 0, 1, 1, 0, 1, 1, 0, 0, 0, 1, 0, 1,\n",
        "        0, 0, 0, 1, 1, 0, 0, 1, 1, 0, 0, 1, 0, 1, 1, 1, 1, 0, 1, 1, 1, 1,\n",
        "        0, 0, 0, 1, 1, 1, 1, 1, 1, 0, 0, 0, 0, 1, 1, 1, 1, 1, 1, 0, 1, 1,\n",
        "        0, 1, 1, 1, 0, 0, 0, 1, 0, 0, 1, 1, 0, 0, 0, 0, 1, 1, 1, 0, 0, 1,\n",
        "        1, 1, 0, 1, 0, 1, 1, 1, 1, 1, 0, 1],[False,  True, False, False,  True,  True,  True,  True,  True,\n",
        "         True,  True, False, False,  True, False, False,  True,  True,\n",
        "         True, False,  True, False,  True,  True,  True, False, False,\n",
        "         True,  True, False, False,  True,  True, False,  True, False,\n",
        "        False, False, False,  True, False, False, False, False,  True,\n",
        "         True,  True, False, False, False, False, False, False,  True,\n",
        "         True,  True,  True, False, False, False, False, False, False,\n",
        "         True, False, False,  True, False, False, False,  True,  True,\n",
        "         True, False,  True,  True, False, False,  True,  True,  True,\n",
        "         True, False, False, False,  True,  True, False, False, False,\n",
        "         True, False,  True, False, False, False, False, False,  True,\n",
        "        False], 0.1,0.5,10)"
      ],
      "metadata": {
        "colab": {
          "base_uri": "https://localhost:8080/"
        },
        "id": "OZeyXyhDJAoF",
        "outputId": "f2d6bbba-57fa-46d4-e0eb-6edb449929ae"
      },
      "execution_count": null,
      "outputs": [
        {
          "output_type": "execute_result",
          "data": {
            "text/plain": [
              "298.5289169432741"
            ]
          },
          "metadata": {},
          "execution_count": 12
        }
      ]
    },
    {
      "cell_type": "code",
      "source": [
        "import numpy as np\n",
        "\n",
        "def lik_fullRL_v1(a, r, s, alpha, beta):\n",
        "    Q = np.zeros((3, 3))\n",
        "    T = len(a)\n",
        "    choiceProb = np.zeros(T)\n",
        "    CP = np.zeros((3, T))\n",
        "\n",
        "    for t in range(T):\n",
        "        # compute choice probabilities\n",
        "        p = np.exp(beta * Q[:, s[t]])\n",
        "        p /= np.sum(p)\n",
        "        CP[:, t] = p\n",
        "\n",
        "        # compute probability of chosen option\n",
        "        choiceProb[t] = p[a[t]-1]\n",
        "\n",
        "        # update values\n",
        "        Q[a[t]-1, s[t]-1] += alpha * (r[t] - Q[a[t]-1, s[t]-1])\n",
        "\n",
        "    # compute negative log-likelihood\n",
        "    NegLL = -np.sum(np.log(choiceProb))\n",
        "\n",
        "    return NegLL, choiceProb, CP\n"
      ],
      "metadata": {
        "id": "NJjHFXAeVgNY"
      },
      "execution_count": null,
      "outputs": []
    },
    {
      "cell_type": "markdown",
      "source": [],
      "metadata": {
        "id": "Iwx_XUaXz_yP"
      }
    },
    {
      "cell_type": "code",
      "source": [
        "lik_fullRL_v1([2, 1, 1, 3, 3, 2, 3, 3, 3, 3, 3, 3, 1, 3, 3, 3, 3, 3, 2, 3, 3, 1,\n",
        "        2, 1, 2, 3, 2, 2, 2, 1, 2, 1, 1, 3, 3, 3, 2, 2, 2, 2, 1, 1, 2, 3,\n",
        "        2, 1, 3, 1, 1, 1, 3, 2, 1, 3, 3, 3, 2, 3, 1, 1, 2, 1, 2, 3, 2, 3,\n",
        "        1, 3, 1, 3, 1, 3, 2, 3, 3, 2, 2, 2, 2, 1, 1, 2, 1, 3, 3, 2, 1, 2,\n",
        "        3, 3, 2, 2, 3, 2, 3, 1, 2, 2, 2, 1],[0, 0, 1, 0, 0, 0, 0, 0, 0, 0, 0, 1, 1, 0, 0, 0, 1, 1, 0, 0, 0, 1,\n",
        "        0, 0, 0, 1, 0, 0, 0, 0, 0, 1, 1, 0, 0, 0, 0, 0, 0, 0, 1, 1, 0, 0,\n",
        "        0, 0, 0, 1, 1, 0, 0, 0, 0, 0, 0, 1, 0, 0, 0, 1, 0, 1, 0, 1, 0, 1,\n",
        "        1, 0, 1, 1, 0, 0, 0, 0, 1, 0, 0, 0, 0, 1, 1, 0, 1, 0, 1, 0, 1, 0,\n",
        "        0, 0, 0, 0, 1, 0, 1, 1, 0, 0, 0, 0],[2, 0, 2, 2, 2, 2, 2, 1, 2, 2, 1, 0, 2, 2, 2, 1, 0, 0, 1, 2, 1, 1,\n",
        "        2, 0, 2, 0, 1, 1, 2, 0, 2, 1, 2, 1, 1, 1, 2, 1, 2, 2, 2, 2, 2, 2,\n",
        "        1, 0, 1, 1, 1, 0, 2, 1, 0, 1, 1, 0, 1, 1, 0, 2, 1, 1, 2, 0, 1, 0,\n",
        "        2, 1, 2, 0, 0, 2, 2, 1, 0, 2, 1, 0, 2, 1, 1, 1, 2, 2, 0, 1, 2, 1,\n",
        "        2, 1, 1, 1, 0, 1, 0, 1, 1, 2, 2, 0],0.01,0.31)"
      ],
      "metadata": {
        "colab": {
          "base_uri": "https://localhost:8080/"
        },
        "id": "wLy0HqolJQYc",
        "outputId": "3044ebbd-6c00-450b-cd55-598bd705951d"
      },
      "execution_count": null,
      "outputs": [
        {
          "output_type": "execute_result",
          "data": {
            "text/plain": [
              "(109.9922832686384,\n",
              " array([0.33333333, 0.33333333, 0.33333333, 0.33333333, 0.33333333,\n",
              "        0.33333333, 0.33333333, 0.33298871, 0.33333333, 0.33333333,\n",
              "        0.33298871, 0.33333333, 0.33298871, 0.33402258, 0.33402258,\n",
              "        0.33264719, 0.33333333, 0.33333333, 0.33264719, 0.33538253,\n",
              "        0.33264719, 0.33470563, 0.33230873, 0.33402258, 0.33230873,\n",
              "        0.33298871, 0.33264719, 0.33264719, 0.33197333, 0.33402258,\n",
              "        0.33197333, 0.33470563, 0.33197333, 0.33230873, 0.33230873,\n",
              "        0.33230873, 0.33197333, 0.33230873, 0.33197333, 0.33197333,\n",
              "        0.33197333, 0.33197333, 0.33197333, 0.33605333, 0.33164096,\n",
              "        0.33470563, 0.33164096, 0.33671808, 0.33671808, 0.33605333,\n",
              "        0.33605333, 0.33164096, 0.33605333, 0.33164096, 0.33164096,\n",
              "        0.33197333, 0.33164096, 0.33164096, 0.33605333, 0.33164096,\n",
              "        0.33131159, 0.33737682, 0.33164096, 0.33164096, 0.33131159,\n",
              "        0.33164096, 0.33098521, 0.33098521, 0.33098521, 0.33164096,\n",
              "        0.33671808, 0.33867644, 0.33066178, 0.33066178, 0.33164096,\n",
              "        0.33034129, 0.33066178, 0.33164096, 0.33034129, 0.33867644,\n",
              "        0.33867644, 0.33066178, 0.33034129, 0.33931741, 0.33098521,\n",
              "        0.33034129, 0.33002372, 0.33002372, 0.33995256, 0.33002372,\n",
              "        0.33002372, 0.33002372, 0.33098521, 0.33002372, 0.33098521,\n",
              "        0.33995256, 0.33002372, 0.32939722, 0.32939722, 0.33867644]),\n",
              " array([[0.33333333, 0.33333333, 0.33333333, 0.33333333, 0.33333333,\n",
              "         0.33333333, 0.33333333, 0.33402258, 0.33333333, 0.33333333,\n",
              "         0.33402258, 0.33333333, 0.33298871, 0.33298871, 0.33298871,\n",
              "         0.33470563, 0.33333333, 0.33333333, 0.33470563, 0.33230873,\n",
              "         0.33470563, 0.33470563, 0.33230873, 0.33402258, 0.33230873,\n",
              "         0.33402258, 0.33470563, 0.33470563, 0.33197333, 0.33402258,\n",
              "         0.33197333, 0.33470563, 0.33197333, 0.33538253, 0.33538253,\n",
              "         0.33538253, 0.33197333, 0.33538253, 0.33197333, 0.33197333,\n",
              "         0.33197333, 0.33197333, 0.33197333, 0.33197333, 0.33671808,\n",
              "         0.33470563, 0.33671808, 0.33671808, 0.33671808, 0.33605333,\n",
              "         0.33197333, 0.33671808, 0.33605333, 0.33671808, 0.33671808,\n",
              "         0.33605333, 0.33671808, 0.33671808, 0.33605333, 0.33164096,\n",
              "         0.33737682, 0.33737682, 0.33164096, 0.33671808, 0.33737682,\n",
              "         0.33671808, 0.33098521, 0.33802959, 0.33098521, 0.33671808,\n",
              "         0.33671808, 0.33066178, 0.33066178, 0.33867644, 0.33671808,\n",
              "         0.33034129, 0.33867644, 0.33671808, 0.33034129, 0.33867644,\n",
              "         0.33867644, 0.33867644, 0.33034129, 0.33034129, 0.33802959,\n",
              "         0.33931741, 0.33002372, 0.33995256, 0.33002372, 0.33995256,\n",
              "         0.33995256, 0.33995256, 0.33802959, 0.33995256, 0.33802959,\n",
              "         0.33995256, 0.33995256, 0.32939722, 0.32939722, 0.33867644],\n",
              "        [0.33333333, 0.33333333, 0.33333333, 0.33333333, 0.33333333,\n",
              "         0.33333333, 0.33333333, 0.33298871, 0.33333333, 0.33333333,\n",
              "         0.33298871, 0.33333333, 0.33298871, 0.33298871, 0.33298871,\n",
              "         0.33264719, 0.33333333, 0.33333333, 0.33264719, 0.33230873,\n",
              "         0.33264719, 0.33264719, 0.33230873, 0.33298871, 0.33230873,\n",
              "         0.33298871, 0.33264719, 0.33264719, 0.33197333, 0.33298871,\n",
              "         0.33197333, 0.33264719, 0.33197333, 0.33230873, 0.33230873,\n",
              "         0.33230873, 0.33197333, 0.33230873, 0.33197333, 0.33197333,\n",
              "         0.33197333, 0.33197333, 0.33197333, 0.33197333, 0.33164096,\n",
              "         0.33264719, 0.33164096, 0.33164096, 0.33164096, 0.33197333,\n",
              "         0.33197333, 0.33164096, 0.33197333, 0.33164096, 0.33164096,\n",
              "         0.33197333, 0.33164096, 0.33164096, 0.33197333, 0.33164096,\n",
              "         0.33131159, 0.33131159, 0.33164096, 0.33164096, 0.33131159,\n",
              "         0.33164096, 0.33098521, 0.33098521, 0.33098521, 0.33164096,\n",
              "         0.33164096, 0.33066178, 0.33066178, 0.33066178, 0.33164096,\n",
              "         0.33034129, 0.33066178, 0.33164096, 0.33034129, 0.33066178,\n",
              "         0.33066178, 0.33066178, 0.33034129, 0.33034129, 0.33098521,\n",
              "         0.33034129, 0.33002372, 0.33002372, 0.33002372, 0.33002372,\n",
              "         0.33002372, 0.33002372, 0.33098521, 0.33002372, 0.33098521,\n",
              "         0.33002372, 0.33002372, 0.32939722, 0.32939722, 0.33066178],\n",
              "        [0.33333333, 0.33333333, 0.33333333, 0.33333333, 0.33333333,\n",
              "         0.33333333, 0.33333333, 0.33298871, 0.33333333, 0.33333333,\n",
              "         0.33298871, 0.33333333, 0.33402258, 0.33402258, 0.33402258,\n",
              "         0.33264719, 0.33333333, 0.33333333, 0.33264719, 0.33538253,\n",
              "         0.33264719, 0.33264719, 0.33538253, 0.33298871, 0.33538253,\n",
              "         0.33298871, 0.33264719, 0.33264719, 0.33605333, 0.33298871,\n",
              "         0.33605333, 0.33264719, 0.33605333, 0.33230873, 0.33230873,\n",
              "         0.33230873, 0.33605333, 0.33230873, 0.33605333, 0.33605333,\n",
              "         0.33605333, 0.33605333, 0.33605333, 0.33605333, 0.33164096,\n",
              "         0.33264719, 0.33164096, 0.33164096, 0.33164096, 0.33197333,\n",
              "         0.33605333, 0.33164096, 0.33197333, 0.33164096, 0.33164096,\n",
              "         0.33197333, 0.33164096, 0.33164096, 0.33197333, 0.33671808,\n",
              "         0.33131159, 0.33131159, 0.33671808, 0.33164096, 0.33131159,\n",
              "         0.33164096, 0.33802959, 0.33098521, 0.33802959, 0.33164096,\n",
              "         0.33164096, 0.33867644, 0.33867644, 0.33066178, 0.33164096,\n",
              "         0.33931741, 0.33066178, 0.33164096, 0.33931741, 0.33066178,\n",
              "         0.33066178, 0.33066178, 0.33931741, 0.33931741, 0.33098521,\n",
              "         0.33034129, 0.33995256, 0.33002372, 0.33995256, 0.33002372,\n",
              "         0.33002372, 0.33002372, 0.33098521, 0.33002372, 0.33098521,\n",
              "         0.33002372, 0.33002372, 0.34120555, 0.34120555, 0.33066178]]))"
            ]
          },
          "metadata": {},
          "execution_count": 20
        }
      ]
    },
    {
      "cell_type": "code",
      "source": [
        "import numpy as np\n",
        "\n",
        "def analysis_WSLS_v1(a, r):\n",
        "    aLast = np.concatenate(([np.nan], a[:-1]))\n",
        "    stay = aLast == a\n",
        "    rLast = np.concatenate(([np.nan], r[:-1]))\n",
        "\n",
        "    winStay = np.nanmean(stay[rLast == 1])\n",
        "    loseStay = np.nanmean(stay[rLast == 0])\n",
        "    out = [loseStay, winStay]\n",
        "\n",
        "    return out\n"
      ],
      "metadata": {
        "id": "mfKngymyVgQ7"
      },
      "execution_count": null,
      "outputs": []
    },
    {
      "cell_type": "code",
      "source": [
        "analysis_WSLS_v1([1, 0, 0, 0, 0, 0, 1, 0, 0, 0, 0, 0, 0, 1, 0, 0, 0, 0, 0, 0, 0, 0,\n",
        "        0, 0, 0, 0, 0, 0, 0, 0, 0, 0, 0, 0, 0, 0, 0, 0, 0, 0, 0, 0, 0, 0,\n",
        "        0, 0, 0, 0, 0, 0, 0, 0, 0, 0, 0, 0, 0, 0, 0, 0, 0, 1, 0, 0, 0, 0,\n",
        "        0, 0, 0, 0, 0, 0, 0, 0, 0, 0, 0, 0, 0, 0, 0, 0, 0, 0, 0, 0, 1, 0,\n",
        "        0, 0, 0, 0, 0, 0, 0, 0, 0, 0, 0, 0],[False,  True,  True,  True,  True,  True, False,  True,  True,\n",
        "         True,  True,  True,  True, False,  True,  True,  True,  True,\n",
        "         True,  True,  True,  True,  True,  True,  True,  True,  True,\n",
        "         True,  True,  True,  True,  True,  True,  True,  True,  True,\n",
        "         True,  True,  True,  True,  True,  True,  True,  True,  True,\n",
        "         True,  True,  True,  True,  True,  True,  True,  True,  True,\n",
        "         True,  True,  True,  True,  True,  True,  True, False,  True,\n",
        "         True,  True,  True,  True,  True,  True,  True,  True,  True,\n",
        "         True,  True,  True,  True,  True,  True,  True,  True,  True,\n",
        "         True,  True,  True,  True,  True, False,  True,  True,  True,\n",
        "         True,  True,  True,  True,  True,  True,  True,  True,  True,\n",
        "         True])"
      ],
      "metadata": {
        "colab": {
          "base_uri": "https://localhost:8080/"
        },
        "id": "p3fGYcdYJ95R",
        "outputId": "55dcf456-934a-4ded-f673-b1974dcadf72"
      },
      "execution_count": null,
      "outputs": [
        {
          "output_type": "execute_result",
          "data": {
            "text/plain": [
              "[0.0, 0.9574468085106383]"
            ]
          },
          "metadata": {},
          "execution_count": 111
        }
      ]
    },
    {
      "cell_type": "code",
      "source": [
        "import numpy as np\n",
        "from scipy.optimize import minimize\n",
        "\n",
        "def fit_M1random_v1(a, r):\n",
        "    obFunc = lambda x: lik_M1random_v1(a, r, x)\n",
        "\n",
        "    X0 = np.random.rand()\n",
        "    bounds = [(0, 1)]\n",
        "\n",
        "    result = minimize(obFunc, X0, bounds=bounds)\n",
        "    Xfit = result.x[0]\n",
        "    NegLL = result.fun\n",
        "\n",
        "    LL = -NegLL\n",
        "    BIC = np.log(len(a)) + 2 * NegLL\n",
        "\n",
        "    return X0,Xfit, LL, BIC\n",
        "\n"
      ],
      "metadata": {
        "id": "SQSqP8j1Xncb"
      },
      "execution_count": null,
      "outputs": []
    },
    {
      "cell_type": "code",
      "source": [
        "fit_M1random_v1([1, 0, 1, 1, 1, 0, 1, 1, 1, 0, 1, 1, 1, 0, 0, 0, 1, 1, 0, 1, 0, 0,\n",
        "        0, 1, 0, 1, 0, 1, 1, 1, 1, 1, 1, 0, 1, 0, 1, 1, 0, 1, 1, 0, 0, 1,\n",
        "        0, 1, 1, 1, 1, 1, 1, 1, 0, 0, 1, 1, 1, 1, 0, 0, 1, 1, 1, 1, 1, 0,\n",
        "        0, 0, 0, 1, 0, 1, 1, 1, 0, 1, 1, 1, 1, 1, 1, 0, 0, 0, 0, 1, 1, 0,\n",
        "        1, 0, 0, 0, 1, 1, 1, 1, 1, 0, 1, 0],[False,  True, False, False, False,  True, False, False, False,\n",
        "         True, False, False, False,  True,  True,  True, False, False,\n",
        "         True, False,  True,  True,  True, False,  True, False,  True,\n",
        "        False, False, False, False, False, False,  True, False,  True,\n",
        "        False, False,  True, False, False,  True,  True, False,  True,\n",
        "        False, False, False, False, False, False, False,  True,  True,\n",
        "        False, False, False, False,  True,  True, False, False, False,\n",
        "        False, False,  True,  True,  True,  True, False,  True, False,\n",
        "        False, False,  True, False, False, False, False, False, False,\n",
        "         True,  True,  True,  True, False, False,  True, False,  True,\n",
        "         True,  True, False, False, False, False, False,  True, False,\n",
        "         True])"
      ],
      "metadata": {
        "colab": {
          "base_uri": "https://localhost:8080/"
        },
        "id": "8JoeTqSlKB1L",
        "outputId": "44fe58cb-8a01-437a-9fdc-76fe792bce91"
      },
      "execution_count": null,
      "outputs": [
        {
          "output_type": "stream",
          "name": "stderr",
          "text": [
            "<ipython-input-30-06965077acba>:18: RuntimeWarning: divide by zero encountered in log\n",
            "  NegLL = -np.sum(np.log(choiceProb))\n"
          ]
        },
        {
          "output_type": "execute_result",
          "data": {
            "text/plain": [
              "(0.9466293195722313,\n",
              " 0.9466293195722313,\n",
              " -183.77482400695789,\n",
              " 372.15481819990384)"
            ]
          },
          "metadata": {},
          "execution_count": 40
        }
      ]
    },
    {
      "cell_type": "code",
      "source": [
        "import numpy as np\n",
        "from scipy.optimize import minimize\n",
        "\n",
        "def fit_M2WSLS_v1(a, r):\n",
        "    obFunc = lambda x: lik_M2WSLS_v1(a, r, x)\n",
        "\n",
        "    X0 = [np.random.rand()]\n",
        "    bounds = [(0, 1)]\n",
        "\n",
        "    result = minimize(obFunc, X0, bounds=bounds)\n",
        "    Xfit = result.x[0]\n",
        "    NegLL = result.fun\n",
        "\n",
        "    LL = -NegLL\n",
        "    BIC = len(X0)* np.log(len(a)) + 2 * NegLL\n",
        "\n",
        "    return Xfit, LL, BIC\n"
      ],
      "metadata": {
        "id": "n_U44DnCXnfI"
      },
      "execution_count": null,
      "outputs": []
    },
    {
      "cell_type": "code",
      "source": [
        "fit_M2WSLS_v1([1, 0, 0, 0, 0, 0, 1, 0, 0, 0, 0, 0, 0, 1, 0, 0, 0, 0, 0, 0, 0, 0,\n",
        "        0, 0, 0, 0, 0, 0, 0, 0, 0, 0, 0, 0, 0, 0, 0, 0, 0, 0, 0, 0, 0, 0,\n",
        "        0, 0, 0, 0, 0, 0, 0, 0, 0, 0, 0, 0, 0, 0, 0, 0, 0, 1, 0, 0, 0, 0,\n",
        "        0, 0, 0, 0, 0, 0, 0, 0, 0, 0, 0, 0, 0, 0, 0, 0, 0, 0, 0, 0, 1, 0,\n",
        "        0, 0, 0, 0, 0, 0, 0, 0, 0, 0, 0, 0],[False,  True,  True,  True,  True,  True, False,  True,  True,\n",
        "         True,  True,  True,  True, False,  True,  True,  True,  True,\n",
        "         True,  True,  True,  True,  True,  True,  True,  True,  True,\n",
        "         True,  True,  True,  True,  True,  True,  True,  True,  True,\n",
        "         True,  True,  True,  True,  True,  True,  True,  True,  True,\n",
        "         True,  True,  True,  True,  True,  True,  True,  True,  True,\n",
        "         True,  True,  True,  True,  True,  True,  True, False,  True,\n",
        "         True,  True,  True,  True,  True,  True,  True,  True,  True,\n",
        "         True,  True,  True,  True,  True,  True,  True,  True,  True,\n",
        "         True,  True,  True,  True,  True, False,  True,  True,  True,\n",
        "         True,  True,  True,  True,  True,  True,  True,  True,  True,\n",
        "         True])"
      ],
      "metadata": {
        "id": "pPIRUt_YMAvz",
        "colab": {
          "base_uri": "https://localhost:8080/"
        },
        "outputId": "d4c738db-0298-4ad6-a3c4-b8d755ba73d0"
      },
      "execution_count": null,
      "outputs": [
        {
          "output_type": "stream",
          "name": "stderr",
          "text": [
            "<ipython-input-51-4bf3cfbf455d>:34: RuntimeWarning: divide by zero encountered in log\n",
            "  NegLL = -np.sum(np.log(choiceProb))\n"
          ]
        },
        {
          "output_type": "execute_result",
          "data": {
            "text/plain": [
              "(0.4903134063162019, -33.034862840323925, 70.67489586663594)"
            ]
          },
          "metadata": {},
          "execution_count": 75
        }
      ]
    },
    {
      "cell_type": "code",
      "source": [
        "import numpy as np\n",
        "from scipy.optimize import minimize\n",
        "\n",
        "def fit_M3RescorlaWagner_v1(a, r):\n",
        "    obFunc = lambda x: lik_M3RescorlaWagner_v1(a, r, x[0], x[1])\n",
        "\n",
        "    X0 = [np.random.rand(), np.random.exponential(1)]\n",
        "    bounds = [(0, 1), (0, np.inf)]\n",
        "\n",
        "    result = minimize(obFunc, X0, bounds=bounds)\n",
        "    Xfit = result.x\n",
        "    NegLL = result.fun\n",
        "\n",
        "    LL = -NegLL\n",
        "    BIC = len(X0)* np.log(len(a)) + 2 * NegLL\n",
        "\n",
        "    return Xfit, LL, BIC\n"
      ],
      "metadata": {
        "id": "_GsJwl2KXnhy"
      },
      "execution_count": null,
      "outputs": []
    },
    {
      "cell_type": "code",
      "source": [
        "fit_M3RescorlaWagner_v1([1, 1, 1, 1, 0, 0, 0, 0, 0, 1, 1, 1, 1, 0, 1, 1, 0, 0, 0, 0, 0, 1,\n",
        "        1, 0, 1, 0, 1, 0, 0, 0, 1, 1, 0, 0, 0, 1, 0, 0, 1, 1, 0, 0, 0, 1,\n",
        "        0, 0, 0, 0, 0, 1, 1, 0, 1, 1, 1, 0, 1, 0, 0, 1, 0, 0, 1, 1, 0, 1,\n",
        "        1, 1, 0, 0, 0, 0, 0, 1, 0, 1, 1, 0, 0, 0, 1, 1, 1, 0, 0, 0, 0, 0,\n",
        "        0, 0, 1, 0, 1, 1, 1, 1, 1, 0, 0, 0],[False, False, False, False,  True,  True,  True,  True,  True,\n",
        "        False, False, False, False,  True, False, False,  True,  True,\n",
        "         True,  True,  True, False, False,  True, False,  True, False,\n",
        "         True,  True,  True, False, False,  True,  True,  True, False,\n",
        "         True,  True, False, False,  True,  True,  True, False,  True,\n",
        "         True,  True,  True,  True, False, False,  True, False, False,\n",
        "        False,  True, False,  True,  True, False,  True,  True, False,\n",
        "        False,  True, False, False, False,  True,  True,  True,  True,\n",
        "         True, False,  True, False, False,  True,  True,  True, False,\n",
        "        False, False,  True,  True,  True,  True,  True,  True,  True,\n",
        "        False,  True, False, False, False, False, False,  True,  True,\n",
        "         True])"
      ],
      "metadata": {
        "id": "Y-SQziy4MIFf",
        "colab": {
          "base_uri": "https://localhost:8080/"
        },
        "outputId": "8eeb1931-ce1f-4e74-87fa-888de0bd7c41"
      },
      "execution_count": null,
      "outputs": [
        {
          "output_type": "execute_result",
          "data": {
            "text/plain": [
              "(array([0., 0.]), -69.31471805599453, 147.83977648396524)"
            ]
          },
          "metadata": {},
          "execution_count": 106
        }
      ]
    },
    {
      "cell_type": "code",
      "source": [
        "import numpy as np\n",
        "from scipy.optimize import minimize\n",
        "\n",
        "def fit_M4CK_v1(a, r):\n",
        "    obFunc = lambda x: lik_M4CK_v1(a, r, x[0], x[1])\n",
        "\n",
        "    X0 = [np.random.rand(), 0.5 + np.random.exponential(1)]\n",
        "    bounds = [(0, 1), (0, np.inf)]\n",
        "\n",
        "    result = minimize(obFunc, X0, bounds=bounds)\n",
        "    Xfit = result.x\n",
        "    NegLL = result.fun\n",
        "\n",
        "    LL = -NegLL\n",
        "    BIC = len(X0) * np.log(len(a)) + 2 * NegLL\n",
        "\n",
        "    return Xfit, LL, BIC\n"
      ],
      "metadata": {
        "id": "VGC9Q4okXnku"
      },
      "execution_count": null,
      "outputs": []
    },
    {
      "cell_type": "code",
      "source": [
        "fit_M4CK_v1([1, 0, 1, 0, 0, 1, 0, 1, 1, 0, 0, 0, 0, 1, 1, 0, 1, 1, 0, 0, 0, 1,\n",
        "        1, 1, 1, 1, 0, 0, 0, 1, 0, 0, 0, 1, 0, 1, 1, 0, 1, 1, 0, 1, 0, 0,\n",
        "        1, 0, 0, 0, 0, 1, 1, 1, 1, 0, 1, 1, 1, 0, 1, 1, 0, 1, 0, 1, 1, 1,\n",
        "        0, 1, 0, 1, 0, 0, 1, 1, 1, 1, 1, 0, 0, 1, 1, 1, 0, 1, 1, 0, 1, 0,\n",
        "        1, 0, 1, 0, 0, 0, 1, 0, 1, 1, 1, 1],[False,  True, False,  True,  True, False,  True, False, False,\n",
        "         True,  True,  True,  True, False, False,  True, False, False,\n",
        "         True,  True,  True, False, False, False, False, False,  True,\n",
        "         True,  True, False,  True,  True,  True, False,  True, False,\n",
        "        False,  True, False, False,  True, False,  True,  True, False,\n",
        "         True,  True,  True,  True, False, False, False, False,  True,\n",
        "        False, False, False,  True, False, False,  True, False,  True,\n",
        "        False, False, False,  True, False,  True, False,  True,  True,\n",
        "        False, False, False, False, False,  True,  True, False, False,\n",
        "        False,  True, False, False,  True, False,  True, False,  True,\n",
        "        False,  True,  True,  True, False,  True, False, False, False,\n",
        "        False])"
      ],
      "metadata": {
        "id": "Dwy1_SEnMLF9",
        "colab": {
          "base_uri": "https://localhost:8080/"
        },
        "outputId": "5a546851-229a-4c7f-e0c8-d8b84793f91b"
      },
      "execution_count": null,
      "outputs": [
        {
          "output_type": "execute_result",
          "data": {
            "text/plain": [
              "(array([0., 0.]), -69.31471805599453, 147.83977648396524)"
            ]
          },
          "metadata": {},
          "execution_count": 82
        }
      ]
    },
    {
      "cell_type": "code",
      "source": [
        "import numpy as np\n",
        "from scipy.optimize import minimize\n",
        "\n",
        "def fit_M5RWCK_v1(a, r):\n",
        "    obFunc = lambda x: lik_M5RWCK_v1(a, r, x[0], x[1], x[2], x[3])\n",
        "\n",
        "    X0 = [np.random.rand(), np.random.exponential(1), np.random.rand(), 0.5 + np.random.exponential(1)]\n",
        "    bounds = [(0, 1), (0, np.inf), (0, 1), (0, np.inf)]\n",
        "\n",
        "    result = minimize(obFunc, X0, bounds=bounds)\n",
        "    Xfit = result.x\n",
        "    NegLL = result.fun\n",
        "\n",
        "    LL = -NegLL\n",
        "    BIC = len(X0) * np.log(len(a)) + 2 * NegLL\n",
        "\n",
        "    return Xfit, LL, BIC\n"
      ],
      "metadata": {
        "id": "SJfGsQQwXnm6"
      },
      "execution_count": null,
      "outputs": []
    },
    {
      "cell_type": "code",
      "source": [
        "fit_M5RWCK_v1([1, 0, 1, 0, 1, 0, 1, 1, 1, 1, 1, 1, 0, 0, 1, 1, 0, 1, 0, 0, 1, 1,\n",
        "        0, 0, 0, 0, 0, 0, 1, 0, 0, 1, 0, 1, 0, 1, 0, 0, 1, 0, 1, 1, 0, 1,\n",
        "        0, 0, 0, 0, 1, 1, 1, 1, 1, 1, 1, 0, 0, 1, 0, 1, 0, 1, 1, 0, 1, 1,\n",
        "        0, 0, 0, 0, 1, 1, 1, 0, 0, 0, 1, 1, 1, 1, 0, 0, 0, 0, 1, 0, 0, 1,\n",
        "        1, 1, 1, 1, 1, 1, 1, 0, 0, 0, 1, 1],[False,  True, False,  True, False,  True, False, False, False,\n",
        "        False, False, False,  True,  True, False, False,  True, False,\n",
        "         True,  True, False, False,  True,  True,  True,  True,  True,\n",
        "         True, False,  True,  True, False,  True, False,  True, False,\n",
        "         True,  True, False,  True, False, False,  True, False,  True,\n",
        "         True,  True,  True, False, False, False, False, False, False,\n",
        "        False,  True,  True, False,  True, False,  True, False, False,\n",
        "         True, False, False,  True,  True,  True,  True, False, False,\n",
        "        False,  True,  True,  True, False, False, False, False,  True,\n",
        "         True,  True,  True, False,  True,  True, False, False, False,\n",
        "        False, False, False, False, False,  True,  True,  True, False,\n",
        "        False])"
      ],
      "metadata": {
        "id": "5fetgj-nMNw0",
        "colab": {
          "base_uri": "https://localhost:8080/"
        },
        "outputId": "e77e7304-5181-4f6e-f25a-88abdc74aea4"
      },
      "execution_count": null,
      "outputs": [
        {
          "output_type": "execute_result",
          "data": {
            "text/plain": [
              "(array([0.        , 0.        , 0.75569971, 0.20595222]),\n",
              " -68.98509536883716,\n",
              " 156.3908714816267)"
            ]
          },
          "metadata": {},
          "execution_count": 84
        }
      ]
    },
    {
      "cell_type": "code",
      "source": [
        "import numpy as np\n",
        "from scipy.optimize import minimize\n",
        "\n",
        "def fit_M6RescorlaWagnerBias_v1(a, r):\n",
        "    obFunc = lambda x: lik_M6RescorlaWagnerBias_v1(a, r, x[0], x[1], x[2])\n",
        "\n",
        "    X0 = [np.random.rand(), np.random.exponential(1), np.random.rand() * 0.2]\n",
        "    bounds = [(0, 1), (0, np.inf), (-1, 1)]\n",
        "\n",
        "    result = minimize(obFunc, X0, bounds=bounds)\n",
        "    Xfit = result.x\n",
        "    NegLL = result.fun\n",
        "\n",
        "    LL = -NegLL\n",
        "    BIC = len(X0) * np.log(len(a)) + 2 * NegLL\n",
        "\n",
        "    return Xfit, LL, BIC\n"
      ],
      "metadata": {
        "id": "87nSK9KnXnqI"
      },
      "execution_count": null,
      "outputs": []
    },
    {
      "cell_type": "code",
      "source": [
        "fit_M6RescorlaWagnerBias_v1([1, 0, 1, 1, 0, 0, 0, 0, 0, 0, 0, 1, 1, 0, 1, 1, 0, 0, 0, 1, 0, 1,\n",
        "        0, 0, 0, 1, 1, 0, 0, 1, 1, 0, 0, 1, 0, 1, 1, 1, 1, 0, 1, 1, 1, 1,\n",
        "        0, 0, 0, 1, 1, 1, 1, 1, 1, 0, 0, 0, 0, 1, 1, 1, 1, 1, 1, 0, 1, 1,\n",
        "        0, 1, 1, 1, 0, 0, 0, 1, 0, 0, 1, 1, 0, 0, 0, 0, 1, 1, 1, 0, 0, 1,\n",
        "        1, 1, 0, 1, 0, 1, 1, 1, 1, 1, 0, 1],[False,  True, False, False,  True,  True,  True,  True,  True,\n",
        "         True,  True, False, False,  True, False, False,  True,  True,\n",
        "         True, False,  True, False,  True,  True,  True, False, False,\n",
        "         True,  True, False, False,  True,  True, False,  True, False,\n",
        "        False, False, False,  True, False, False, False, False,  True,\n",
        "         True,  True, False, False, False, False, False, False,  True,\n",
        "         True,  True,  True, False, False, False, False, False, False,\n",
        "         True, False, False,  True, False, False, False,  True,  True,\n",
        "         True, False,  True,  True, False, False,  True,  True,  True,\n",
        "         True, False, False, False,  True,  True, False, False, False,\n",
        "         True, False,  True, False, False, False, False, False,  True,\n",
        "        False])"
      ],
      "metadata": {
        "id": "tdU5k8r8MQKC",
        "colab": {
          "base_uri": "https://localhost:8080/"
        },
        "outputId": "060fd392-1f5a-42e6-88d0-d3a1169b6b93"
      },
      "execution_count": null,
      "outputs": [
        {
          "output_type": "execute_result",
          "data": {
            "text/plain": [
              "(array([ 0.92828523,  0.        , -0.82369946]),\n",
              " -69.31471805599453,\n",
              " 152.44494666995334)"
            ]
          },
          "metadata": {},
          "execution_count": 86
        }
      ]
    },
    {
      "cell_type": "code",
      "source": [
        "def fit_all_v1(a, r):\n",
        "    _, _, BIC1 = fit_M1random_v1(a, r)\n",
        "    _, _, BIC2 = fit_M2WSLS_v1(a, r)\n",
        "    _, _, BIC3 = fit_M3RescorlaWagner_v1(a, r)\n",
        "    _, _, BIC4 = fit_M4CK_v1(a, r)\n",
        "    _, _, BIC5 = fit_M5RWCK_v1(a, r)\n",
        "\n",
        "    BIC = [BIC1, BIC2, BIC3, BIC4, BIC5]\n",
        "    iBEST = np.argmin(BIC)\n",
        "    BEST = np.equal(BIC, np.min(BIC))\n",
        "    BEST = BEST / np.sum(BEST)\n",
        "\n",
        "    return BIC, iBEST, BEST\n"
      ],
      "metadata": {
        "id": "bmP6n-BaYDhg"
      },
      "execution_count": null,
      "outputs": []
    },
    {
      "cell_type": "code",
      "source": [
        "fit_all_v1([1, 0, 1, 1, 0, 0, 0, 0, 0, 0, 0, 1, 1, 0, 1, 1, 0, 0, 0, 1, 0, 1,\n",
        "        0, 0, 0, 1, 1, 0, 0, 1, 1, 0, 0, 1, 0, 1, 1, 1, 1, 0, 1, 1, 1, 1,\n",
        "        0, 0, 0, 1, 1, 1, 1, 1, 1, 0, 0, 0, 0, 1, 1, 1, 1, 1, 1, 0, 1, 1,\n",
        "        0, 1, 1, 1, 0, 0, 0, 1, 0, 0, 1, 1, 0, 0, 0, 0, 1, 1, 1, 0, 0, 1,\n",
        "        1, 1, 0, 1, 0, 1, 1, 1, 1, 1, 0, 1],[False,  True, False, False,  True,  True,  True,  True,  True,\n",
        "         True,  True, False, False,  True, False, False,  True,  True,\n",
        "         True, False,  True, False,  True,  True,  True, False, False,\n",
        "         True,  True, False, False,  True,  True, False,  True, False,\n",
        "        False, False, False,  True, False, False, False, False,  True,\n",
        "         True,  True, False, False, False, False, False, False,  True,\n",
        "         True,  True,  True, False, False, False, False, False, False,\n",
        "         True, False, False,  True, False, False, False,  True,  True,\n",
        "         True, False,  True,  True, False, False,  True,  True,  True,\n",
        "         True, False, False, False,  True,  True, False, False, False,\n",
        "         True, False,  True, False, False, False, False, False,  True,\n",
        "        False])"
      ],
      "metadata": {
        "id": "mSovDHN3MWTn",
        "colab": {
          "base_uri": "https://localhost:8080/"
        },
        "outputId": "e7420940-f048-49fb-89e6-9bf48b1767db"
      },
      "execution_count": null,
      "outputs": [
        {
          "output_type": "stream",
          "name": "stderr",
          "text": [
            "<ipython-input-36-06965077acba>:18: RuntimeWarning: divide by zero encountered in log\n",
            "  NegLL = -np.sum(np.log(choiceProb))\n"
          ]
        },
        {
          "output_type": "execute_result",
          "data": {
            "text/plain": [
              "([251.04589935395316,\n",
              "  143.23460629797717,\n",
              "  147.83977648396524,\n",
              "  147.83977648396524,\n",
              "  157.05011685594144],\n",
              " 1,\n",
              " array([0., 1., 0., 0., 0.]))"
            ]
          },
          "metadata": {},
          "execution_count": 89
        }
      ]
    },
    {
      "cell_type": "code",
      "source": [
        "import matplotlib.pyplot as plt\n",
        "\n",
        "def addABCs(ax, offset=None, fontsize=20, abcString=None):\n",
        "    if abcString is None:\n",
        "        abcString = 'ABCDEFGHIJKLMNOPQRSTUVWXYZ'\n",
        "\n",
        "    if offset is not None:\n",
        "        pos = [axi.get_position() for axi in ax]\n",
        "        ABCpos = [[posi.x0 + offset[0], posi.y0 + posi.height + offset[1]] for posi in pos]\n",
        "    else:\n",
        "        pos = [axi.get_outer_bounds() for axi in ax]\n",
        "        ABCpos = [[posi.x0, posi.y0 + posi.height] for posi in pos]\n",
        "\n",
        "    tb = []\n",
        "    for i, axi in enumerate(ax):\n",
        "        tb.append(plt.annotate(abcString[i], xy=(0, 0), xytext=ABCpos[i], xycoords='figure fraction',\n",
        "                               textcoords='data', fontsize=fontsize, fontweight='bold', ha='center', va='top'))\n",
        "\n",
        "    return tb\n"
      ],
      "metadata": {
        "id": "l2DGI3nLYDkx"
      },
      "execution_count": null,
      "outputs": []
    },
    {
      "cell_type": "code",
      "source": [
        "addABCs(ax, offset=None, fontsize=20, abcString=None)"
      ],
      "metadata": {
        "id": "-dSsn2F-MZ60",
        "colab": {
          "base_uri": "https://localhost:8080/",
          "height": 165
        },
        "outputId": "640e14c7-7bdf-47e8-90ca-82bdb369107b"
      },
      "execution_count": null,
      "outputs": [
        {
          "output_type": "error",
          "ename": "NameError",
          "evalue": "ignored",
          "traceback": [
            "\u001b[0;31m---------------------------------------------------------------------------\u001b[0m",
            "\u001b[0;31mNameError\u001b[0m                                 Traceback (most recent call last)",
            "\u001b[0;32m<ipython-input-5-f7f7ae9ab6d3>\u001b[0m in \u001b[0;36m<cell line: 1>\u001b[0;34m()\u001b[0m\n\u001b[0;32m----> 1\u001b[0;31m \u001b[0maddABCs\u001b[0m\u001b[0;34m(\u001b[0m\u001b[0max\u001b[0m\u001b[0;34m,\u001b[0m \u001b[0moffset\u001b[0m\u001b[0;34m=\u001b[0m\u001b[0;32mNone\u001b[0m\u001b[0;34m,\u001b[0m \u001b[0mfontsize\u001b[0m\u001b[0;34m=\u001b[0m\u001b[0;36m20\u001b[0m\u001b[0;34m,\u001b[0m \u001b[0mabcString\u001b[0m\u001b[0;34m=\u001b[0m\u001b[0;32mNone\u001b[0m\u001b[0;34m)\u001b[0m\u001b[0;34m\u001b[0m\u001b[0;34m\u001b[0m\u001b[0m\n\u001b[0m",
            "\u001b[0;31mNameError\u001b[0m: name 'ax' is not defined"
          ]
        }
      ]
    },
    {
      "cell_type": "code",
      "source": [
        "import numpy as np\n",
        "import matplotlib.pyplot as plt\n",
        "\n",
        "def addFacetLines(CM):\n",
        "    S = np.shape(CM)\n",
        "    lx = np.arange(S[1] + 1) + 0.5\n",
        "    ly = np.arange(S[0] + 1) + 0.5\n",
        "\n",
        "    hx = [plt.plot([lx[i], lx[i]], [0, S[0]] + 0.5, 'r')[0] for i in range(len(lx))]\n",
        "    hy = [plt.plot([0, S[1]] + 0.5, [ly[i], ly[i]], 'g')[0] for i in range(len(ly))]\n",
        "\n",
        "    plt.xlim([0.5, S[1] + 0.5])\n",
        "    plt.ylim([0.5, S[0] + 0.5])\n",
        "    np.seterr(divide='ignore', invalid='ignore')\n",
        "\n",
        "    return hx, hy\n"
      ],
      "metadata": {
        "id": "6S9i2KhgYDop"
      },
      "execution_count": null,
      "outputs": []
    },
    {
      "cell_type": "code",
      "source": [
        "addFacetLines(5, 5)"
      ],
      "metadata": {
        "id": "34sndSfmMcfi",
        "colab": {
          "base_uri": "https://localhost:8080/",
          "height": 165
        },
        "outputId": "0427c1a3-261e-4dd3-c2f4-bbd0d72381fd"
      },
      "execution_count": null,
      "outputs": [
        {
          "output_type": "error",
          "ename": "TypeError",
          "evalue": "ignored",
          "traceback": [
            "\u001b[0;31m---------------------------------------------------------------------------\u001b[0m",
            "\u001b[0;31mTypeError\u001b[0m                                 Traceback (most recent call last)",
            "\u001b[0;32m<ipython-input-170-93520e6351ed>\u001b[0m in \u001b[0;36m<cell line: 1>\u001b[0;34m()\u001b[0m\n\u001b[0;32m----> 1\u001b[0;31m \u001b[0maddFacetLines\u001b[0m\u001b[0;34m(\u001b[0m\u001b[0;36m5\u001b[0m\u001b[0;34m,\u001b[0m \u001b[0;36m5\u001b[0m\u001b[0;34m)\u001b[0m\u001b[0;34m\u001b[0m\u001b[0;34m\u001b[0m\u001b[0m\n\u001b[0m",
            "\u001b[0;31mTypeError\u001b[0m: addFacetLines() takes 1 positional argument but 2 were given"
          ]
        }
      ]
    },
    {
      "cell_type": "code",
      "source": [
        "import matplotlib.pyplot as plt\n",
        "\n",
        "def easy_gridOfEqualFigures(hg, wg, fignum=None):\n",
        "    hb = (1 - sum(hg)) / (len(hg) - 1)\n",
        "    wb = (1 - sum(wg)) / (len(wg) - 1)\n",
        "\n",
        "    if fignum is not None:\n",
        "        plt.figure(fignum)\n",
        "\n",
        "    N_high = len(hg) - 1\n",
        "    N_wide = len(wg) - 1\n",
        "\n",
        "    count = 1\n",
        "    rc = []\n",
        "    for i_high in range(N_high, 0, -1):\n",
        "        for i_wide in range(1, N_wide + 1):\n",
        "            bx = [sum(wg[:i_wide]) + sum(wb[:i_wide - 1]),\n",
        "                  sum(hg[:i_high]) + sum(hb[:i_high - 1]),\n",
        "                  wb[i_wide],\n",
        "                  hb[i_high]]\n",
        "            rc.append(bx)\n",
        "            count += 1\n",
        "\n",
        "    ax = []\n",
        "    for i in range(len(rc)):\n",
        "        ax.append(plt.axes(rc[i]))\n",
        "\n",
        "    ax2 = [ax[i:i + len(wb)] for i in range(0, len(ax), len(wb))]\n",
        "\n",
        "    return ax, None, None, ax2\n"
      ],
      "metadata": {
        "id": "Hj6TNZsOYDrn"
      },
      "execution_count": null,
      "outputs": []
    },
    {
      "cell_type": "code",
      "source": [
        "easy_gridOfEqualFigures(hg, wg, fignum=None)"
      ],
      "metadata": {
        "id": "1Q2g5pBfMhgd"
      },
      "execution_count": null,
      "outputs": []
    },
    {
      "cell_type": "code",
      "source": [],
      "metadata": {
        "id": "EgBpZ25FMhmV"
      },
      "execution_count": null,
      "outputs": []
    },
    {
      "cell_type": "code",
      "source": [
        "import numpy as np\n",
        "import matplotlib.pyplot as plt\n",
        "\n",
        "def imageTextMatrix(M, xtl=None, ytl=None):\n",
        "    plt.imshow(M)\n",
        "    t = np.empty_like(M, dtype=object)\n",
        "    for i in range(M.shape[0]):\n",
        "        for j in range(M.shape[1]):\n",
        "            t[i, j] = plt.text(j, i, str(M[i, j]),\n",
        "                               horizontalalignment='center',\n",
        "                               verticalalignment='center')\n",
        "    if xtl is not None:\n",
        "        plt.xticks(range(len(xtl)), xtl)\n",
        "    if ytl is not None:\n",
        "        plt.yticks(range(len(ytl)), ytl)\n",
        "    return t\n"
      ],
      "metadata": {
        "id": "flky6BpEYDu6"
      },
      "execution_count": null,
      "outputs": []
    },
    {
      "cell_type": "code",
      "source": [
        "imageTextMatrix(M, xtl=None, ytl=None)"
      ],
      "metadata": {
        "id": "wmRoE4mOMlk9"
      },
      "execution_count": null,
      "outputs": []
    },
    {
      "cell_type": "code",
      "source": [
        "import matplotlib.pyplot as plt\n",
        "\n",
        "def saveFigurePdf(figHandle, savename, flag=False, res=300):\n",
        "    figHandle.set_window_style('normal')\n",
        "    figHandle.set_paper_position_mode('auto')\n",
        "\n",
        "    pp = figHandle.get_paper_position()\n",
        "    wp = pp[2]\n",
        "    hp = pp[3]\n",
        "    figHandle.set_paper_size([wp, hp])\n",
        "\n",
        "    if flag:\n",
        "        figHandle.savefig(savename, format='pdf', dpi=res, bbox_inches='tight')\n",
        "    else:\n",
        "        figHandle.savefig(savename, format='pdf', bbox_inches='tight')\n"
      ],
      "metadata": {
        "id": "3mXTFNZ4YD2k"
      },
      "execution_count": null,
      "outputs": []
    },
    {
      "cell_type": "code",
      "source": [
        "saveFigurePdf(figHandle, savename, flag=False, res=300)"
      ],
      "metadata": {
        "id": "IPDcobgAMor3"
      },
      "execution_count": null,
      "outputs": []
    },
    {
      "cell_type": "code",
      "source": [
        "import numpy as np\n",
        "import matplotlib.pyplot as plt\n",
        "from scipy.optimize import minimize\n",
        "\n",
        "\n",
        "def simulateflaw(alphaP, beta):\n",
        "    alphaN = 0\n",
        "    k = 0\n",
        "    D = np.zeros((450, 3))\n",
        "    P = np.zeros((10, 45))\n",
        "\n",
        "    for s in range(10):\n",
        "        Q = np.ones((3, 3)) / 3\n",
        "\n",
        "        for t in range(45):\n",
        "            k += 1\n",
        "            o = (t - 1) % 3\n",
        "            corA = 1 + (o - 1) % 2\n",
        "            p = np.exp(beta * Q[0, :]) / np.sum(np.exp(beta * Q[0, :]))\n",
        "            cdf = np.hstack([0, np.cumsum(p)])\n",
        "            a = np.where(cdf < np.random.rand())[0][-1]\n",
        "            r = int(a == corA)\n",
        "            alpha = r * alphaP + (1 - r) * alphaN\n",
        "            Q[o, a] = Q[o, a] + alpha * (r - Q[o, a])\n",
        "            D[k-1, :] = [s, a, r]\n",
        "            P[s, t] = r\n",
        "\n",
        "    P = np.mean(P[:, ::3] + P[:, 1::3] + P[:, 2::3], axis=1)\n",
        "    return D, P\n",
        "\n",
        "\n",
        "def simulate(alphaP, beta):\n",
        "    alphaN = 0\n",
        "    k = 0\n",
        "    D = np.zeros((450, 3))\n",
        "    P = np.zeros((10, 45))\n",
        "\n",
        "    for s in range(10):\n",
        "        Q = np.ones((3, 3)) / 3\n",
        "\n",
        "        for t in range(45):\n",
        "            k += 1\n",
        "            o = (t - 1) % 3\n",
        "            corA = 1 + (o - 1) % 2\n",
        "            p = np.exp(beta * Q[o, :]) / np.sum(np.exp(beta * Q[o, :]))\n",
        "            cdf = np.hstack([0, np.cumsum(p)])\n",
        "            a = np.where(cdf < np.random.rand())[0][-1]\n",
        "            r = int(a == corA)\n",
        "            alpha = r * alphaP + (1 - r) * alphaN\n",
        "            Q[o, a] = Q[o, a] + alpha * (r - Q[o, a])\n",
        "            D[k-1, :] = [s, a, r]\n",
        "            P[s, t] = r\n",
        "\n",
        "    P = np.mean(P[:, ::3] + P[:, 1::3] + P[:, 2::3], axis=1)\n",
        "    return D, P\n",
        "\n",
        "\n",
        "def fitRL(D):\n",
        "    choice = D[:, 1]\n",
        "    reward = D[:, 2]\n",
        "    ps2 = np.zeros((20, 3))\n",
        "    options = {'maxiter': 100000, 'disp': False}\n",
        "\n",
        "    for init in range(20):\n",
        "        x0 = np.random.rand(2)\n",
        "        res = scipy.optimize.minimize(LLH2, x0, args=(choice, reward), bounds=[(0, 1), (0, 1)], options=options)\n",
        "        ps2[init, :2] = res.x\n",
        "        ps2[init, 2] = res.fun\n",
        "\n",
        "    i = np.argmin(ps2[:, 2])\n",
        "    ps2 = ps2[i, :2]\n",
        "    P2, L2 = Posterior2(ps2[0], ps2[1], choice, reward)\n",
        "    P2 = np.mean(P2)\n",
        "    L2 = np.mean(L2)\n",
        "    return ps2, P2, L2\n",
        "\n",
        "\n",
        "def LLH2(p, choice, reward):\n",
        "    alphaP = p[0]\n",
        "    alphaN = 0\n",
        "    beta = 10 * p[1]\n",
        "    k = 0\n",
        "    llh = 0\n",
        "\n",
        "    for s in range(10):\n",
        "        Q = np.ones((3, 3)) / 3\n",
        "\n",
        "        for t in range(45):\n",
        "            k += 1\n",
        "            o = (t - 1) % 3\n",
        "            corA = 1 + (o - 1) % 2\n",
        "            a = int(choice[k-1])\n",
        "            pr = np.exp(beta * Q[o, a]) / np.sum(np.exp(beta * Q[o, :]))\n",
        "            r = int(reward[k-1])\n",
        "            alpha = r * alphaP + (1 - r) * alphaN\n",
        "            Q[o, a] = Q[o, a] + alpha * (r - Q[o, a])\n",
        "            llh += np.log(pr)\n",
        "\n",
        "    return -llh\n",
        "\n",
        "\n",
        "def Posterior2(alphaP, beta, choice, reward):\n",
        "    k = 0\n",
        "    alphaN = 0\n",
        "    beta = 10 * beta\n",
        "    P = np.zeros((10, 45))\n",
        "    L = np.zeros((10, 45))\n",
        "\n",
        "    for s in range(10):\n",
        "        Q = np.ones((3, 3)) / 3\n",
        "\n",
        "        for t in range(45):\n",
        "            k += 1\n",
        "            o = (t - 1) % 3\n",
        "            corA = 1 + (o - 1) % 2\n",
        "            pr = np.exp(beta * Q[o, :]) / np.sum(np.exp(beta * Q[o, :]))\n",
        "            a = int(choice[k-1])\n",
        "            r = int(reward[k-1])\n",
        "            alpha = r * alphaP + (1 - r) * alphaN\n",
        "            Q[o, a] = Q[o, a] + alpha * (r - Q[o, a])\n",
        "            P[s, t] = pr[corA]\n",
        "            L[s, t] = pr[a]\n",
        "\n",
        "    P = np.mean(P[:, ::3] + P[:, 1::3] + P[:, 2::3], axis=1)\n",
        "    L = np.mean(L[:, ::3] + L[:, 1::3] + L[:, 2::3], axis=1)\n",
        "    return P, L\n",
        "\n",
        "\n",
        "def Figure7_ValidateFit():\n",
        "    np.random.seed(0)\n",
        "    name = ['blind RL agent', 'RL agent']\n",
        "    toplot = [[], []]\n",
        "\n",
        "    for iter in range(2):\n",
        "        for rep in range(10):\n",
        "            if iter == 0:\n",
        "                alphaP = 0.3 + 0.4 * np.random.rand()\n",
        "                beta = 4 + 5 * np.random.rand()\n",
        "                D, P = simulateflaw(alphaP, beta)\n",
        "            else:\n",
        "                alphaP = 0.6 + 0.1 * np.random.rand()\n",
        "                beta = 2\n",
        "                D, P = simulate(alphaP, beta)\n",
        "\n",
        "            toplot[iter].append([np.mean(P)])\n",
        "            ps2, P2, L2 = fitRL(D)\n",
        "            toplot[iter][rep].extend([P2, np.mean(P), L2])\n",
        "\n",
        "    col = [ 'r', 'g', 'b']\n",
        "\n",
        "    fig, ax = plt.subplots(1, 3, figsize=(8, 3))\n",
        "\n",
        "    for iter in range(2):\n",
        "        type = 0\n",
        "        ax[0].errorbar(np.mean(np.array(toplot[iter])[:, type], axis=0),np.std(np.array(toplot[iter])[:, type], axis=0) / np.sqrt(rep), color=col[iter], linewidth=2)\n",
        "\n",
        "        type = 2\n",
        "        ax[1].errorbar(np.mean(np.array(toplot[iter])[:, type], axis=0),\n",
        "                       np.std(np.array(toplot[iter])[:, type], axis=0) / np.sqrt(rep), color=col[iter], linewidth=2)\n",
        "\n",
        "        type = 1\n",
        "        ax[2].errorbar(np.mean(np.array(toplot[iter])[:, type], axis=0),\n",
        "                       np.std(np.array(toplot[iter])[:, type], axis=0) / np.sqrt(rep), color=col[iter], linewidth=2)\n",
        "\n",
        "    ax[0].set_title(\"'subject' learning curves\")\n",
        "    ax[0].legend(['blind RL', 'state-based RL'])\n",
        "    ax[0].set_xlabel('time step')\n",
        "    ax[0].set_ylabel('p(correct)')\n",
        "\n",
        "    ax[1].set_title(\"likelihood of state-based RL model\")\n",
        "    ax[1].set_xlabel('time step')\n",
        "    ax[1].set_ylabel('likelihood of choice')\n",
        "\n",
        "    ax[2].set_title(\"simulated learning curves from state-based RL\")\n",
        "    ax[2].set_xlabel('time step')\n",
        "    ax[2].set_ylabel('p(correct)')\n",
        "\n",
        "    plt.tight_layout()\n",
        "    plt.savefig('Figure7.pdf')\n",
        "    plt.show()\n",
        "\n",
        "\n",
        "Figure7_ValidateFit()\n"
      ],
      "metadata": {
        "colab": {
          "base_uri": "https://localhost:8080/",
          "height": 307
        },
        "id": "pM4jaStaoIG1",
        "outputId": "d0e93f6a-f9f0-4519-e805-93fecb683438"
      },
      "execution_count": null,
      "outputs": [
        {
          "output_type": "display_data",
          "data": {
            "text/plain": [
              "<Figure size 800x300 with 3 Axes>"
            ],
            "image/png": "[encoded data removed]"
          },
          "metadata": {}
        }
      ]
    },
    {
      "cell_type": "code",
      "source": [
        "import numpy as np\n",
        "import matplotlib.pyplot as plt\n",
        "from scipy.optimize import minimize\n",
        "\n",
        "def simulate(alpha, beta, bias):\n",
        "    k = 0\n",
        "    D = []\n",
        "\n",
        "    for s in range(0, 20):\n",
        "        Q = [0.5, 0.5]\n",
        "        corA = 1 if s % 2 == 1 else 2\n",
        "\n",
        "        for t in range(0, 50):\n",
        "            k += 1\n",
        "            p2 = 1 / (1 + np.exp(beta * (bias + Q[0] - Q[1])))\n",
        "            a = 1 if np.random.rand() < p2 else 2\n",
        "            c = a == corA\n",
        "            r = c if np.random.rand() < 0.8 else 1 - c\n",
        "            Q[a - 1] = Q[a - 1] + alpha * (r - Q[a - 1])\n",
        "            D.append([s, a, r])\n",
        "\n",
        "    return np.array(D)\n",
        "\n",
        "\n",
        "def fitRL(D):\n",
        "    choice = D[:, 1]\n",
        "    reward = D[:, 2]\n",
        "    options = {'maxiter': 100000, 'disp': False}\n",
        "\n",
        "    # Fit with no bias RL\n",
        "    ps1 = []\n",
        "    for _ in range(20):\n",
        "        x0 = np.random.rand(2)\n",
        "        res = minimize(LLH1, x0, args=(choice, reward), bounds=[(0, 1), (0, 1)], options=options)\n",
        "        ps1.append(res.x.tolist() + [res.fun])\n",
        "    ps1 = sorted(ps1, key=lambda x: x[2])[0]\n",
        "\n",
        "    # Fit with bias RL\n",
        "    ps2 = []\n",
        "    for _ in range(20):\n",
        "        x0 = np.random.rand(3)\n",
        "        res = minimize(LLH2, x0, args=(choice, reward), bounds=[(0, 1), (0, 1), (0, 1)], options=options)\n",
        "        ps2.append(res.x.tolist() + [res.fun])\n",
        "    ps2 = sorted(ps2, key=lambda x: x[3])[0]\n",
        "\n",
        "    return ps1, ps2\n",
        "\n",
        "\n",
        "def LLH1(p, choice, reward):\n",
        "    alpha = p[0]\n",
        "    beta = 10 * p[1]\n",
        "    bias = 0\n",
        "    k = 0\n",
        "    llh = 0\n",
        "\n",
        "    for s in range(0, 20):\n",
        "        Q = [0.5, 0.5]\n",
        "\n",
        "        for t in range(0, 50):\n",
        "            k += 1\n",
        "            p2 = 1 / (1 + np.exp(beta * (bias + Q[0] - Q[1])))\n",
        "            pr = [1 - p2, p2]\n",
        "            a = choice[k - 1]\n",
        "            r = reward[k - 1]\n",
        "            Q[a - 1] = Q[a - 1] + alpha * (r - Q[a - 1])\n",
        "            llh += np.log(pr[a - 1])\n",
        "\n",
        "    return -llh\n",
        "\n",
        "\n",
        "def LLH2(p, choice, reward):\n",
        "    alpha = p[0]\n",
        "    beta = 10 * p[1]\n",
        "    bias = p[2]\n",
        "    k = 0\n",
        "    llh = 0\n",
        "\n",
        "    for s in range(0, 10):\n",
        "        Q = [0.5, 0.5]\n",
        "\n",
        "        for t in range(1, 51):\n",
        "            k += 1\n",
        "            p2 = 1 / (1 + np.exp(beta * (bias + Q[0] - Q[1])))\n",
        "            pr = [1 - p2, p2]\n",
        "            a = choice[k - 1]\n",
        "            r = reward[k - 1]\n",
        "            Q[a - 1] = Q[a - 1] + alpha * (r - Q[a - 1])\n",
        "            llh += np.log(pr[a - 1])\n",
        "\n",
        "    return -llh\n",
        "\n",
        "\n",
        "np.random.seed(0)\n",
        "data = np.zeros((100, 10))\n",
        "\n",
        "for rep in range(0, 100):\n",
        "    alpha = 0.1 + 0.4 * np.random.rand()\n",
        "    beta = 1 + 8 * np.random.rand()\n",
        "    bias = 0.2 * np.random.rand()\n",
        "\n",
        "    D = simulate(alpha, beta, bias)\n",
        "    ps1, ps2 = fitRL(D)\n",
        "\n",
        "    data[rep - 1] = [alpha, beta, bias, *ps1[:2], 0, *ps2]\n",
        "\n",
        "data[:, 4] *= 10\n",
        "data[:, 7] *= 10\n",
        "\n",
        "names = ['α', 'β', 'bias']\n",
        "\n",
        "fig, ax = plt.subplots(nrows=2, ncols=3, figsize=(10, 6), sharex='col', sharey='row')\n",
        "fig.subplots_adjust(hspace=0.3, wspace=0.3)\n",
        "AZred = [val / 256 for val in [171, 5, 32]]\n",
        "\n",
        "\n",
        "for i in range(2):\n",
        "    for j in range(3):\n",
        "        if i == 1 and j == 2:\n",
        "            continue\n",
        "        ax[i, j].plot(data[:, j], data[:, 3 + i], 'o', color=AZred, markersize=8, linewidth=1)\n",
        "        ax[i, j].plot(ax[i, j].get_xlim(), ax[i, j].get_ylim(), 'k--')\n",
        "        ax[i, j].plot(np.unique(data[:, j]), np.poly1d(np.polyfit(data[:, j], data[:, 3 + i], 1))(np.unique(data[:, j])), 'k-', linewidth=3)\n",
        "        ax[i, j].set_xlabel(f'simulated {names[j]}')\n",
        "        ax[i, j].set_ylabel(f'fit {names[j]}')\n",
        "\n",
        "ax[1, 2].axis('off')\n",
        "ax[0, 0].set_xlim([0, 0.6])\n",
        "ax[1, 0].set_xlim([0, 0.6])\n",
        "\n",
        "plt.figtext(0.1, 0.94, 'Model 3 without bias', fontsize=14, fontweight='bold')\n",
        "plt.figtext(0.5, 0.94, 'Model 3 including bias', fontsize=14, fontweight='bold')\n",
        "\n",
        "plt.savefig('Figure6b.pdf')\n",
        "plt.show()\n"
      ],
      "metadata": {
        "id": "71dD9RJDq7ev",
        "colab": {
          "base_uri": "https://localhost:8080/",
          "height": 593
        },
        "outputId": "791d3475-527f-45a8-8bf5-f5347a937364"
      },
      "execution_count": null,
      "outputs": [
        {
          "output_type": "display_data",
          "data": {
            "text/plain": [
              "<Figure size 1000x600 with 6 Axes>"
            ],
            "image/png": "[encoded data removed]"
          },
          "metadata": {}
        }
      ]
    },
    {
      "cell_type": "code",
      "source": [
        "import numpy as np\n",
        "import matplotlib.pyplot as plt\n",
        "\n",
        "CM = np.zeros((5, 5))\n",
        "\n",
        "T = 1000\n",
        "mu = [0.2, 0.8]\n",
        "\n",
        "CM1 = np.array([[1, 0, 0, 0, 0],\n",
        "                [0.01, 0.99, 0, 0, 0],\n",
        "                [0.34, 0.12, 0.54, 0, 0],\n",
        "                [0.35, 0.09, 0, 0.54, 0.01],\n",
        "                [0.14, 0.04, 0.26, 0.26, 0.3]])\n",
        "\n",
        "CM2 = np.array([[0.97, 0.03, 0, 0, 0],\n",
        "                [0.04, 0.96, 0, 0, 0],\n",
        "                [0.06, 0, 0.94, 0, 0],\n",
        "                [0.06, 0, 0.01, 0.93, 0],\n",
        "                [0.03, 0, 0.1, 0.15, 0.72]])\n",
        "\n",
        "# Inverse confusion matrices\n",
        "iCM1 = CM1 / np.sum(CM1, axis=0)\n",
        "iCM2 = CM2 / np.sum(CM2, axis=0)\n",
        "\n",
        "# Plotting\n",
        "fig, ax = plt.subplots(2, 2, figsize=(9, 8))\n",
        "\n",
        "# Confusion matrix: p(fit model | simulated model)\n",
        "im1 = ax[0, 0].imshow(CM1, cmap='cool')\n",
        "im2 = ax[0, 1].imshow(CM2, cmap='cool')\n",
        "\n",
        "# Inversion matrix: p(simulated model | fit model)\n",
        "im3 = ax[1, 0].imshow(np.round(iCM1 * 100) / 100, cmap='cool')\n",
        "im4 = ax[1, 1].imshow(np.round(iCM2 * 100) / 100, cmap='cool')\n",
        "\n",
        "# Text annotations\n",
        "for i in range(2):\n",
        "    for j in range(2):\n",
        "        ax[i, j].set_xticks(np.arange(5))\n",
        "        ax[i, j].set_yticks(np.arange(5))\n",
        "        ax[i, j].set_xticklabels(np.arange(1, 6))\n",
        "        ax[i, j].set_yticklabels(np.arange(1, 6))\n",
        "        ax[i, j].set_xlabel('fit model')\n",
        "        ax[i, j].set_ylabel('simulated model')\n",
        "\n",
        "        for row in range(5):\n",
        "            for col in range(5):\n",
        "                if (i == 0 and j == 0) or (i == 1 and j == 0):\n",
        "                    text_color = 'w' if CM1[row, col] < 0.3 else 'k'\n",
        "                    ax[i, j].text(col, row, f'{CM1[row, col]:.2f}', color=text_color, ha='center', va='center')\n",
        "                else:\n",
        "                    text_color = 'w' if CM2[row, col] < 0.3 else 'k'\n",
        "                    ax[i, j].text(col, row, f'{CM2[row, col]:.2f}', color=text_color, ha='center', va='center')\n",
        "\n",
        "# Set labels and titles\n",
        "fig.text(0.5, 0.95, 'Confusion matrix: p(fit model | simulated model)', fontsize=16, ha='center')\n",
        "fig.text(0.5, 0.45, 'Inversion matrix: p(simulated model | fit model)', fontsize=16, ha='center')\n",
        "\n",
        "# Colorbars\n",
        "cax1 = fig.add_axes([0.18, 0.92, 0.35, 0.02])\n",
        "cbar1 = fig.colorbar(im1, cax=cax1, orientation='horizontal')\n",
        "cax1.xaxis.set_ticks_position('top')\n",
        "\n",
        "cax2 = fig.add_axes([0.64, 0.92, 0.35, 0.02])\n",
        "cbar2 = fig.colorbar(im2, cax=cax2, orientation='horizontal')\n",
        "cax2.xaxis.set_ticks_position('top')\n",
        "\n",
        "cax3 = fig.add_axes([0.18, 0.41, 0.35, 0.02])\n",
        "cbar3 = fig.colorbar(im3, cax=cax3, orientation='horizontal')\n",
        "cax3.xaxis.set_ticks_position('top')\n",
        "\n",
        "cax4 = fig.add_axes([0.64, 0.41, 0.35, 0.02])\n",
        "cbar4 = fig.colorbar(im4, cax=cax4, orientation='horizontal')\n",
        "cax4.xaxis.set_ticks_position('top')\n",
        "\n",
        "# Adjust spacing\n",
        "plt.subplots_adjust(wspace=0.3, hspace=0.3)\n",
        "\n",
        "# Save the figure\n",
        "plt.savefig('Figure5.pdf')\n",
        "plt.show()\n"
      ],
      "metadata": {
        "id": "pWDRmiLeq7kj",
        "colab": {
          "base_uri": "https://localhost:8080/",
          "height": 768
        },
        "outputId": "05ff108c-6f8b-46ab-912b-009814c61f94"
      },
      "execution_count": null,
      "outputs": [
        {
          "output_type": "display_data",
          "data": {
            "text/plain": [
              "<Figure size 900x800 with 8 Axes>"
            ],
            "image/png": "[encoded data removed]"
          },
          "metadata": {}
        }
      ]
    },
    {
      "cell_type": "code",
      "source": [
        "import numpy as np\n",
        "import matplotlib.pyplot as plt\n",
        "#from SimulationFunctions import simulate_M1random_v1, simulate_M2WSLS_v1, simulate_M3RescorlaWagner_v1, simulate_M4ChoiceKernel_v1, simulate_M5RWCK_v1\n",
        "#from FittingFunctions import fit_all_v1\n",
        "#from HelperFunctions import imageTextMatrix, addFacetLines, saveFigurePdf\n",
        "\n",
        "CM = np.zeros((5, 5))\n",
        "T = 1000\n",
        "mu = np.array([0.2, 0.8])\n",
        "\n",
        "for count in range(100):\n",
        "    print(count)\n",
        "    plt.figure(1)\n",
        "    plt.clf()\n",
        "    FM = np.round(100 * CM / np.sum(CM[0, :])) / 100\n",
        "    t = imageTextMatrix(FM)\n",
        "\n",
        "    t_low_values = t[FM < 0.3].flatten()\n",
        "\n",
        "    # Apply set_color('w') to each element of the flattened array\n",
        "    for element in t_low_values:\n",
        "        element.set_color('w')\n",
        "\n",
        "    [l1, l2] = addFacetLines(CM)\n",
        "    t.set_fontsize(22)\n",
        "    plt.title('count = ' + str(count))\n",
        "    plt.xticks([1, 2, 3, 4, 5])\n",
        "    plt.yticks([1, 2, 3, 4, 5])\n",
        "    plt.xlabel('fit model')\n",
        "    plt.ylabel('simulated model')\n",
        "    plt.tick_params(axis='x', top=True, direction='out')\n",
        "    plt.tick_params(axis='y', right=True, direction='out')\n",
        "    plt.gca().xaxis.set_label_position('top')\n",
        "    plt.gca().set_position([0.1, 0.2, 0.8, 0.7])\n",
        "    plt.gca().spines['top'].set_visible(False)\n",
        "    plt.gca().spines['right'].set_visible(False)\n",
        "\n",
        "    plt.draw()\n",
        "    plt.pause(0.01)\n",
        "\n",
        "    # Model 1\n",
        "    b = np.random.rand()\n",
        "    a, r = simulate_M1random_v1(T, mu, b)\n",
        "    BIC, iBEST, BEST = fit_all_v1(a, r)\n",
        "    CM[0, :] += BEST\n",
        "\n",
        "    # Model 2\n",
        "    epsilon = np.random.rand()\n",
        "    a, r = simulate_M2WSLS_v1(T, mu, epsilon)\n",
        "    BIC, iBEST, BEST = fit_all_v1(a, r)\n",
        "    CM[1, :] += BEST\n",
        "\n",
        "    # Model 3\n",
        "    alpha = np.random.rand()\n",
        "    beta = 1 + np.random.exponential(1)\n",
        "    a, r = simulate_M3RescorlaWagner_v1(T, mu, alpha, beta)\n",
        "    BIC, iBEST, BEST = fit_all_v1(a, r)\n",
        "    CM[2, :] += BEST\n",
        "\n",
        "    # Model 4\n",
        "    alpha_c = np.random.rand()\n",
        "    beta_c = 1 + np.random.exponential(1)\n",
        "    a, r = simulate_M4ChoiceKernel_v1(T, mu, alpha_c, beta_c)\n",
        "    BIC, iBEST, BEST = fit_all_v1(a, r)\n",
        "    CM[3, :] += BEST\n",
        "\n",
        "    # Model 5\n",
        "    alpha = np.random.rand()\n",
        "    beta = 1 + np.random.exponential(1)\n",
        "    alpha_c = np.random.rand()\n",
        "    beta_c = 1 + np.random.exponential(1)\n",
        "    a, r = simulate_M5RWCK_v1(T, mu, alpha, beta, alpha_c, beta_c)\n",
        "    BIC, iBEST, BEST = fit_all_v1(a, r)\n",
        "    CM[4, :] += BEST\n",
        "\n",
        "plt.figure(1)\n",
        "plt.title('')\n",
        "plt.gcf().set_size_inches(8, 6)\n",
        "plt.gca().tick_params(labelsize=28)\n",
        "saveFigurePdf(plt.gcf(), '~/Figures/Figure5b')\n"
      ],
      "metadata": {
        "colab": {
          "base_uri": "https://localhost:8080/",
          "height": 845
        },
        "id": "QQ_mRT_s583Q",
        "outputId": "988dbbc8-72e6-4f89-8422-8acd4b10e5a1"
      },
      "execution_count": null,
      "outputs": [
        {
          "output_type": "stream",
          "name": "stdout",
          "text": [
            "0\n"
          ]
        },
        {
          "output_type": "stream",
          "name": "stderr",
          "text": [
            "<ipython-input-171-6ce8659f00b3>:15: RuntimeWarning: invalid value encountered in true_divide\n",
            "  FM = np.round(100 * CM / np.sum(CM[0, :])) / 100\n"
          ]
        },
        {
          "output_type": "error",
          "ename": "TypeError",
          "evalue": "ignored",
          "traceback": [
            "\u001b[0;31m---------------------------------------------------------------------------\u001b[0m",
            "\u001b[0;31mTypeError\u001b[0m                                 Traceback (most recent call last)",
            "\u001b[0;32m<ipython-input-171-6ce8659f00b3>\u001b[0m in \u001b[0;36m<cell line: 11>\u001b[0;34m()\u001b[0m\n\u001b[1;32m     22\u001b[0m         \u001b[0melement\u001b[0m\u001b[0;34m.\u001b[0m\u001b[0mset_color\u001b[0m\u001b[0;34m(\u001b[0m\u001b[0;34m'w'\u001b[0m\u001b[0;34m)\u001b[0m\u001b[0;34m\u001b[0m\u001b[0;34m\u001b[0m\u001b[0m\n\u001b[1;32m     23\u001b[0m \u001b[0;34m\u001b[0m\u001b[0m\n\u001b[0;32m---> 24\u001b[0;31m     \u001b[0;34m[\u001b[0m\u001b[0ml1\u001b[0m\u001b[0;34m,\u001b[0m \u001b[0ml2\u001b[0m\u001b[0;34m]\u001b[0m \u001b[0;34m=\u001b[0m \u001b[0maddFacetLines\u001b[0m\u001b[0;34m(\u001b[0m\u001b[0mCM\u001b[0m\u001b[0;34m)\u001b[0m\u001b[0;34m\u001b[0m\u001b[0;34m\u001b[0m\u001b[0m\n\u001b[0m\u001b[1;32m     25\u001b[0m     \u001b[0mt\u001b[0m\u001b[0;34m.\u001b[0m\u001b[0mset_fontsize\u001b[0m\u001b[0;34m(\u001b[0m\u001b[0;36m22\u001b[0m\u001b[0;34m)\u001b[0m\u001b[0;34m\u001b[0m\u001b[0;34m\u001b[0m\u001b[0m\n\u001b[1;32m     26\u001b[0m     \u001b[0mplt\u001b[0m\u001b[0;34m.\u001b[0m\u001b[0mtitle\u001b[0m\u001b[0;34m(\u001b[0m\u001b[0;34m'count = '\u001b[0m \u001b[0;34m+\u001b[0m \u001b[0mstr\u001b[0m\u001b[0;34m(\u001b[0m\u001b[0mcount\u001b[0m\u001b[0;34m)\u001b[0m\u001b[0;34m)\u001b[0m\u001b[0;34m\u001b[0m\u001b[0;34m\u001b[0m\u001b[0m\n",
            "\u001b[0;32m<ipython-input-168-f641917d6c46>\u001b[0m in \u001b[0;36maddFacetLines\u001b[0;34m(CM)\u001b[0m\n\u001b[1;32m      7\u001b[0m     \u001b[0mly\u001b[0m \u001b[0;34m=\u001b[0m \u001b[0mnp\u001b[0m\u001b[0;34m.\u001b[0m\u001b[0marange\u001b[0m\u001b[0;34m(\u001b[0m\u001b[0mS\u001b[0m\u001b[0;34m[\u001b[0m\u001b[0;36m0\u001b[0m\u001b[0;34m]\u001b[0m \u001b[0;34m+\u001b[0m \u001b[0;36m1\u001b[0m\u001b[0;34m)\u001b[0m \u001b[0;34m+\u001b[0m \u001b[0;36m0.5\u001b[0m\u001b[0;34m\u001b[0m\u001b[0;34m\u001b[0m\u001b[0m\n\u001b[1;32m      8\u001b[0m \u001b[0;34m\u001b[0m\u001b[0m\n\u001b[0;32m----> 9\u001b[0;31m     \u001b[0mhx\u001b[0m \u001b[0;34m=\u001b[0m \u001b[0;34m[\u001b[0m\u001b[0;34m(\u001b[0m\u001b[0;34m[\u001b[0m\u001b[0mlx\u001b[0m\u001b[0;34m[\u001b[0m\u001b[0mi\u001b[0m\u001b[0;34m]\u001b[0m\u001b[0;34m,\u001b[0m \u001b[0mlx\u001b[0m\u001b[0;34m[\u001b[0m\u001b[0mi\u001b[0m\u001b[0;34m]\u001b[0m\u001b[0;34m]\u001b[0m\u001b[0;34m,\u001b[0m \u001b[0;34m[\u001b[0m\u001b[0;36m0\u001b[0m\u001b[0;34m,\u001b[0m \u001b[0mS\u001b[0m\u001b[0;34m[\u001b[0m\u001b[0;36m0\u001b[0m\u001b[0;34m]\u001b[0m\u001b[0;34m]\u001b[0m \u001b[0;34m+\u001b[0m \u001b[0;36m0.5\u001b[0m\u001b[0;34m,\u001b[0m \u001b[0;34m'r'\u001b[0m\u001b[0;34m)\u001b[0m\u001b[0;34m[\u001b[0m\u001b[0;36m0\u001b[0m\u001b[0;34m]\u001b[0m \u001b[0;32mfor\u001b[0m \u001b[0mi\u001b[0m \u001b[0;32min\u001b[0m \u001b[0mrange\u001b[0m\u001b[0;34m(\u001b[0m\u001b[0mlen\u001b[0m\u001b[0;34m(\u001b[0m\u001b[0mlx\u001b[0m\u001b[0;34m)\u001b[0m\u001b[0;34m)\u001b[0m\u001b[0;34m]\u001b[0m\u001b[0;34m\u001b[0m\u001b[0;34m\u001b[0m\u001b[0m\n\u001b[0m\u001b[1;32m     10\u001b[0m     \u001b[0mhy\u001b[0m \u001b[0;34m=\u001b[0m \u001b[0;34m[\u001b[0m\u001b[0;34m(\u001b[0m\u001b[0;34m[\u001b[0m\u001b[0;36m0\u001b[0m\u001b[0;34m,\u001b[0m \u001b[0mS\u001b[0m\u001b[0;34m[\u001b[0m\u001b[0;36m1\u001b[0m\u001b[0;34m]\u001b[0m\u001b[0;34m]\u001b[0m \u001b[0;34m+\u001b[0m \u001b[0;36m0.5\u001b[0m\u001b[0;34m,\u001b[0m \u001b[0;34m[\u001b[0m\u001b[0mly\u001b[0m\u001b[0;34m[\u001b[0m\u001b[0mi\u001b[0m\u001b[0;34m]\u001b[0m\u001b[0;34m,\u001b[0m \u001b[0mly\u001b[0m\u001b[0;34m[\u001b[0m\u001b[0mi\u001b[0m\u001b[0;34m]\u001b[0m\u001b[0;34m]\u001b[0m\u001b[0;34m,\u001b[0m \u001b[0;34m'g'\u001b[0m\u001b[0;34m)\u001b[0m\u001b[0;34m[\u001b[0m\u001b[0;36m0\u001b[0m\u001b[0;34m]\u001b[0m \u001b[0;32mfor\u001b[0m \u001b[0mi\u001b[0m \u001b[0;32min\u001b[0m \u001b[0mrange\u001b[0m\u001b[0;34m(\u001b[0m\u001b[0mlen\u001b[0m\u001b[0;34m(\u001b[0m\u001b[0mly\u001b[0m\u001b[0;34m)\u001b[0m\u001b[0;34m)\u001b[0m\u001b[0;34m]\u001b[0m\u001b[0;34m\u001b[0m\u001b[0;34m\u001b[0m\u001b[0m\n\u001b[1;32m     11\u001b[0m \u001b[0;34m\u001b[0m\u001b[0m\n",
            "\u001b[0;32m<ipython-input-168-f641917d6c46>\u001b[0m in \u001b[0;36m<listcomp>\u001b[0;34m(.0)\u001b[0m\n\u001b[1;32m      7\u001b[0m     \u001b[0mly\u001b[0m \u001b[0;34m=\u001b[0m \u001b[0mnp\u001b[0m\u001b[0;34m.\u001b[0m\u001b[0marange\u001b[0m\u001b[0;34m(\u001b[0m\u001b[0mS\u001b[0m\u001b[0;34m[\u001b[0m\u001b[0;36m0\u001b[0m\u001b[0;34m]\u001b[0m \u001b[0;34m+\u001b[0m \u001b[0;36m1\u001b[0m\u001b[0;34m)\u001b[0m \u001b[0;34m+\u001b[0m \u001b[0;36m0.5\u001b[0m\u001b[0;34m\u001b[0m\u001b[0;34m\u001b[0m\u001b[0m\n\u001b[1;32m      8\u001b[0m \u001b[0;34m\u001b[0m\u001b[0m\n\u001b[0;32m----> 9\u001b[0;31m     \u001b[0mhx\u001b[0m \u001b[0;34m=\u001b[0m \u001b[0;34m[\u001b[0m\u001b[0;34m(\u001b[0m\u001b[0;34m[\u001b[0m\u001b[0mlx\u001b[0m\u001b[0;34m[\u001b[0m\u001b[0mi\u001b[0m\u001b[0;34m]\u001b[0m\u001b[0;34m,\u001b[0m \u001b[0mlx\u001b[0m\u001b[0;34m[\u001b[0m\u001b[0mi\u001b[0m\u001b[0;34m]\u001b[0m\u001b[0;34m]\u001b[0m\u001b[0;34m,\u001b[0m \u001b[0;34m[\u001b[0m\u001b[0;36m0\u001b[0m\u001b[0;34m,\u001b[0m \u001b[0mS\u001b[0m\u001b[0;34m[\u001b[0m\u001b[0;36m0\u001b[0m\u001b[0;34m]\u001b[0m\u001b[0;34m]\u001b[0m \u001b[0;34m+\u001b[0m \u001b[0;36m0.5\u001b[0m\u001b[0;34m,\u001b[0m \u001b[0;34m'r'\u001b[0m\u001b[0;34m)\u001b[0m\u001b[0;34m[\u001b[0m\u001b[0;36m0\u001b[0m\u001b[0;34m]\u001b[0m \u001b[0;32mfor\u001b[0m \u001b[0mi\u001b[0m \u001b[0;32min\u001b[0m \u001b[0mrange\u001b[0m\u001b[0;34m(\u001b[0m\u001b[0mlen\u001b[0m\u001b[0;34m(\u001b[0m\u001b[0mlx\u001b[0m\u001b[0;34m)\u001b[0m\u001b[0;34m)\u001b[0m\u001b[0;34m]\u001b[0m\u001b[0;34m\u001b[0m\u001b[0;34m\u001b[0m\u001b[0m\n\u001b[0m\u001b[1;32m     10\u001b[0m     \u001b[0mhy\u001b[0m \u001b[0;34m=\u001b[0m \u001b[0;34m[\u001b[0m\u001b[0;34m(\u001b[0m\u001b[0;34m[\u001b[0m\u001b[0;36m0\u001b[0m\u001b[0;34m,\u001b[0m \u001b[0mS\u001b[0m\u001b[0;34m[\u001b[0m\u001b[0;36m1\u001b[0m\u001b[0;34m]\u001b[0m\u001b[0;34m]\u001b[0m \u001b[0;34m+\u001b[0m \u001b[0;36m0.5\u001b[0m\u001b[0;34m,\u001b[0m \u001b[0;34m[\u001b[0m\u001b[0mly\u001b[0m\u001b[0;34m[\u001b[0m\u001b[0mi\u001b[0m\u001b[0;34m]\u001b[0m\u001b[0;34m,\u001b[0m \u001b[0mly\u001b[0m\u001b[0;34m[\u001b[0m\u001b[0mi\u001b[0m\u001b[0;34m]\u001b[0m\u001b[0;34m]\u001b[0m\u001b[0;34m,\u001b[0m \u001b[0;34m'g'\u001b[0m\u001b[0;34m)\u001b[0m\u001b[0;34m[\u001b[0m\u001b[0;36m0\u001b[0m\u001b[0;34m]\u001b[0m \u001b[0;32mfor\u001b[0m \u001b[0mi\u001b[0m \u001b[0;32min\u001b[0m \u001b[0mrange\u001b[0m\u001b[0;34m(\u001b[0m\u001b[0mlen\u001b[0m\u001b[0;34m(\u001b[0m\u001b[0mly\u001b[0m\u001b[0;34m)\u001b[0m\u001b[0;34m)\u001b[0m\u001b[0;34m]\u001b[0m\u001b[0;34m\u001b[0m\u001b[0;34m\u001b[0m\u001b[0m\n\u001b[1;32m     11\u001b[0m \u001b[0;34m\u001b[0m\u001b[0m\n",
            "\u001b[0;31mTypeError\u001b[0m: can only concatenate list (not \"float\") to list"
          ]
        },
        {
          "output_type": "display_data",
          "data": {
            "text/plain": [
              "<Figure size 640x480 with 1 Axes>"
            ],
            "image/png": "[encoded data removed]"
          },
          "metadata": {}
        }
      ]
    },
    {
      "cell_type": "code",
      "source": [],
      "metadata": {
        "id": "SUsUqn1wbj73"
      },
      "execution_count": null,
      "outputs": []
    },
    {
      "cell_type": "code",
      "source": [
        "import numpy as np\n",
        "import matplotlib.pyplot as plt\n",
        "from scipy.stats import expon\n",
        "\n",
        "# Set random seed\n",
        "np.random.seed(2)\n",
        "\n",
        "# Experiment parameters\n",
        "T = 100  # Number of trials\n",
        "mu = [0.2, 0.8]  # Mean reward of bandits\n",
        "\n",
        "# Model 3: Rescorla Wagner\n",
        "Xsim = np.zeros((2, 100))\n",
        "Xfit = np.zeros((2, 100))\n",
        "\n",
        "for count in range(100):\n",
        "    alpha = np.random.rand()\n",
        "    beta = expon.rvs(scale=10)\n",
        "    a, r = simulate_M3RescorlaWagner_v1(T, mu, alpha, beta)  # TODO: Implement simulate_M3RescorlaWagner_v1 function\n",
        "    Xf, LL, BIC = fit_M3RescorlaWagner_v1(a, r)  # TODO: Implement fit_M3RescorlaWagner_v1 function\n",
        "\n",
        "    Xsim[0, count] = alpha\n",
        "    Xsim[1, count] = beta\n",
        "    Xfit[0, count] = Xf[0]\n",
        "    Xfit[1, count] = Xf[1]\n",
        "\n",
        "# Basic parameter recovery plots\n",
        "names = ['learning rate', 'softmax temperature']\n",
        "symbols = ['\\alpha', '\\beta']\n",
        "fig, ax = plt.subplots(1, 2, figsize=(12, 6))\n",
        "\n",
        "for i in range(Xsim.shape[0]):\n",
        "    ax[i].plot(Xsim[i, :], Xfit[i, :], 'o', color='r', markersize=8, linewidth=1)\n",
        "    xl = ax[i].get_xlim()\n",
        "    ax[i].plot(xl, xl, 'k--')\n",
        "\n",
        "# Find 'bad' alpha values\n",
        "thresh = 0.25\n",
        "ind = np.abs(Xsim[0, :] - Xfit[0, :]) > thresh\n",
        "\n",
        "for i in range(2):\n",
        "    ax[i].plot(Xsim[i, ind], Xfit[i, ind], 'o', color='b', markersize=8, linewidth=1, markerfacecolor=[0.5, 0.5, 0.5])\n",
        "\n",
        "ax[0].set_xscale('log')\n",
        "ax[0].set_yscale('log')\n",
        "\n",
        "ax[0].set_xlabel('simulated \\alpha')\n",
        "ax[0].set_ylabel('fit \\alpha')\n",
        "ax[1].set_xlabel('simulated \\beta')\n",
        "ax[1].set_ylabel('fit \\beta')\n",
        "\n",
        "plt.tight_layout()\n",
        "plt.show()\n"
      ],
      "metadata": {
        "colab": {
          "base_uri": "https://localhost:8080/",
          "height": 235
        },
        "id": "G0Dfa8ocIts8",
        "outputId": "8d78f57c-1ef9-468f-f1b5-061201f13c2d"
      },
      "execution_count": null,
      "outputs": [
        {
          "output_type": "error",
          "ename": "NameError",
          "evalue": "ignored",
          "traceback": [
            "\u001b[0;31m---------------------------------------------------------------------------\u001b[0m",
            "\u001b[0;31mNameError\u001b[0m                                 Traceback (most recent call last)",
            "\u001b[0;32m<ipython-input-15-d29ae9635bb4>\u001b[0m in \u001b[0;36m<cell line: 16>\u001b[0;34m()\u001b[0m\n\u001b[1;32m     17\u001b[0m     \u001b[0malpha\u001b[0m \u001b[0;34m=\u001b[0m \u001b[0mnp\u001b[0m\u001b[0;34m.\u001b[0m\u001b[0mrandom\u001b[0m\u001b[0;34m.\u001b[0m\u001b[0mrand\u001b[0m\u001b[0;34m(\u001b[0m\u001b[0;34m)\u001b[0m\u001b[0;34m\u001b[0m\u001b[0;34m\u001b[0m\u001b[0m\n\u001b[1;32m     18\u001b[0m     \u001b[0mbeta\u001b[0m \u001b[0;34m=\u001b[0m \u001b[0mexpon\u001b[0m\u001b[0;34m.\u001b[0m\u001b[0mrvs\u001b[0m\u001b[0;34m(\u001b[0m\u001b[0mscale\u001b[0m\u001b[0;34m=\u001b[0m\u001b[0;36m10\u001b[0m\u001b[0;34m)\u001b[0m\u001b[0;34m\u001b[0m\u001b[0;34m\u001b[0m\u001b[0m\n\u001b[0;32m---> 19\u001b[0;31m     \u001b[0ma\u001b[0m\u001b[0;34m,\u001b[0m \u001b[0mr\u001b[0m \u001b[0;34m=\u001b[0m \u001b[0msimulate_M3RescorlaWagner_v1\u001b[0m\u001b[0;34m(\u001b[0m\u001b[0mT\u001b[0m\u001b[0;34m,\u001b[0m \u001b[0mmu\u001b[0m\u001b[0;34m,\u001b[0m \u001b[0malpha\u001b[0m\u001b[0;34m,\u001b[0m \u001b[0mbeta\u001b[0m\u001b[0;34m)\u001b[0m  \u001b[0;31m# TODO: Implement simulate_M3RescorlaWagner_v1 function\u001b[0m\u001b[0;34m\u001b[0m\u001b[0;34m\u001b[0m\u001b[0m\n\u001b[0m\u001b[1;32m     20\u001b[0m     \u001b[0mXf\u001b[0m\u001b[0;34m,\u001b[0m \u001b[0mLL\u001b[0m\u001b[0;34m,\u001b[0m \u001b[0mBIC\u001b[0m \u001b[0;34m=\u001b[0m \u001b[0mfit_M3RescorlaWagner_v1\u001b[0m\u001b[0;34m(\u001b[0m\u001b[0ma\u001b[0m\u001b[0;34m,\u001b[0m \u001b[0mr\u001b[0m\u001b[0;34m)\u001b[0m  \u001b[0;31m# TODO: Implement fit_M3RescorlaWagner_v1 function\u001b[0m\u001b[0;34m\u001b[0m\u001b[0;34m\u001b[0m\u001b[0m\n\u001b[1;32m     21\u001b[0m \u001b[0;34m\u001b[0m\u001b[0m\n",
            "\u001b[0;31mNameError\u001b[0m: name 'simulate_M3RescorlaWagner_v1' is not defined"
          ]
        }
      ]
    },
    {
      "cell_type": "code",
      "source": [
        "import numpy as np\n",
        "import matplotlib.pyplot as plt\n",
        "\n",
        "alphas = np.arange(0.05, 1.05, 0.05)\n",
        "betas = np.concatenate(([1], np.arange(5, 55, 5)))\n",
        "rhos = np.arange(0, 1.05, 0.05)\n",
        "Ks = np.arange(2, 7)\n",
        "\n",
        "realalpha = 0.1\n",
        "realbeta = 10\n",
        "realrho = 0.9\n",
        "realK = 4\n",
        "\n",
        "update = np.zeros(4500, dtype=int)\n",
        "choice = np.zeros(4500, dtype=int)\n",
        "rew = np.zeros(4500, dtype=int)\n",
        "stim = np.zeros(4500, dtype=int)\n",
        "setsize = np.zeros(4500, dtype=int)\n",
        "\n",
        "b = 0\n",
        "t = 0\n",
        "for rep in range(3):\n",
        "    for ns in range(2, 7):\n",
        "        b += 1\n",
        "        update[t] = 1\n",
        "        w = realrho * (min(1, realK / ns))\n",
        "        Q = np.full(ns, 0.5)\n",
        "        WM = np.full(ns, 0.5)\n",
        "        trials = np.tile(np.arange(1, ns + 1), 15)\n",
        "        for s in trials:\n",
        "            t += 1\n",
        "            softmax1 = np.exp(realbeta * Q[s - 1, :]) / np.sum(np.exp(realbeta * Q[s - 1, :]))\n",
        "            softmax2 = np.exp(50 * WM[s - 1, :]) / np.sum(np.exp(50 * WM[s - 1, :]))\n",
        "            pr = (1 - w) * softmax1 + w * softmax2\n",
        "            r = np.random.rand()\n",
        "            if r < pr[0]:\n",
        "                choice[t - 1] = 1\n",
        "            elif r < pr[0] + pr[1]:\n",
        "                choice[t - 1] = 2\n",
        "            else:\n",
        "                choice[t - 1] = 3\n",
        "            rew[t - 1] = int(choice[t - 1] == (s % 3 + 1))\n",
        "            Q[s - 1, choice[t - 1] - 1] = Q[s - 1, choice[t - 1] - 1] + realalpha * (rew[t - 1] - Q[s - 1, choice[t - 1] - 1])\n",
        "            WM[s - 1, choice[t - 1] - 1] = rew[t - 1]\n",
        "            stim[t - 1] = s\n",
        "            setsize[t - 1] = ns\n",
        "\n",
        "update[t] = 0\n",
        "\n",
        "llh = np.zeros((len(alphas), len(betas), len(rhos), len(Ks)))\n",
        "\n",
        "for i1, alpha in enumerate(alphas):\n",
        "    for i2, beta in enumerate(betas):\n",
        "        for j1, rho in enumerate(rhos):\n",
        "            for j2, K in enumerate(Ks):\n",
        "                l = 0\n",
        "                Q = np.full(K, 0.5)\n",
        "                WM = np.full(K, 0.5)\n",
        "                for t in range(len(stim)):\n",
        "                    s = stim[t]\n",
        "                    if update[t] == 1:\n",
        "                        Q = np.full(setsize[t], 0.5)\n",
        "                        WM = np.full(setsize[t], 0.5)\n",
        "                    w = rho * (min(1, K / setsize[t]))\n",
        "                    softmax1 = np.exp(beta * Q[s - 1, :]) / np.sum(np.exp(beta * Q[s - 1, :]))\n",
        "                    softmax2 = np.exp(50 * WM[s - 1, :]) / np.sum(np.exp(50 * WM[s - 1, :]))\n",
        "                    pr = (1 - w) * softmax1 + w * softmax2\n",
        "                    l += np.log(pr[choice[t] - 1])\n",
        "                    Q[s - 1, choice[t] - 1] += alpha * (rew[t] - Q[s - 1, choice[t] - 1])\n",
        "                    WM[s - 1, choice[t] - 1] = rew[t]\n",
        "                llh[i1, i2, j1, j2] = l\n",
        "\n",
        "llh2 = np.max(np.max(llh, axis=3), axis=1)\n",
        "llh2 = llh2[:-1, :-1]\n",
        "mi = np.min(llh2)\n",
        "ma = np.max(llh2)\n",
        "x, y = np.unravel_index(llh2.argmax(), llh2.shape)\n",
        "\n",
        "plt.figure()\n",
        "plt.imshow(llh2.T, origin='lower', extent=[0.05, 1.0, 0.0, 1.0], aspect='auto', cmap='viridis')\n",
        "plt.colorbar()\n",
        "plt.plot(alphas[x], rhos[y], 'ok')\n",
        "plt.plot(realalpha, realrho, 'xr')\n",
        "plt.xlabel('alpha')\n",
        "plt.ylabel('rho')\n",
        "plt.title('Log-Likelihood')\n",
        "plt.show()\n",
        "\n",
        "for i in range(1):\n",
        "    out = np.setdiff1d(np.arange(4), i)\n",
        "    llh1 = np.max(np.max(np.max(llh, axis=out[3]), axis=out[2]), axis=out[1])\n",
        "    v = np.max(llh1)\n",
        "    w = np.argmax(llh1)\n",
        "    plt.plot(ps[i], llh1, 'o-', linewidth=2)\n",
        "    plt.plot(ps[i][w], v, 'rx', linewidth=2)\n",
        "    plt.xlabel(na[i])\n",
        "    plt.ylabel('Log-Likelihood')\n",
        "    plt.title(na[i])\n",
        "    plt.show()\n"
      ],
      "metadata": {
        "colab": {
          "base_uri": "https://localhost:8080/",
          "height": 235
        },
        "id": "UDh5umCrItwC",
        "outputId": "7ee0d04e-11c5-474a-a6a6-0dc5fde08a1e"
      },
      "execution_count": null,
      "outputs": [
        {
          "output_type": "error",
          "ename": "IndexError",
          "evalue": "ignored",
          "traceback": [
            "\u001b[0;31m---------------------------------------------------------------------------\u001b[0m",
            "\u001b[0;31mIndexError\u001b[0m                                Traceback (most recent call last)",
            "\u001b[0;32m<ipython-input-14-bf58b28b4846>\u001b[0m in \u001b[0;36m<cell line: 22>\u001b[0;34m()\u001b[0m\n\u001b[1;32m     30\u001b[0m         \u001b[0;32mfor\u001b[0m \u001b[0ms\u001b[0m \u001b[0;32min\u001b[0m \u001b[0mtrials\u001b[0m\u001b[0;34m:\u001b[0m\u001b[0;34m\u001b[0m\u001b[0;34m\u001b[0m\u001b[0m\n\u001b[1;32m     31\u001b[0m             \u001b[0mt\u001b[0m \u001b[0;34m+=\u001b[0m \u001b[0;36m1\u001b[0m\u001b[0;34m\u001b[0m\u001b[0;34m\u001b[0m\u001b[0m\n\u001b[0;32m---> 32\u001b[0;31m             \u001b[0msoftmax1\u001b[0m \u001b[0;34m=\u001b[0m \u001b[0mnp\u001b[0m\u001b[0;34m.\u001b[0m\u001b[0mexp\u001b[0m\u001b[0;34m(\u001b[0m\u001b[0mrealbeta\u001b[0m \u001b[0;34m*\u001b[0m \u001b[0mQ\u001b[0m\u001b[0;34m[\u001b[0m\u001b[0ms\u001b[0m \u001b[0;34m-\u001b[0m \u001b[0;36m1\u001b[0m\u001b[0;34m,\u001b[0m \u001b[0;34m:\u001b[0m\u001b[0;34m]\u001b[0m\u001b[0;34m)\u001b[0m \u001b[0;34m/\u001b[0m \u001b[0mnp\u001b[0m\u001b[0;34m.\u001b[0m\u001b[0msum\u001b[0m\u001b[0;34m(\u001b[0m\u001b[0mnp\u001b[0m\u001b[0;34m.\u001b[0m\u001b[0mexp\u001b[0m\u001b[0;34m(\u001b[0m\u001b[0mrealbeta\u001b[0m \u001b[0;34m*\u001b[0m \u001b[0mQ\u001b[0m\u001b[0;34m[\u001b[0m\u001b[0ms\u001b[0m \u001b[0;34m-\u001b[0m \u001b[0;36m1\u001b[0m\u001b[0;34m,\u001b[0m \u001b[0;34m:\u001b[0m\u001b[0;34m]\u001b[0m\u001b[0;34m)\u001b[0m\u001b[0;34m)\u001b[0m\u001b[0;34m\u001b[0m\u001b[0;34m\u001b[0m\u001b[0m\n\u001b[0m\u001b[1;32m     33\u001b[0m             \u001b[0msoftmax2\u001b[0m \u001b[0;34m=\u001b[0m \u001b[0mnp\u001b[0m\u001b[0;34m.\u001b[0m\u001b[0mexp\u001b[0m\u001b[0;34m(\u001b[0m\u001b[0;36m50\u001b[0m \u001b[0;34m*\u001b[0m \u001b[0mWM\u001b[0m\u001b[0;34m[\u001b[0m\u001b[0ms\u001b[0m \u001b[0;34m-\u001b[0m \u001b[0;36m1\u001b[0m\u001b[0;34m,\u001b[0m \u001b[0;34m:\u001b[0m\u001b[0;34m]\u001b[0m\u001b[0;34m)\u001b[0m \u001b[0;34m/\u001b[0m \u001b[0mnp\u001b[0m\u001b[0;34m.\u001b[0m\u001b[0msum\u001b[0m\u001b[0;34m(\u001b[0m\u001b[0mnp\u001b[0m\u001b[0;34m.\u001b[0m\u001b[0mexp\u001b[0m\u001b[0;34m(\u001b[0m\u001b[0;36m50\u001b[0m \u001b[0;34m*\u001b[0m \u001b[0mWM\u001b[0m\u001b[0;34m[\u001b[0m\u001b[0ms\u001b[0m \u001b[0;34m-\u001b[0m \u001b[0;36m1\u001b[0m\u001b[0;34m,\u001b[0m \u001b[0;34m:\u001b[0m\u001b[0;34m]\u001b[0m\u001b[0;34m)\u001b[0m\u001b[0;34m)\u001b[0m\u001b[0;34m\u001b[0m\u001b[0;34m\u001b[0m\u001b[0m\n\u001b[1;32m     34\u001b[0m             \u001b[0mpr\u001b[0m \u001b[0;34m=\u001b[0m \u001b[0;34m(\u001b[0m\u001b[0;36m1\u001b[0m \u001b[0;34m-\u001b[0m \u001b[0mw\u001b[0m\u001b[0;34m)\u001b[0m \u001b[0;34m*\u001b[0m \u001b[0msoftmax1\u001b[0m \u001b[0;34m+\u001b[0m \u001b[0mw\u001b[0m \u001b[0;34m*\u001b[0m \u001b[0msoftmax2\u001b[0m\u001b[0;34m\u001b[0m\u001b[0;34m\u001b[0m\u001b[0m\n",
            "\u001b[0;31mIndexError\u001b[0m: too many indices for array: array is 1-dimensional, but 2 were indexed"
          ]
        }
      ]
    },
    {
      "cell_type": "code",
      "source": [
        "import numpy as np\n",
        "import matplotlib.pyplot as plt\n",
        "from scipy.optimize import fmin_constrained\n",
        "\n",
        "\n",
        "def simulate(realalpha, realbeta, realrho, realK):\n",
        "    b = 0\n",
        "    t = 0\n",
        "    stim = []\n",
        "    update = []\n",
        "    choice = []\n",
        "    rew = []\n",
        "    setsize = []\n",
        "\n",
        "    for rep in range(3):\n",
        "        for ns in range(2, 7):\n",
        "            b += 1\n",
        "            update.append(1)\n",
        "            w = realrho * (min(1, realK / ns))\n",
        "            Q = np.full((ns, 3), 1/3)\n",
        "            WM = np.full((ns, 3), 1/3)\n",
        "            trials = np.repeat(np.arange(1, ns+1), 15)\n",
        "            for s in trials:\n",
        "                t += 1\n",
        "                stim.append(s)\n",
        "                setsize.append(ns)\n",
        "                softmax1 = np.exp(realbeta * Q[s-1, :]) / np.sum(np.exp(realbeta * Q[s-1, :]))\n",
        "                softmax2 = np.exp(50 * WM[s-1, :]) / np.sum(np.exp(50 * WM[s-1, :]))\n",
        "                pr = (1 - w) * softmax1 + w * softmax2\n",
        "                r = np.random.rand()\n",
        "                if r < pr[0]:\n",
        "                    choice.append(1)\n",
        "                elif r < pr[0] + pr[1]:\n",
        "                    choice.append(2)\n",
        "                else:\n",
        "                    choice.append(3)\n",
        "                rew.append(choice[t-1] == (s % 3) + 1)\n",
        "                Q[s-1, choice[t-1]-1] = Q[s-1, choice[t-1]-1] + realalpha * (rew[t-1] - Q[s-1, choice[t-1]-1])\n",
        "                WM[s-1, choice[t-1]-1] = rew[t-1]\n",
        "    update.append(0)\n",
        "    return np.array(stim), np.array(update), np.array(choice), np.array(rew), np.array(setsize)\n",
        "\n",
        "\n",
        "def computellh(p, K, stim, update, choice, rew, setsize):\n",
        "    rho = p[0]\n",
        "    alpha = p[1]\n",
        "    beta = 50 * p[2]\n",
        "    l = 0\n",
        "    for t in range(len(stim)):\n",
        "        s = stim[t]\n",
        "        if update[t]:\n",
        "            Q = np.full((setsize[t], 3), 1/3)\n",
        "            WM = np.full((setsize[t], 3), 1/3)\n",
        "        w = rho * (min(1, K / setsize[t]))\n",
        "        softmax1 = np.exp(beta * Q[s-1, :]) / np.sum(np.exp(beta * Q[s-1, :]))\n",
        "        softmax2 = np.exp(50 * WM[s-1, :]) / np.sum(np.exp(50 * WM[s-1, :]))\n",
        "        pr = (1 - w) * softmax1 + w * softmax2\n",
        "        l += np.log(pr[choice[t]-1])\n",
        "        Q[s-1, choice[t]-1] = Q[s-1, choice[t]-1] + alpha * (rew[t] - Q[s-1, choice[t]-1])\n",
        "        WM[s-1, choice[t]-1] = rew[t]\n",
        "    return -l\n",
        "\n",
        "\n",
        "def localminima():\n",
        "    alphas = np.arange(0.06, 0.51, 0.01)\n",
        "    betas = np.concatenate(([1], np.arange(4, 21, 2)))\n",
        "    rhos = np.arange(0.5, 0.99, 0.01)\n",
        "    Ks = np.arange(2, 7)\n",
        "\n",
        "    realalpha = 0.1\n",
        "    realbeta = 8\n",
        "    realrho = 0.9\n",
        "    realK = 4\n",
        "\n",
        "    stim, update, choice, rew, setsize = simulate(realalpha, realbeta, realrho, realK)\n",
        "\n",
        "    options = {'maxiter': 100000, 'disp': False}\n",
        "\n",
        "    pars = np.zeros((10, 4))\n",
        "    for init in range(10):\n",
        "        x0 = np.random.rand(3)\n",
        "        result = fmin_constrained(lambda x: computellh(x, realK, stim, update, choice, rew, setsize), x0,\n",
        "                                  [0, 0, 0], [1, 1, 1], options=options)\n",
        "        pars[init, :3] = result.x\n",
        "        pars[init, 3] = result.fun\n",
        "    best_index = np.argmin(pars[:, 3])\n",
        "    pars = pars[best_index, :]\n",
        "\n",
        "    llh = np.zeros((len(alphas), len(betas), len(rhos), len(Ks)))\n",
        "    for i1, alpha in enumerate(alphas):\n",
        "        for i2, beta in enumerate(betas):\n",
        "            for j1, rho in enumerate(rhos):\n",
        "                for j2, K in enumerate(Ks):\n",
        "                    p = [rho, alpha, beta / 50]\n",
        "                    llh[i1, i2, j1, j2] = -computellh(p, K, stim, update, choice, rew, setsize)\n",
        "\n",
        "    fig, axs = plt.subplots(2, 2, figsize=(10, 8))\n",
        "    axs[0, 0].imshow(np.squeeze(np.max(llh, axis=2)).T, extent=[alphas[0], alphas[-1], rhos[0], rhos[-1]],\n",
        "                     aspect='auto', origin='lower', cmap='jet')\n",
        "    axs[0, 0].colorbar(label='Log Likelihood')\n",
        "    best_indices = np.unravel_index(np.argmax(np.max(llh, axis=2)), llh.shape[:2])\n",
        "    axs[0, 0].plot(alphas[best_indices[0]], rhos[best_indices[1]], 'ok')\n",
        "    axs[0, 0].plot(realalpha, realrho, 'xr')\n",
        "    axs[0, 0].plot(pars[1], pars[0], '*k')\n",
        "    axs[0, 0].set_xlabel('alpha')\n",
        "    axs[0, 0].set_ylabel('rho')\n",
        "    axs[0, 0].set_title('Parameter Space')\n",
        "\n",
        "    bestllh = np.zeros((100, 10))\n",
        "    bestpars = np.zeros((100, 10, 3))\n",
        "    when = np.zeros((100, 3))\n",
        "\n",
        "    for sim in range(100):\n",
        "        stim, update, choice, rew, setsize = simulate(realalpha, realbeta, realrho, realK)\n",
        "        pars = np.zeros((ninitialpoints, 4))\n",
        "        for init in range(ninitialpoints):\n",
        "            x0 = np.random.rand(3)\n",
        "            result = fmin_constrained(lambda x: computellh(x, realK, stim, update, choice, rew, setsize), x0,\n",
        "                                      [0, 0, 0], [1, 1, 1], options=options)\n",
        "            pars[init, :3] = result.x\n",
        "            pars[init, 3] = result.fun\n",
        "            bestllh[sim, init] = np.min(pars[:, 3])\n",
        "            bestpars[sim, init, :] = pars[np.argmin(pars[:, 3]), :3]\n",
        "        best_index = np.argmin(pars[:, 3])\n",
        "        when[sim, 0] = best_index\n",
        "        when[sim, 1] = np.argwhere(bestllh[sim, :] < bestllh[sim, -1] + 0.01)[0, 0]\n",
        "        when[sim, 2] = np.argwhere(bestllh[sim, :] < bestllh[sim, -1] + 0.1)[0, 0]\n",
        "\n",
        "    axs[0, 1].errorbar(np.arange(1, 11), np.mean(bestllh, axis=0), yerr=np.std(bestllh, axis=0) / np.sqrt(100),\n",
        "                       linewidth=1)\n",
        "    axs[0, 1].set_xlabel('Starting Point Iteration')\n",
        "    axs[0, 1].set_ylabel('Local-Global Best NLH')\n",
        "    axs[0, 1].set_title('Local-Global Best NLH')\n",
        "\n",
        "    bestpars = bestpars[:, :, :3] - np.repeat(bestpars[:, :, 3:], ninitialpoints - 1, axis=2)\n",
        "    bestpars = np.sum(bestpars ** 2, axis=2)\n",
        "    axs[1, 0].errorbar(np.arange(1, 11), np.mean(bestpars, axis=0), yerr=np.std(bestpars, axis=0) / np.sqrt(100),\n",
        "                       linewidth=1)\n",
        "    axs[1, 0].set_xlabel('Starting Point Iteration')\n",
        "    axs[1, 0].set_ylabel('D(Local-Global Best Param)')\n",
        "    axs[1, 0].set_title('Distance to Global Best')\n",
        "\n",
        "    axs[1, 1].plot(np.sort(when[:, 0]), 'o-', linewidth=1, label='Global = Best')\n",
        "    axs[1, 1].plot(np.sort(when[:, 1]), 'o-', linewidth=1, label='Global = |LLH - Best| < 0.01')\n",
        "    axs[1, 1].set_xlabel('Sorted Simulation Number')\n",
        "    axs[1, 1].set_ylabel('Iteration Where Global LLH First Reached')\n",
        "    axs[1, 1].set_title('Iterations to Global Best')\n",
        "    axs[1, 1].legend()\n",
        "\n",
        "    plt.tight_layout()\n",
        "    plt.show()\n",
        "\n",
        "\n",
        "run_localminima()\n"
      ],
      "metadata": {
        "colab": {
          "base_uri": "https://localhost:8080/",
          "height": 373
        },
        "id": "SaFY8X2XItyo",
        "outputId": "b1425470-03d5-451b-c2f3-6b3f1a0d169e"
      },
      "execution_count": null,
      "outputs": [
        {
          "output_type": "error",
          "ename": "ImportError",
          "evalue": "ignored",
          "traceback": [
            "\u001b[0;31m---------------------------------------------------------------------------\u001b[0m",
            "\u001b[0;31mImportError\u001b[0m                               Traceback (most recent call last)",
            "\u001b[0;32m<ipython-input-13-5dbc840e4329>\u001b[0m in \u001b[0;36m<cell line: 3>\u001b[0;34m()\u001b[0m\n\u001b[1;32m      1\u001b[0m \u001b[0;32mimport\u001b[0m \u001b[0mnumpy\u001b[0m \u001b[0;32mas\u001b[0m \u001b[0mnp\u001b[0m\u001b[0;34m\u001b[0m\u001b[0;34m\u001b[0m\u001b[0m\n\u001b[1;32m      2\u001b[0m \u001b[0;32mimport\u001b[0m \u001b[0mmatplotlib\u001b[0m\u001b[0;34m.\u001b[0m\u001b[0mpyplot\u001b[0m \u001b[0;32mas\u001b[0m \u001b[0mplt\u001b[0m\u001b[0;34m\u001b[0m\u001b[0;34m\u001b[0m\u001b[0m\n\u001b[0;32m----> 3\u001b[0;31m \u001b[0;32mfrom\u001b[0m \u001b[0mscipy\u001b[0m\u001b[0;34m.\u001b[0m\u001b[0moptimize\u001b[0m \u001b[0;32mimport\u001b[0m \u001b[0mfmin_constrained\u001b[0m\u001b[0;34m\u001b[0m\u001b[0;34m\u001b[0m\u001b[0m\n\u001b[0m\u001b[1;32m      4\u001b[0m \u001b[0;34m\u001b[0m\u001b[0m\n\u001b[1;32m      5\u001b[0m \u001b[0;34m\u001b[0m\u001b[0m\n",
            "\u001b[0;31mImportError\u001b[0m: cannot import name 'fmin_constrained' from 'scipy.optimize' (/usr/local/lib/python3.10/dist-packages/scipy/optimize/__init__.py)",
            "",
            "\u001b[0;31m---------------------------------------------------------------------------\u001b[0;32m\nNOTE: If your import is failing due to a missing package, you can\nmanually install dependencies using either !pip or !apt.\n\nTo view examples of installing some common dependencies, click the\n\"Open Examples\" button below.\n\u001b[0;31m---------------------------------------------------------------------------\u001b[0m\n"
          ],
          "errorDetails": {
            "actions": [
              {
                "action": "open_url",
                "actionText": "Open Examples",
                "url": "/notebooks/snippets/importing_libraries.ipynb"
              }
            ]
          }
        }
      ]
    },
    {
      "cell_type": "code",
      "source": [
        "import numpy as np\n",
        "import matplotlib.pyplot as plt\n",
        "\n",
        "# set up colors\n",
        "AZred = [val / 256 for val in [171, 5, 32]]\n",
        "AZblue = [val / 256 for val in[12, 35, 75]]\n",
        "AZcactus = [val / 256 for val in[92, 135, 39]]\n",
        "AZsky = [val / 256 for val in[132, 210, 226]]\n",
        "AZriver = [val / 256 for val in[7, 104, 115]]\n",
        "AZsand = [val / 256 for val in[241, 158, 31]]\n",
        "AZmesa = [val / 256 for val in[183, 85, 39]]\n",
        "AZbrick = [val / 256 for val in[74, 48, 39]]\n",
        "\n",
        "# experiment parameters\n",
        "T = 100  # number of trials\n",
        "mu = [0.2, 0.8]  # mean reward of bandits\n",
        "\n",
        "# number of repetitions for simulations\n",
        "Nrep = 110\n",
        "num_sims = 110  # Number of simulations\n",
        "sim = [{}, {}, {}, {}, {}]  # Initializing the list of dictionaries\n",
        "for i in range(5):\n",
        "  # Initialize the key 'a' in the dictionary sim[0]\n",
        "  sim[i]['a'] = np.zeros((T, num_sims))  # Replace `num_sims` with the appropriate value\n",
        "\n",
        "  # Initialize the key 'r' in the dictionary sim[0]\n",
        "  sim[i]['r'] = np.zeros((T, num_sims))  # Replace `num_sims` with the appropriate value\n",
        "\n",
        "# Model 1: Random responding\n",
        "for n in range(Nrep):\n",
        "    b = 0.5\n",
        "    a, r = simulate_M1random_v1(T, mu, b)\n",
        "    sim[0]['a'][:, n] = a\n",
        "    sim[0]['r'][:, n] = r\n",
        "\n",
        "# Model 2: Win-stay-lose-shift\n",
        "for n in range(Nrep):\n",
        "    epsilon = 0.1\n",
        "    a, r = simulate_M2WSLS_v1(T, mu, epsilon)\n",
        "    sim[1]['a'][:, n] = a\n",
        "    sim[1]['r'][:, n] = r\n",
        "\n",
        "# Model 3: Rescorla Wagner\n",
        "for n in range(Nrep):\n",
        "    alpha = 0.1\n",
        "    beta = 5\n",
        "    a, r = simulate_M3RescorlaWagner_v1(T, mu, alpha, beta)\n",
        "    sim[2]['a'][:, n] = a\n",
        "    sim[2]['r'][:, n] = r\n",
        "\n",
        "# Model 4: Choice kernel\n",
        "for n in range(Nrep):\n",
        "    alpha_c = 0.1\n",
        "    beta_c = 3\n",
        "    a, r = simulate_M4ChoiceKernel_v1(T, mu, alpha_c, beta_c)\n",
        "    sim[3]['a'][:, n] = a\n",
        "    sim[3]['r'][:, n] = r\n",
        "\n",
        "# Model 5: Rescorla-Wagner + choice kernel\n",
        "for n in range(Nrep):\n",
        "    alpha = 0.1\n",
        "    beta = 5\n",
        "    alpha_c = 0.1\n",
        "    beta_c = 1\n",
        "    a, r = simulate_M5RWCK_v1(T, mu, alpha, beta, alpha_c, beta_c)\n",
        "    sim[4]['a'][:, n] = a\n",
        "    sim[4]['r'][:, n] = r\n",
        "\n",
        "# Win-stay-lose-shift analysis\n",
        "wsls = np.zeros((T, len(sim)))\n",
        "for i in range(len(sim)):\n",
        "    for n in range(Nrep):\n",
        "        sim[i]['wsls'] = analysis_WSLS_v1(sim[i]['a'][:, n], sim[i]['r'][:, n])\n",
        "    wsls[:, i] = np.nanmean(sim[i]['wsls'], axis=0)\n",
        "print (wsls)\n",
        "# Plot WSLS behavior for all models\n",
        "plt.figure(1)\n",
        "l = plt.plot( wsls)\n",
        "plt.ylim([0, 1])\n",
        "plt.setp(l, marker='.', markersize=50, linewidth=3)\n",
        "plt.legend(['M1: random', 'M2: WSLS', 'M3: RW', 'M4: CK', 'M5: RW+CK'], loc='lower right')\n",
        "plt.xlabel('previous reward')\n",
        "plt.ylabel('probability of staying')\n",
        "plt.xticks([0, 1])\n",
        "plt.xlim([-0.1, 1.1])\n",
        "plt.tick_params(direction='out', labelsize=18)\n",
        "\n",
        "# p(correct) analysis\n",
        "alphas = np.arange(0.02, 1.02, 0.02)\n",
        "betas = [1, 2, 5, 10, 20]\n",
        "correct = np.zeros((len(alphas), len(betas), 1000))\n",
        "correctEarly = np.zeros((len(alphas), len(betas), 1000))\n",
        "correctLate = np.zeros((len(alphas), len(betas), 1000))\n",
        "\n",
        "for n in range(100):\n",
        "    for i in range(len(alphas)):\n",
        "        for j in range(len(betas)):\n",
        "            a, r = simulate_M3RescorlaWagner_v1(T, mu, alphas[i], betas[j])\n",
        "            imax = np.argmax(mu)\n",
        "            correct[i, j, n] = np.nanmean(a == imax)\n",
        "            correctEarly[i, j, n] = np.nanmean(a[:10] == imax)\n",
        "            correctLate[i, j, n] = np.nanmean(a[-10:] == imax)\n",
        "\n",
        "# Plot p(correct) behavior\n",
        "E = np.nanmean(correctEarly, axis=2)\n",
        "L = np.nanmean(correctLate, axis=2)\n",
        "\n",
        "fig, ax = plt.subplots(1, 3, figsize=(15, 6))\n",
        "\n",
        "l = plt.plot(wsls)\n",
        "plt.ylim([0, 1])\n",
        "plt.setp(l, marker='.', markersize=50, linewidth=3)\n",
        "leg1 = plt.legend(['M1: random', 'M2: WSLS', 'M3: RW', 'M4: CK', 'M5: RW+CK'], loc='lower right')\n",
        "plt.xlabel('previous reward')\n",
        "plt.ylabel('p(stay)')\n",
        "plt.title('stay behavior', fontweight='normal')\n",
        "plt.xlim([-0.1, 1.1])\n",
        "plt.ylim([0, 1.04])\n",
        "plt.xticks([0, 1])\n",
        "plt.yticks([0, 0.5, 1])\n",
        "plt.setp(leg1)#, fontsize=12)\n",
        "#plt.setp(leg1, position=[0.19, 0.2133, 0.1440, 0.2617])\n",
        "\n",
        "plt.sca(ax[0])\n",
        "l = plt.plot(alphas, E)\n",
        "plt.xlabel('learning rate, α')\n",
        "plt.ylabel('p(correct)')\n",
        "plt.title('early trials', fontweight='normal')\n",
        "leg2 = plt.legend(l[::-1], betas[::-1])\n",
        "plt.setp([leg1, leg2])#, fontsize=12)\n",
        "#plt.setp(leg2, position=[0.6267, 0.6453, 0.1007, 0.2617])\n",
        "\n",
        "plt.sca(ax[1])\n",
        "l = plt.plot(alphas, L)\n",
        "plt.xlabel('learning rate, α')\n",
        "plt.title('late trials', fontweight='normal')\n",
        "for i in range(len(l)):\n",
        "    f = (i - 1) / (len(l) - 1)\n",
        "    #plt.setp(l[i], color=AZred * f + AZblue * (1 - f))\n",
        "plt.setp(l, linewidth=3)\n",
        "plt.setp(ax[1], yticklabels=[])\n",
        "\n",
        "plt.sca(ax[2])\n",
        "plt.setp(ax[2], yticklabels=[])\n",
        "plt.tight_layout()\n",
        "\n",
        "plt.show()\n",
        "# Save resulting figure\n",
        "#fig.savefig('./Figures/Figure2.pdf')"
      ],
      "metadata": {
        "colab": {
          "base_uri": "https://localhost:8080/",
          "height": 1000
        },
        "id": "7I4jqOycJQ-S",
        "outputId": "ce973280-ae6d-4f26-d702-831e50355d63"
      },
      "execution_count": null,
      "outputs": [
        {
          "output_type": "stream",
          "name": "stdout",
          "text": [
            "[[0.45980312 0.50647321 0.7925     0.76948052 0.72202296]\n",
            " [0.45980312 0.50647321 0.7925     0.76948052 0.72202296]\n",
            " [0.45980312 0.50647321 0.7925     0.76948052 0.72202296]\n",
            " [0.45980312 0.50647321 0.7925     0.76948052 0.72202296]\n",
            " [0.45980312 0.50647321 0.7925     0.76948052 0.72202296]\n",
            " [0.45980312 0.50647321 0.7925     0.76948052 0.72202296]\n",
            " [0.45980312 0.50647321 0.7925     0.76948052 0.72202296]\n",
            " [0.45980312 0.50647321 0.7925     0.76948052 0.72202296]\n",
            " [0.45980312 0.50647321 0.7925     0.76948052 0.72202296]\n",
            " [0.45980312 0.50647321 0.7925     0.76948052 0.72202296]\n",
            " [0.45980312 0.50647321 0.7925     0.76948052 0.72202296]\n",
            " [0.45980312 0.50647321 0.7925     0.76948052 0.72202296]\n",
            " [0.45980312 0.50647321 0.7925     0.76948052 0.72202296]\n",
            " [0.45980312 0.50647321 0.7925     0.76948052 0.72202296]\n",
            " [0.45980312 0.50647321 0.7925     0.76948052 0.72202296]\n",
            " [0.45980312 0.50647321 0.7925     0.76948052 0.72202296]\n",
            " [0.45980312 0.50647321 0.7925     0.76948052 0.72202296]\n",
            " [0.45980312 0.50647321 0.7925     0.76948052 0.72202296]\n",
            " [0.45980312 0.50647321 0.7925     0.76948052 0.72202296]\n",
            " [0.45980312 0.50647321 0.7925     0.76948052 0.72202296]\n",
            " [0.45980312 0.50647321 0.7925     0.76948052 0.72202296]\n",
            " [0.45980312 0.50647321 0.7925     0.76948052 0.72202296]\n",
            " [0.45980312 0.50647321 0.7925     0.76948052 0.72202296]\n",
            " [0.45980312 0.50647321 0.7925     0.76948052 0.72202296]\n",
            " [0.45980312 0.50647321 0.7925     0.76948052 0.72202296]\n",
            " [0.45980312 0.50647321 0.7925     0.76948052 0.72202296]\n",
            " [0.45980312 0.50647321 0.7925     0.76948052 0.72202296]\n",
            " [0.45980312 0.50647321 0.7925     0.76948052 0.72202296]\n",
            " [0.45980312 0.50647321 0.7925     0.76948052 0.72202296]\n",
            " [0.45980312 0.50647321 0.7925     0.76948052 0.72202296]\n",
            " [0.45980312 0.50647321 0.7925     0.76948052 0.72202296]\n",
            " [0.45980312 0.50647321 0.7925     0.76948052 0.72202296]\n",
            " [0.45980312 0.50647321 0.7925     0.76948052 0.72202296]\n",
            " [0.45980312 0.50647321 0.7925     0.76948052 0.72202296]\n",
            " [0.45980312 0.50647321 0.7925     0.76948052 0.72202296]\n",
            " [0.45980312 0.50647321 0.7925     0.76948052 0.72202296]\n",
            " [0.45980312 0.50647321 0.7925     0.76948052 0.72202296]\n",
            " [0.45980312 0.50647321 0.7925     0.76948052 0.72202296]\n",
            " [0.45980312 0.50647321 0.7925     0.76948052 0.72202296]\n",
            " [0.45980312 0.50647321 0.7925     0.76948052 0.72202296]\n",
            " [0.45980312 0.50647321 0.7925     0.76948052 0.72202296]\n",
            " [0.45980312 0.50647321 0.7925     0.76948052 0.72202296]\n",
            " [0.45980312 0.50647321 0.7925     0.76948052 0.72202296]\n",
            " [0.45980312 0.50647321 0.7925     0.76948052 0.72202296]\n",
            " [0.45980312 0.50647321 0.7925     0.76948052 0.72202296]\n",
            " [0.45980312 0.50647321 0.7925     0.76948052 0.72202296]\n",
            " [0.45980312 0.50647321 0.7925     0.76948052 0.72202296]\n",
            " [0.45980312 0.50647321 0.7925     0.76948052 0.72202296]\n",
            " [0.45980312 0.50647321 0.7925     0.76948052 0.72202296]\n",
            " [0.45980312 0.50647321 0.7925     0.76948052 0.72202296]\n",
            " [0.45980312 0.50647321 0.7925     0.76948052 0.72202296]\n",
            " [0.45980312 0.50647321 0.7925     0.76948052 0.72202296]\n",
            " [0.45980312 0.50647321 0.7925     0.76948052 0.72202296]\n",
            " [0.45980312 0.50647321 0.7925     0.76948052 0.72202296]\n",
            " [0.45980312 0.50647321 0.7925     0.76948052 0.72202296]\n",
            " [0.45980312 0.50647321 0.7925     0.76948052 0.72202296]\n",
            " [0.45980312 0.50647321 0.7925     0.76948052 0.72202296]\n",
            " [0.45980312 0.50647321 0.7925     0.76948052 0.72202296]\n",
            " [0.45980312 0.50647321 0.7925     0.76948052 0.72202296]\n",
            " [0.45980312 0.50647321 0.7925     0.76948052 0.72202296]\n",
            " [0.45980312 0.50647321 0.7925     0.76948052 0.72202296]\n",
            " [0.45980312 0.50647321 0.7925     0.76948052 0.72202296]\n",
            " [0.45980312 0.50647321 0.7925     0.76948052 0.72202296]\n",
            " [0.45980312 0.50647321 0.7925     0.76948052 0.72202296]\n",
            " [0.45980312 0.50647321 0.7925     0.76948052 0.72202296]\n",
            " [0.45980312 0.50647321 0.7925     0.76948052 0.72202296]\n",
            " [0.45980312 0.50647321 0.7925     0.76948052 0.72202296]\n",
            " [0.45980312 0.50647321 0.7925     0.76948052 0.72202296]\n",
            " [0.45980312 0.50647321 0.7925     0.76948052 0.72202296]\n",
            " [0.45980312 0.50647321 0.7925     0.76948052 0.72202296]\n",
            " [0.45980312 0.50647321 0.7925     0.76948052 0.72202296]\n",
            " [0.45980312 0.50647321 0.7925     0.76948052 0.72202296]\n",
            " [0.45980312 0.50647321 0.7925     0.76948052 0.72202296]\n",
            " [0.45980312 0.50647321 0.7925     0.76948052 0.72202296]\n",
            " [0.45980312 0.50647321 0.7925     0.76948052 0.72202296]\n",
            " [0.45980312 0.50647321 0.7925     0.76948052 0.72202296]\n",
            " [0.45980312 0.50647321 0.7925     0.76948052 0.72202296]\n",
            " [0.45980312 0.50647321 0.7925     0.76948052 0.72202296]\n",
            " [0.45980312 0.50647321 0.7925     0.76948052 0.72202296]\n",
            " [0.45980312 0.50647321 0.7925     0.76948052 0.72202296]\n",
            " [0.45980312 0.50647321 0.7925     0.76948052 0.72202296]\n",
            " [0.45980312 0.50647321 0.7925     0.76948052 0.72202296]\n",
            " [0.45980312 0.50647321 0.7925     0.76948052 0.72202296]\n",
            " [0.45980312 0.50647321 0.7925     0.76948052 0.72202296]\n",
            " [0.45980312 0.50647321 0.7925     0.76948052 0.72202296]\n",
            " [0.45980312 0.50647321 0.7925     0.76948052 0.72202296]\n",
            " [0.45980312 0.50647321 0.7925     0.76948052 0.72202296]\n",
            " [0.45980312 0.50647321 0.7925     0.76948052 0.72202296]\n",
            " [0.45980312 0.50647321 0.7925     0.76948052 0.72202296]\n",
            " [0.45980312 0.50647321 0.7925     0.76948052 0.72202296]\n",
            " [0.45980312 0.50647321 0.7925     0.76948052 0.72202296]\n",
            " [0.45980312 0.50647321 0.7925     0.76948052 0.72202296]\n",
            " [0.45980312 0.50647321 0.7925     0.76948052 0.72202296]\n",
            " [0.45980312 0.50647321 0.7925     0.76948052 0.72202296]\n",
            " [0.45980312 0.50647321 0.7925     0.76948052 0.72202296]\n",
            " [0.45980312 0.50647321 0.7925     0.76948052 0.72202296]\n",
            " [0.45980312 0.50647321 0.7925     0.76948052 0.72202296]\n",
            " [0.45980312 0.50647321 0.7925     0.76948052 0.72202296]\n",
            " [0.45980312 0.50647321 0.7925     0.76948052 0.72202296]\n",
            " [0.45980312 0.50647321 0.7925     0.76948052 0.72202296]]\n",
            "  agg_filter: a filter function, which takes a (m, n, 3) float array and a dpi value, and returns a (m, n, 3) array and two offsets from the bottom left corner of the image\n",
            "  alignment: {'center', 'left', 'right'}.\n",
            "  alpha: scalar or None\n",
            "  animated: bool\n",
            "  bbox_to_anchor: `~matplotlib.transforms.BboxBase` or tuple\n",
            "  clip_box: `.Bbox`\n",
            "  clip_on: bool\n",
            "  clip_path: Patch or (Path, Transform) or None\n",
            "  draggable: bool\n",
            "  figure: `.Figure`\n",
            "  frame_on: bool\n",
            "  gid: str\n",
            "  in_layout: bool\n",
            "  label: object\n",
            "  mouseover: bool\n",
            "  ncols: unknown\n",
            "  path_effects: `.AbstractPathEffect`\n",
            "  picker: None or bool or float or callable\n",
            "  rasterized: bool\n",
            "  sketch_params: (scale: float, length: float, randomness: float)\n",
            "  snap: bool or None\n",
            "  title: str\n",
            "  transform: `.Transform`\n",
            "  url: str\n",
            "  visible: bool\n",
            "  zorder: float\n",
            "  agg_filter: a filter function, which takes a (m, n, 3) float array and a dpi value, and returns a (m, n, 3) array and two offsets from the bottom left corner of the image\n",
            "  alignment: {'center', 'left', 'right'}.\n",
            "  alpha: scalar or None\n",
            "  animated: bool\n",
            "  bbox_to_anchor: `~matplotlib.transforms.BboxBase` or tuple\n",
            "  clip_box: `.Bbox`\n",
            "  clip_on: bool\n",
            "  clip_path: Patch or (Path, Transform) or None\n",
            "  draggable: bool\n",
            "  figure: `.Figure`\n",
            "  frame_on: bool\n",
            "  gid: str\n",
            "  in_layout: bool\n",
            "  label: object\n",
            "  mouseover: bool\n",
            "  ncols: unknown\n",
            "  path_effects: `.AbstractPathEffect`\n",
            "  picker: None or bool or float or callable\n",
            "  rasterized: bool\n",
            "  sketch_params: (scale: float, length: float, randomness: float)\n",
            "  snap: bool or None\n",
            "  title: str\n",
            "  transform: `.Transform`\n",
            "  url: str\n",
            "  visible: bool\n",
            "  zorder: float\n"
          ]
        },
        {
          "output_type": "display_data",
          "data": {
            "text/plain": [
              "<Figure size 640x480 with 1 Axes>"
            ],
            "image/png": "[encoded data removed]"
          },
          "metadata": {}
        },
        {
          "output_type": "display_data",
          "data": {
            "text/plain": [
              "<Figure size 1500x600 with 3 Axes>"
            ],
            "image/png": "[encoded data removed]"
          },
          "metadata": {}
        }
      ]
    },
    {
      "cell_type": "code",
      "source": [
        "import numpy as np\n",
        "import matplotlib.pyplot as plt\n",
        "import random\n",
        "\n",
        "# Experiment parameters\n",
        "T = 100  # number of trials\n",
        "mu = [0.2, 0.8]  # mean reward of bandits\n",
        "\n",
        "np.random.seed(2)\n",
        "\n",
        "# Model 3: Rescorla Wagner\n",
        "num_simulations = 100\n",
        "Xsim = np.zeros((2, num_simulations))\n",
        "Xfit = np.zeros((2, num_simulations))\n",
        "\n",
        "for count in range(num_simulations):\n",
        "    alpha = random.random()\n",
        "    beta = np.random.exponential(scale=10)\n",
        "    a, r = simulate_M3RescorlaWagner_v1(T, mu, alpha, beta)\n",
        "    Xf, LL, BIC = fit_M3RescorlaWagner_v1(a, r)\n",
        "\n",
        "    Xsim[0, count] = alpha\n",
        "    Xsim[1, count] = beta\n",
        "    Xfit[0, count] = Xf[0]\n",
        "    Xfit[1, count] = Xf[1]\n",
        "\n",
        "# Basic parameter recovery plots\n",
        "names = ['learning rate', 'softmax temperature']\n",
        "symbols = ['\\alpha', '\\beta']\n",
        "plt.figure(1, figsize=(6, 3))\n",
        "plt.subplots_adjust(bottom=0.1, left=0.1, right=0.95, top=0.9, wspace=0.2, hspace=0.4)\n",
        "ax = plt.subplot(1, 2, 1)\n",
        "plt.plot(Xsim[0, :], Xfit[0, :], 'o', color=AZred, markersize=8, linewidth=1)\n",
        "xl = plt.gca().get_xlim()\n",
        "plt.plot(xl, xl, 'g')\n",
        "plt.xlabel('simulated ' + symbols[0])\n",
        "plt.ylabel('fit ' + symbols[0])\n",
        "\n",
        "ax = plt.subplot(1, 2, 2)\n",
        "plt.plot(Xsim[1, :], Xfit[1, :], 'o', color=AZred, markersize=8, linewidth=1)\n",
        "xl = plt.gca().get_xlim()\n",
        "plt.plot(xl, xl, 'g')\n",
        "plt.xlabel('simulated ' + symbols[1])\n",
        "plt.ylabel('fit ' + symbols[1])\n",
        "\n",
        "plt.xscale('log')\n",
        "plt.yscale('log')\n",
        "\n",
        "plt.savefig('Figure4.png')\n",
        "plt.savefig('Figure4.eps')\n",
        "plt.show()\n"
      ],
      "metadata": {
        "colab": {
          "base_uri": "https://localhost:8080/",
          "height": 678
        },
        "id": "_cAwmWHnJRAK",
        "outputId": "faf7092c-3662-435e-b87c-cce7bc485f96"
      },
      "execution_count": null,
      "outputs": [
        {
          "output_type": "stream",
          "name": "stderr",
          "text": [
            "<ipython-input-104-9af6971b682b>:10: RuntimeWarning: overflow encountered in exp\n",
            "  p = np.exp(beta * Q) / np.sum(np.exp(beta * Q))\n",
            "<ipython-input-104-9af6971b682b>:10: RuntimeWarning: invalid value encountered in true_divide\n",
            "  p = np.exp(beta * Q) / np.sum(np.exp(beta * Q))\n",
            "<ipython-input-104-9af6971b682b>:20: RuntimeWarning: divide by zero encountered in log\n",
            "  NegLL = -np.sum(np.log(choiceProb))\n",
            "/usr/local/lib/python3.10/dist-packages/numpy/core/fromnumeric.py:86: RuntimeWarning: overflow encountered in reduce\n",
            "  return ufunc.reduce(obj, axis, dtype, out, **passkwargs)\n",
            "<ipython-input-108-c7882ca326f1>:49: UserWarning: Glyph 7 (\u0007) missing from current font.\n",
            "  plt.savefig('Figure4.png')\n",
            "<ipython-input-108-c7882ca326f1>:49: UserWarning: Glyph 8 (\b) missing from current font.\n",
            "  plt.savefig('Figure4.png')\n",
            "<ipython-input-108-c7882ca326f1>:50: UserWarning: Glyph 7 (\u0007) missing from current font.\n",
            "  plt.savefig('Figure4.eps')\n",
            "<ipython-input-108-c7882ca326f1>:50: UserWarning: Glyph 8 (\b) missing from current font.\n",
            "  plt.savefig('Figure4.eps')\n",
            "/usr/local/lib/python3.10/dist-packages/IPython/core/pylabtools.py:151: UserWarning: Glyph 7 (\u0007) missing from current font.\n",
            "  fig.canvas.print_figure(bytes_io, **kw)\n",
            "/usr/local/lib/python3.10/dist-packages/IPython/core/pylabtools.py:151: UserWarning: Glyph 8 (\b) missing from current font.\n",
            "  fig.canvas.print_figure(bytes_io, **kw)\n"
          ]
        },
        {
          "output_type": "display_data",
          "data": {
            "text/plain": [
              "<Figure size 600x300 with 2 Axes>"
            ],
            "image/png": "[encoded data removed]"
          },
          "metadata": {}
        }
      ]
    },
    {
      "cell_type": "code",
      "source": [
        "import numpy as np\n",
        "import matplotlib.pyplot as plt\n",
        "\n",
        "def simulate(realalpha, realbeta, realrho, realK):\n",
        "    b = 0\n",
        "    t = 0\n",
        "    stim = []\n",
        "    update = []\n",
        "    choice = []\n",
        "    rew = []\n",
        "    setsize = []\n",
        "\n",
        "    for rep in range(3):\n",
        "        for ns in range(2, 7):\n",
        "            b += 1\n",
        "            update.append(1)\n",
        "            w = realrho * (min(1, realK / ns))\n",
        "            Q = (1/3) * np.ones((ns, 3))\n",
        "            WM = (1/3) * np.ones((ns, 3))\n",
        "            trials = np.repeat(np.arange(1, ns+1), 15)\n",
        "\n",
        "            for s in trials:\n",
        "                t += 1\n",
        "                stim.append(s)\n",
        "                setsize.append(ns)\n",
        "                softmax1 = np.exp(realbeta * Q[s-1]) / np.sum(np.exp(realbeta * Q[s-1]))\n",
        "                softmax2 = np.exp(50 * WM[s-1]) / np.sum(np.exp(50 * WM[s-1]))\n",
        "                pr = (1 - w) * softmax1 + w * softmax2\n",
        "                r = np.random.rand()\n",
        "\n",
        "                if r < pr[0]:\n",
        "                    choice.append(1)\n",
        "                elif r < pr[0] + pr[1]:\n",
        "                    choice.append(2)\n",
        "                else:\n",
        "                    choice.append(3)\n",
        "\n",
        "                rew.append(choice[t-1] == (s % 3) + 1)\n",
        "                Q[s-1, choice[t-1]-1] = Q[s-1, choice[t-1]-1] + realalpha * (rew[t-1] - Q[s-1, choice[t-1]-1])\n",
        "                WM[s-1, choice[t-1]-1] = rew[t-1]\n",
        "\n",
        "    update.append(0)\n",
        "    return np.array(stim), np.array(update), np.array(choice), np.array(rew), np.array(setsize)\n",
        "\n",
        "def computellh(p, K, stim, update, choice, rew, setsize):\n",
        "    rho = p[0]\n",
        "    alpha = p[1]\n",
        "    beta = 50 * p[2]\n",
        "    l = 0\n",
        "\n",
        "    for t in range(len(stim)):\n",
        "        s = stim[t]\n",
        "\n",
        "        if update[t]:\n",
        "            Q = (1/3) * np.ones((setsize[t], 3))\n",
        "            WM = (1/3) * np.ones((setsize[t], 3))\n",
        "\n",
        "        w = rho * (min(1, K / setsize[t]))\n",
        "        softmax1 = np.exp(beta * Q[s-1]) / np.sum(np.exp(beta * Q[s-1]))\n",
        "        softmax2 = np.exp(50 * WM[s-1]) / np.sum(np.exp(50 * WM[s-1]))\n",
        "        pr = (1 - w) * softmax1 + w * softmax2\n",
        "        l += np.log(pr[choice[t]-1])\n",
        "        Q[s-1, choice[t]-1] = Q[s-1, choice[t]-1] + alpha * (rew[t] - Q[s-1, choice[t]-1])\n",
        "        WM[s-1, choice[t]-1] = rew[t]\n",
        "\n",
        "    return -l\n",
        "\n",
        "alphas = np.arange(0.06, 0.51, 0.01)\n",
        "betas = np.concatenate(([1], np.arange(4, 21, 2)))\n",
        "rhos = np.arange(0.5, 0.99, 0.01)\n",
        "Ks = np.arange(2, 7)\n",
        "\n",
        "realalpha = 0.1\n",
        "realbeta = 8\n",
        "realrho = 0.9\n",
        "realK = 4\n",
        "\n",
        "stim, update, choice, rew, setsize = simulate(realalpha, realbeta, realrho, realK)\n",
        "\n",
        "options = {'maxfun': 100000, 'disp': False, 'algorithm': 'active-set'}\n",
        "pars = np.zeros((10, 4))\n",
        "bestllh = np.zeros((100, 10))\n",
        "bestpars = np.zeros((100, 10, 3))\n",
        "when = np.zeros((100, 3))\n",
        "\n",
        "for init in range(10):\n",
        "    x0 = np.random.rand(3)\n",
        "    res = minimize(lambda x: computellh(x, realK, stim, update, choice, rew, setsize), x0, method='SLSQP', bounds=[(0, 1)] * 3, options=options)\n",
        "    pars[init, :-1] = res.x\n",
        "    pars[init, -1] = res.fun\n",
        "\n",
        "mf = np.min(pars[:, -1])\n",
        "i = np.argmin(pars[:, -1])\n",
        "pars = pars[i, :]\n",
        "\n",
        "llh = np.zeros((len(alphas), len(betas), len(rhos), len(Ks)))\n",
        "\n",
        "for i1, alpha in enumerate(alphas):\n",
        "    for i2, beta in enumerate(betas):\n",
        "        for j1, rho in enumerate(rhos):\n",
        "            for j2, K in enumerate(Ks):\n",
        "                p = [rho, alpha, beta / 50]\n",
        "                llh[i1, i2, j1, j2] = -computellh(p, K, stim, update, choice, rew, setsize)\n",
        "\n",
        "fig, axes = plt.subplots(2, 2, figsize=(10, 8))\n",
        "\n",
        "llh2 = np.max(llh, axis=1)\n",
        "mi = np.min(llh2)\n",
        "ma = np.max(llh2)\n",
        "x = np.tile(np.arange(len(alphas)), (len(rhos), 1)).T\n",
        "y = np.tile(np.arange(len(rhos)), (len(alphas), 1))\n",
        "mb = np.argmax(llh2)\n",
        "i, j = np.unravel_index(mb, llh2.shape)\n",
        "im = axes[0, 0].imshow(llh2[:, :, i, j].T, origin='lower', extent=[alphas[0], alphas[-1], rhos[0], rhos[-1]], aspect='auto', cmap='hot')\n",
        "axes[0, 0].colorbar(im)\n",
        "axes[0, 0].plot(alphas[x[mb]], rhos[y[mb]], 'ok')\n",
        "axes[0, 0].plot(realalpha, realrho, 'xr')\n",
        "axes[0, 0].plot(pars[1], pars[0], '*k')\n",
        "axes[0, 0].set_xlabel('alpha')\n",
        "axes[0, 0].set_ylabel('rho')\n",
        "\n",
        "bestllh = bestllh[:, :-1] - np.tile(bestllh[:, -1], (1, 9))\n",
        "axes[0, 1].errorbar(np.mean(bestllh, axis=0), np.std(bestllh, axis=0) / np.sqrt(100), linewidth=1)\n",
        "axes[0, 1].set_xlabel('starting point iteration')\n",
        "axes[0, 1].set_ylabel('local-global best nlh')\n",
        "\n",
        "bestpars = bestpars[:, :-1, :] - np.tile(bestpars[:, -1, :], (1, 9, 1))\n",
        "bestpars = np.sum(bestpars**2, axis=2)\n",
        "axes[1, 0].errorbar(np.mean(bestpars, axis=0), np.std(bestpars, axis=0) / np.sqrt(100), linewidth=1)\n",
        "axes[1, 0].set_xlabel('starting point iteration')\n",
        "axes[1, 0].set_ylabel('d(local-global best param)')\n",
        "\n",
        "axes[1, 1].plot(np.sort(when[:, 0]), 'o-', linewidth=1)\n",
        "axes[1, 1].plot(np.sort(when[:, 1]), 'o-', linewidth=1)\n",
        "axes[1, 1].legend(['global = best', 'global = |llh-best|<.01'])\n",
        "axes[1, 1].set_ylabel('iteration where global llh first reached')\n",
        "axes[1, 1].set_xlabel('sorted simulation number')\n",
        "\n",
        "plt.tight_layout()\n",
        "plt.show()\n"
      ],
      "metadata": {
        "colab": {
          "base_uri": "https://localhost:8080/",
          "height": 415
        },
        "id": "SIWyfaD7JRDu",
        "outputId": "eb99c1ae-d11d-43d0-814f-6e11456829c9"
      },
      "execution_count": null,
      "outputs": [
        {
          "output_type": "stream",
          "name": "stderr",
          "text": [
            "<ipython-input-153-6d1b67302d95>:88: OptimizeWarning: Unknown solver options: maxfun, algorithm\n",
            "  res = minimize(lambda x: computellh(x, realK, stim, update, choice, rew, setsize), x0, method='SLSQP', bounds=[(0, 1)] * 3, options=options)\n"
          ]
        },
        {
          "output_type": "error",
          "ename": "IndexError",
          "evalue": "ignored",
          "traceback": [
            "\u001b[0;31m---------------------------------------------------------------------------\u001b[0m",
            "\u001b[0;31mIndexError\u001b[0m                                Traceback (most recent call last)",
            "\u001b[0;32m<ipython-input-153-6d1b67302d95>\u001b[0m in \u001b[0;36m<cell line: 86>\u001b[0;34m()\u001b[0m\n\u001b[1;32m     86\u001b[0m \u001b[0;32mfor\u001b[0m \u001b[0minit\u001b[0m \u001b[0;32min\u001b[0m \u001b[0mrange\u001b[0m\u001b[0;34m(\u001b[0m\u001b[0;36m10\u001b[0m\u001b[0;34m)\u001b[0m\u001b[0;34m:\u001b[0m\u001b[0;34m\u001b[0m\u001b[0;34m\u001b[0m\u001b[0m\n\u001b[1;32m     87\u001b[0m     \u001b[0mx0\u001b[0m \u001b[0;34m=\u001b[0m \u001b[0mnp\u001b[0m\u001b[0;34m.\u001b[0m\u001b[0mrandom\u001b[0m\u001b[0;34m.\u001b[0m\u001b[0mrand\u001b[0m\u001b[0;34m(\u001b[0m\u001b[0;36m3\u001b[0m\u001b[0;34m)\u001b[0m\u001b[0;34m\u001b[0m\u001b[0;34m\u001b[0m\u001b[0m\n\u001b[0;32m---> 88\u001b[0;31m     \u001b[0mres\u001b[0m \u001b[0;34m=\u001b[0m \u001b[0mminimize\u001b[0m\u001b[0;34m(\u001b[0m\u001b[0;32mlambda\u001b[0m \u001b[0mx\u001b[0m\u001b[0;34m:\u001b[0m \u001b[0mcomputellh\u001b[0m\u001b[0;34m(\u001b[0m\u001b[0mx\u001b[0m\u001b[0;34m,\u001b[0m \u001b[0mrealK\u001b[0m\u001b[0;34m,\u001b[0m \u001b[0mstim\u001b[0m\u001b[0;34m,\u001b[0m \u001b[0mupdate\u001b[0m\u001b[0;34m,\u001b[0m \u001b[0mchoice\u001b[0m\u001b[0;34m,\u001b[0m \u001b[0mrew\u001b[0m\u001b[0;34m,\u001b[0m \u001b[0msetsize\u001b[0m\u001b[0;34m)\u001b[0m\u001b[0;34m,\u001b[0m \u001b[0mx0\u001b[0m\u001b[0;34m,\u001b[0m \u001b[0mmethod\u001b[0m\u001b[0;34m=\u001b[0m\u001b[0;34m'SLSQP'\u001b[0m\u001b[0;34m,\u001b[0m \u001b[0mbounds\u001b[0m\u001b[0;34m=\u001b[0m\u001b[0;34m[\u001b[0m\u001b[0;34m(\u001b[0m\u001b[0;36m0\u001b[0m\u001b[0;34m,\u001b[0m \u001b[0;36m1\u001b[0m\u001b[0;34m)\u001b[0m\u001b[0;34m]\u001b[0m \u001b[0;34m*\u001b[0m \u001b[0;36m3\u001b[0m\u001b[0;34m,\u001b[0m \u001b[0moptions\u001b[0m\u001b[0;34m=\u001b[0m\u001b[0moptions\u001b[0m\u001b[0;34m)\u001b[0m\u001b[0;34m\u001b[0m\u001b[0;34m\u001b[0m\u001b[0m\n\u001b[0m\u001b[1;32m     89\u001b[0m     \u001b[0mpars\u001b[0m\u001b[0;34m[\u001b[0m\u001b[0minit\u001b[0m\u001b[0;34m,\u001b[0m \u001b[0;34m:\u001b[0m\u001b[0;34m-\u001b[0m\u001b[0;36m1\u001b[0m\u001b[0;34m]\u001b[0m \u001b[0;34m=\u001b[0m \u001b[0mres\u001b[0m\u001b[0;34m.\u001b[0m\u001b[0mx\u001b[0m\u001b[0;34m\u001b[0m\u001b[0;34m\u001b[0m\u001b[0m\n\u001b[1;32m     90\u001b[0m     \u001b[0mpars\u001b[0m\u001b[0;34m[\u001b[0m\u001b[0minit\u001b[0m\u001b[0;34m,\u001b[0m \u001b[0;34m-\u001b[0m\u001b[0;36m1\u001b[0m\u001b[0;34m]\u001b[0m \u001b[0;34m=\u001b[0m \u001b[0mres\u001b[0m\u001b[0;34m.\u001b[0m\u001b[0mfun\u001b[0m\u001b[0;34m\u001b[0m\u001b[0;34m\u001b[0m\u001b[0m\n",
            "\u001b[0;32m/usr/local/lib/python3.10/dist-packages/scipy/optimize/_minimize.py\u001b[0m in \u001b[0;36mminimize\u001b[0;34m(fun, x0, args, method, jac, hess, hessp, bounds, constraints, tol, callback, options)\u001b[0m\n\u001b[1;32m    703\u001b[0m                                 **options)\n\u001b[1;32m    704\u001b[0m     \u001b[0;32melif\u001b[0m \u001b[0mmeth\u001b[0m \u001b[0;34m==\u001b[0m \u001b[0;34m'slsqp'\u001b[0m\u001b[0;34m:\u001b[0m\u001b[0;34m\u001b[0m\u001b[0;34m\u001b[0m\u001b[0m\n\u001b[0;32m--> 705\u001b[0;31m         res = _minimize_slsqp(fun, x0, args, jac, bounds,\n\u001b[0m\u001b[1;32m    706\u001b[0m                               constraints, callback=callback, **options)\n\u001b[1;32m    707\u001b[0m     \u001b[0;32melif\u001b[0m \u001b[0mmeth\u001b[0m \u001b[0;34m==\u001b[0m \u001b[0;34m'trust-constr'\u001b[0m\u001b[0;34m:\u001b[0m\u001b[0;34m\u001b[0m\u001b[0;34m\u001b[0m\u001b[0m\n",
            "\u001b[0;32m/usr/local/lib/python3.10/dist-packages/scipy/optimize/_slsqp_py.py\u001b[0m in \u001b[0;36m_minimize_slsqp\u001b[0;34m(func, x0, args, jac, bounds, constraints, maxiter, ftol, iprint, disp, eps, callback, finite_diff_rel_step, **unknown_options)\u001b[0m\n\u001b[1;32m    372\u001b[0m \u001b[0;34m\u001b[0m\u001b[0m\n\u001b[1;32m    373\u001b[0m     \u001b[0;31m# ScalarFunction provides function and gradient evaluation\u001b[0m\u001b[0;34m\u001b[0m\u001b[0;34m\u001b[0m\u001b[0m\n\u001b[0;32m--> 374\u001b[0;31m     sf = _prepare_scalar_function(func, x, jac=jac, args=args, epsilon=eps,\n\u001b[0m\u001b[1;32m    375\u001b[0m                                   \u001b[0mfinite_diff_rel_step\u001b[0m\u001b[0;34m=\u001b[0m\u001b[0mfinite_diff_rel_step\u001b[0m\u001b[0;34m,\u001b[0m\u001b[0;34m\u001b[0m\u001b[0;34m\u001b[0m\u001b[0m\n\u001b[1;32m    376\u001b[0m                                   bounds=new_bounds)\n",
            "\u001b[0;32m/usr/local/lib/python3.10/dist-packages/scipy/optimize/_optimize.py\u001b[0m in \u001b[0;36m_prepare_scalar_function\u001b[0;34m(fun, x0, jac, args, bounds, epsilon, finite_diff_rel_step, hess)\u001b[0m\n\u001b[1;32m    330\u001b[0m     \u001b[0;31m# ScalarFunction caches. Reuse of fun(x) during grad\u001b[0m\u001b[0;34m\u001b[0m\u001b[0;34m\u001b[0m\u001b[0m\n\u001b[1;32m    331\u001b[0m     \u001b[0;31m# calculation reduces overall function evaluations.\u001b[0m\u001b[0;34m\u001b[0m\u001b[0;34m\u001b[0m\u001b[0m\n\u001b[0;32m--> 332\u001b[0;31m     sf = ScalarFunction(fun, x0, args, grad, hess,\n\u001b[0m\u001b[1;32m    333\u001b[0m                         finite_diff_rel_step, bounds, epsilon=epsilon)\n\u001b[1;32m    334\u001b[0m \u001b[0;34m\u001b[0m\u001b[0m\n",
            "\u001b[0;32m/usr/local/lib/python3.10/dist-packages/scipy/optimize/_differentiable_functions.py\u001b[0m in \u001b[0;36m__init__\u001b[0;34m(self, fun, x0, args, grad, hess, finite_diff_rel_step, finite_diff_bounds, epsilon)\u001b[0m\n\u001b[1;32m    156\u001b[0m \u001b[0;34m\u001b[0m\u001b[0m\n\u001b[1;32m    157\u001b[0m         \u001b[0mself\u001b[0m\u001b[0;34m.\u001b[0m\u001b[0m_update_fun_impl\u001b[0m \u001b[0;34m=\u001b[0m \u001b[0mupdate_fun\u001b[0m\u001b[0;34m\u001b[0m\u001b[0;34m\u001b[0m\u001b[0m\n\u001b[0;32m--> 158\u001b[0;31m         \u001b[0mself\u001b[0m\u001b[0;34m.\u001b[0m\u001b[0m_update_fun\u001b[0m\u001b[0;34m(\u001b[0m\u001b[0;34m)\u001b[0m\u001b[0;34m\u001b[0m\u001b[0;34m\u001b[0m\u001b[0m\n\u001b[0m\u001b[1;32m    159\u001b[0m \u001b[0;34m\u001b[0m\u001b[0m\n\u001b[1;32m    160\u001b[0m         \u001b[0;31m# Gradient evaluation\u001b[0m\u001b[0;34m\u001b[0m\u001b[0;34m\u001b[0m\u001b[0m\n",
            "\u001b[0;32m/usr/local/lib/python3.10/dist-packages/scipy/optimize/_differentiable_functions.py\u001b[0m in \u001b[0;36m_update_fun\u001b[0;34m(self)\u001b[0m\n\u001b[1;32m    249\u001b[0m     \u001b[0;32mdef\u001b[0m \u001b[0m_update_fun\u001b[0m\u001b[0;34m(\u001b[0m\u001b[0mself\u001b[0m\u001b[0;34m)\u001b[0m\u001b[0;34m:\u001b[0m\u001b[0;34m\u001b[0m\u001b[0;34m\u001b[0m\u001b[0m\n\u001b[1;32m    250\u001b[0m         \u001b[0;32mif\u001b[0m \u001b[0;32mnot\u001b[0m \u001b[0mself\u001b[0m\u001b[0;34m.\u001b[0m\u001b[0mf_updated\u001b[0m\u001b[0;34m:\u001b[0m\u001b[0;34m\u001b[0m\u001b[0;34m\u001b[0m\u001b[0m\n\u001b[0;32m--> 251\u001b[0;31m             \u001b[0mself\u001b[0m\u001b[0;34m.\u001b[0m\u001b[0m_update_fun_impl\u001b[0m\u001b[0;34m(\u001b[0m\u001b[0;34m)\u001b[0m\u001b[0;34m\u001b[0m\u001b[0;34m\u001b[0m\u001b[0m\n\u001b[0m\u001b[1;32m    252\u001b[0m             \u001b[0mself\u001b[0m\u001b[0;34m.\u001b[0m\u001b[0mf_updated\u001b[0m \u001b[0;34m=\u001b[0m \u001b[0;32mTrue\u001b[0m\u001b[0;34m\u001b[0m\u001b[0;34m\u001b[0m\u001b[0m\n\u001b[1;32m    253\u001b[0m \u001b[0;34m\u001b[0m\u001b[0m\n",
            "\u001b[0;32m/usr/local/lib/python3.10/dist-packages/scipy/optimize/_differentiable_functions.py\u001b[0m in \u001b[0;36mupdate_fun\u001b[0;34m()\u001b[0m\n\u001b[1;32m    153\u001b[0m \u001b[0;34m\u001b[0m\u001b[0m\n\u001b[1;32m    154\u001b[0m         \u001b[0;32mdef\u001b[0m \u001b[0mupdate_fun\u001b[0m\u001b[0;34m(\u001b[0m\u001b[0;34m)\u001b[0m\u001b[0;34m:\u001b[0m\u001b[0;34m\u001b[0m\u001b[0;34m\u001b[0m\u001b[0m\n\u001b[0;32m--> 155\u001b[0;31m             \u001b[0mself\u001b[0m\u001b[0;34m.\u001b[0m\u001b[0mf\u001b[0m \u001b[0;34m=\u001b[0m \u001b[0mfun_wrapped\u001b[0m\u001b[0;34m(\u001b[0m\u001b[0mself\u001b[0m\u001b[0;34m.\u001b[0m\u001b[0mx\u001b[0m\u001b[0;34m)\u001b[0m\u001b[0;34m\u001b[0m\u001b[0;34m\u001b[0m\u001b[0m\n\u001b[0m\u001b[1;32m    156\u001b[0m \u001b[0;34m\u001b[0m\u001b[0m\n\u001b[1;32m    157\u001b[0m         \u001b[0mself\u001b[0m\u001b[0;34m.\u001b[0m\u001b[0m_update_fun_impl\u001b[0m \u001b[0;34m=\u001b[0m \u001b[0mupdate_fun\u001b[0m\u001b[0;34m\u001b[0m\u001b[0;34m\u001b[0m\u001b[0m\n",
            "\u001b[0;32m/usr/local/lib/python3.10/dist-packages/scipy/optimize/_differentiable_functions.py\u001b[0m in \u001b[0;36mfun_wrapped\u001b[0;34m(x)\u001b[0m\n\u001b[1;32m    135\u001b[0m             \u001b[0;31m# Overwriting results in undefined behaviour because\u001b[0m\u001b[0;34m\u001b[0m\u001b[0;34m\u001b[0m\u001b[0m\n\u001b[1;32m    136\u001b[0m             \u001b[0;31m# fun(self.x) will change self.x, with the two no longer linked.\u001b[0m\u001b[0;34m\u001b[0m\u001b[0;34m\u001b[0m\u001b[0m\n\u001b[0;32m--> 137\u001b[0;31m             \u001b[0mfx\u001b[0m \u001b[0;34m=\u001b[0m \u001b[0mfun\u001b[0m\u001b[0;34m(\u001b[0m\u001b[0mnp\u001b[0m\u001b[0;34m.\u001b[0m\u001b[0mcopy\u001b[0m\u001b[0;34m(\u001b[0m\u001b[0mx\u001b[0m\u001b[0;34m)\u001b[0m\u001b[0;34m,\u001b[0m \u001b[0;34m*\u001b[0m\u001b[0margs\u001b[0m\u001b[0;34m)\u001b[0m\u001b[0;34m\u001b[0m\u001b[0;34m\u001b[0m\u001b[0m\n\u001b[0m\u001b[1;32m    138\u001b[0m             \u001b[0;31m# Make sure the function returns a true scalar\u001b[0m\u001b[0;34m\u001b[0m\u001b[0;34m\u001b[0m\u001b[0m\n\u001b[1;32m    139\u001b[0m             \u001b[0;32mif\u001b[0m \u001b[0;32mnot\u001b[0m \u001b[0mnp\u001b[0m\u001b[0;34m.\u001b[0m\u001b[0misscalar\u001b[0m\u001b[0;34m(\u001b[0m\u001b[0mfx\u001b[0m\u001b[0;34m)\u001b[0m\u001b[0;34m:\u001b[0m\u001b[0;34m\u001b[0m\u001b[0;34m\u001b[0m\u001b[0m\n",
            "\u001b[0;32m<ipython-input-153-6d1b67302d95>\u001b[0m in \u001b[0;36m<lambda>\u001b[0;34m(x)\u001b[0m\n\u001b[1;32m     86\u001b[0m \u001b[0;32mfor\u001b[0m \u001b[0minit\u001b[0m \u001b[0;32min\u001b[0m \u001b[0mrange\u001b[0m\u001b[0;34m(\u001b[0m\u001b[0;36m10\u001b[0m\u001b[0;34m)\u001b[0m\u001b[0;34m:\u001b[0m\u001b[0;34m\u001b[0m\u001b[0;34m\u001b[0m\u001b[0m\n\u001b[1;32m     87\u001b[0m     \u001b[0mx0\u001b[0m \u001b[0;34m=\u001b[0m \u001b[0mnp\u001b[0m\u001b[0;34m.\u001b[0m\u001b[0mrandom\u001b[0m\u001b[0;34m.\u001b[0m\u001b[0mrand\u001b[0m\u001b[0;34m(\u001b[0m\u001b[0;36m3\u001b[0m\u001b[0;34m)\u001b[0m\u001b[0;34m\u001b[0m\u001b[0;34m\u001b[0m\u001b[0m\n\u001b[0;32m---> 88\u001b[0;31m     \u001b[0mres\u001b[0m \u001b[0;34m=\u001b[0m \u001b[0mminimize\u001b[0m\u001b[0;34m(\u001b[0m\u001b[0;32mlambda\u001b[0m \u001b[0mx\u001b[0m\u001b[0;34m:\u001b[0m \u001b[0mcomputellh\u001b[0m\u001b[0;34m(\u001b[0m\u001b[0mx\u001b[0m\u001b[0;34m,\u001b[0m \u001b[0mrealK\u001b[0m\u001b[0;34m,\u001b[0m \u001b[0mstim\u001b[0m\u001b[0;34m,\u001b[0m \u001b[0mupdate\u001b[0m\u001b[0;34m,\u001b[0m \u001b[0mchoice\u001b[0m\u001b[0;34m,\u001b[0m \u001b[0mrew\u001b[0m\u001b[0;34m,\u001b[0m \u001b[0msetsize\u001b[0m\u001b[0;34m)\u001b[0m\u001b[0;34m,\u001b[0m \u001b[0mx0\u001b[0m\u001b[0;34m,\u001b[0m \u001b[0mmethod\u001b[0m\u001b[0;34m=\u001b[0m\u001b[0;34m'SLSQP'\u001b[0m\u001b[0;34m,\u001b[0m \u001b[0mbounds\u001b[0m\u001b[0;34m=\u001b[0m\u001b[0;34m[\u001b[0m\u001b[0;34m(\u001b[0m\u001b[0;36m0\u001b[0m\u001b[0;34m,\u001b[0m \u001b[0;36m1\u001b[0m\u001b[0;34m)\u001b[0m\u001b[0;34m]\u001b[0m \u001b[0;34m*\u001b[0m \u001b[0;36m3\u001b[0m\u001b[0;34m,\u001b[0m \u001b[0moptions\u001b[0m\u001b[0;34m=\u001b[0m\u001b[0moptions\u001b[0m\u001b[0;34m)\u001b[0m\u001b[0;34m\u001b[0m\u001b[0;34m\u001b[0m\u001b[0m\n\u001b[0m\u001b[1;32m     89\u001b[0m     \u001b[0mpars\u001b[0m\u001b[0;34m[\u001b[0m\u001b[0minit\u001b[0m\u001b[0;34m,\u001b[0m \u001b[0;34m:\u001b[0m\u001b[0;34m-\u001b[0m\u001b[0;36m1\u001b[0m\u001b[0;34m]\u001b[0m \u001b[0;34m=\u001b[0m \u001b[0mres\u001b[0m\u001b[0;34m.\u001b[0m\u001b[0mx\u001b[0m\u001b[0;34m\u001b[0m\u001b[0;34m\u001b[0m\u001b[0m\n\u001b[1;32m     90\u001b[0m     \u001b[0mpars\u001b[0m\u001b[0;34m[\u001b[0m\u001b[0minit\u001b[0m\u001b[0;34m,\u001b[0m \u001b[0;34m-\u001b[0m\u001b[0;36m1\u001b[0m\u001b[0;34m]\u001b[0m \u001b[0;34m=\u001b[0m \u001b[0mres\u001b[0m\u001b[0;34m.\u001b[0m\u001b[0mfun\u001b[0m\u001b[0;34m\u001b[0m\u001b[0;34m\u001b[0m\u001b[0m\n",
            "\u001b[0;32m<ipython-input-153-6d1b67302d95>\u001b[0m in \u001b[0;36mcomputellh\u001b[0;34m(p, K, stim, update, choice, rew, setsize)\u001b[0m\n\u001b[1;32m     52\u001b[0m         \u001b[0ms\u001b[0m \u001b[0;34m=\u001b[0m \u001b[0mstim\u001b[0m\u001b[0;34m[\u001b[0m\u001b[0mt\u001b[0m\u001b[0;34m]\u001b[0m\u001b[0;34m\u001b[0m\u001b[0;34m\u001b[0m\u001b[0m\n\u001b[1;32m     53\u001b[0m \u001b[0;34m\u001b[0m\u001b[0m\n\u001b[0;32m---> 54\u001b[0;31m         \u001b[0;32mif\u001b[0m \u001b[0mupdate\u001b[0m\u001b[0;34m[\u001b[0m\u001b[0mt\u001b[0m\u001b[0;34m]\u001b[0m\u001b[0;34m:\u001b[0m\u001b[0;34m\u001b[0m\u001b[0;34m\u001b[0m\u001b[0m\n\u001b[0m\u001b[1;32m     55\u001b[0m             \u001b[0mQ\u001b[0m \u001b[0;34m=\u001b[0m \u001b[0;34m(\u001b[0m\u001b[0;36m1\u001b[0m\u001b[0;34m/\u001b[0m\u001b[0;36m3\u001b[0m\u001b[0;34m)\u001b[0m \u001b[0;34m*\u001b[0m \u001b[0mnp\u001b[0m\u001b[0;34m.\u001b[0m\u001b[0mones\u001b[0m\u001b[0;34m(\u001b[0m\u001b[0;34m(\u001b[0m\u001b[0msetsize\u001b[0m\u001b[0;34m[\u001b[0m\u001b[0mt\u001b[0m\u001b[0;34m]\u001b[0m\u001b[0;34m,\u001b[0m \u001b[0;36m3\u001b[0m\u001b[0;34m)\u001b[0m\u001b[0;34m)\u001b[0m\u001b[0;34m\u001b[0m\u001b[0;34m\u001b[0m\u001b[0m\n\u001b[1;32m     56\u001b[0m             \u001b[0mWM\u001b[0m \u001b[0;34m=\u001b[0m \u001b[0;34m(\u001b[0m\u001b[0;36m1\u001b[0m\u001b[0;34m/\u001b[0m\u001b[0;36m3\u001b[0m\u001b[0;34m)\u001b[0m \u001b[0;34m*\u001b[0m \u001b[0mnp\u001b[0m\u001b[0;34m.\u001b[0m\u001b[0mones\u001b[0m\u001b[0;34m(\u001b[0m\u001b[0;34m(\u001b[0m\u001b[0msetsize\u001b[0m\u001b[0;34m[\u001b[0m\u001b[0mt\u001b[0m\u001b[0;34m]\u001b[0m\u001b[0;34m,\u001b[0m \u001b[0;36m3\u001b[0m\u001b[0;34m)\u001b[0m\u001b[0;34m)\u001b[0m\u001b[0;34m\u001b[0m\u001b[0;34m\u001b[0m\u001b[0m\n",
            "\u001b[0;31mIndexError\u001b[0m: index 16 is out of bounds for axis 0 with size 16"
          ]
        }
      ]
    },
    {
      "cell_type": "code",
      "source": [
        "import numpy as np\n",
        "import matplotlib.pyplot as plt\n",
        "\n",
        "# Define a range of learning rates to test\n",
        "alphas = np.arange(0.05, 1.05, 0.05)\n",
        "\n",
        "# Define a range of softmax parameters to test\n",
        "betas = np.concatenate(([1], np.arange(5, 55, 5)))\n",
        "\n",
        "# Define a range of WM reliance to test\n",
        "rhos = np.arange(0, 1.05, 0.05)\n",
        "\n",
        "# Define a range of capacities to test\n",
        "Ks = np.arange(2, 7)\n",
        "\n",
        "# Simulation parameters\n",
        "realalpha = 0.1\n",
        "realbeta = 10\n",
        "realrho = 0.9\n",
        "realK = 4\n",
        "\n",
        "# Simulate the RLWM task\n",
        "stim = np.array([])\n",
        "update = np.array([])\n",
        "choice = np.array([])\n",
        "rew = np.array([])\n",
        "setsize = np.array([])\n",
        "\n",
        "t = 0\n",
        "for rep in range(3):\n",
        "    for ns in range(2, 7):\n",
        "        update = np.append(update, 1)\n",
        "        w = realrho * (min(1, realK / ns))\n",
        "        Q = np.full((ns, 3), 0.5)\n",
        "        WM = np.full((ns, 3), 0.5)\n",
        "        trials = np.tile(np.arange(1, ns + 1), 15)\n",
        "        for s in trials:\n",
        "            t += 1\n",
        "            softmax1 = np.exp(realbeta * Q[s - 1]) / np.sum(np.exp(realbeta * Q[s - 1]))\n",
        "            softmax2 = np.exp(50 * WM[s - 1]) / np.sum(np.exp(50 * WM[s - 1]))\n",
        "            pr = (1 - w) * softmax1 + w * softmax2\n",
        "            r = np.random.rand()\n",
        "            if r < pr[0]:\n",
        "                choice = np.append(choice, 1)\n",
        "            elif r < pr[0] + pr[1]:\n",
        "                choice = np.append(choice, 2)\n",
        "            else:\n",
        "                choice = np.append(choice, 3)\n",
        "            rew = np.append(rew, choice[t - 1] == (s % 3 + 1))\n",
        "            Q[s - 1, choice[t - 1] - 1] = Q[s - 1, choice[t - 1] - 1] + realalpha * (rew[t - 1] - Q[s - 1, choice[t - 1] - 1])\n",
        "            WM[s - 1, choice[t - 1] - 1] = rew[t - 1]\n",
        "            stim = np.append(stim, s)\n",
        "            setsize = np.append(setsize, ns)\n",
        "\n",
        "# Compute likelihood for multiple parameters\n",
        "llh = np.zeros((len(alphas), len(betas), len(rhos), len(Ks)))\n",
        "\n",
        "for i1, alpha in enumerate(alphas):\n",
        "    for i2, beta in enumerate(betas):\n",
        "        for j1, rho in enumerate(rhos):\n",
        "            for j2, K in enumerate(Ks):\n",
        "                l = 0\n",
        "                Q = np.full((setsize[0], 3), 0.5)\n",
        "                WM = np.full((setsize[0], 3), 0.5)\n",
        "                for t in range(len(stim)):\n",
        "                    s = int(stim[t]) - 1\n",
        "                    if update[t]:\n",
        "                        Q = np.full((setsize[t], 3), 0.5)\n",
        "                        WM = np.full((setsize[t], 3), 0.5)\n",
        "                    w = rho * (min(1, K / setsize[t]))\n",
        "                    softmax1 = np.exp(beta * Q[s]) / np.sum(np.exp(beta * Q[s]))\n",
        "                    softmax2 = np.exp(50 * WM[s]) / np.sum(np.exp(50 * WM[s]))\n",
        "                    pr = (1 - w) * softmax1 + w * softmax2\n",
        "                    l += np.log(pr[int(choice[t]) - 1])\n",
        "                    Q[s, int(choice[t]) - 1] = Q[s, int(choice[t]) - 1] + alpha * (rew[t] - Q[s, int(choice[t]) - 1])\n",
        "                    WM[s, int(choice[t]) - 1] = rew[t]\n",
        "                llh[i1, i2, j1, j2] = l\n",
        "\n",
        "# Plot the likelihood surface projected on dimensions alpha and rho\n",
        "llh2 = np.max(np.max(llh, axis=3), axis=1)\n",
        "llh2 = llh2[:-1, :-1]\n",
        "mi = np.min(llh2)\n",
        "ma = np.max(llh2)\n",
        "x, y = np.unravel_index(np.argmax(llh2), llh2.shape)\n",
        "plt.imshow(llh2.T, origin='lower', extent=[alphas[0], alphas[-2], rhos[0], rhos[-2]], cmap='viridis')\n",
        "plt.colorbar()\n",
        "plt.plot(alphas[x], rhos[y], 'ok')\n",
        "plt.plot(realalpha, realrho, 'xr')\n",
        "plt.xlabel('alpha')\n",
        "plt.ylabel('rho')\n",
        "plt.title('Likelihood Surface')\n",
        "plt.show()\n",
        "\n",
        "# Plot 1D versions of the likelihood\n",
        "params = [alphas, betas, rhos, Ks]\n",
        "names = ['alpha', 'beta', 'rho', 'K']\n",
        "\n",
        "for i in range(len(params)):\n",
        "    out = list(range(4))\n",
        "    out.remove(i)\n",
        "    llh1 = np.max(np.max(np.max(llh, axis=out[3]), axis=out[2]), axis=out[1])\n",
        "    v, w = np.max(llh1), np.argmax(llh1)\n",
        "    plt.plot(params[i], llh1, 'o-', linewidth=2)\n",
        "    plt.plot(params[i][w], v, 'rx', linewidth=2)\n",
        "    plt.xlabel(names[i])\n",
        "    plt.ylabel('Log Likelihood')\n",
        "    plt.title('Likelihood Projection: ' + names[i])\n",
        "    plt.show()\n"
      ],
      "metadata": {
        "colab": {
          "base_uri": "https://localhost:8080/",
          "height": 235
        },
        "id": "rYd3x32uZlwJ",
        "outputId": "53aa235e-99e8-4ab2-8d70-5833a141b985"
      },
      "execution_count": null,
      "outputs": [
        {
          "output_type": "error",
          "ename": "IndexError",
          "evalue": "ignored",
          "traceback": [
            "\u001b[0;31m---------------------------------------------------------------------------\u001b[0m",
            "\u001b[0;31mIndexError\u001b[0m                                Traceback (most recent call last)",
            "\u001b[0;32m<ipython-input-143-86031ccbe954>\u001b[0m in \u001b[0;36m<cell line: 30>\u001b[0;34m()\u001b[0m\n\u001b[1;32m     48\u001b[0m                 \u001b[0mchoice\u001b[0m \u001b[0;34m=\u001b[0m \u001b[0mnp\u001b[0m\u001b[0;34m.\u001b[0m\u001b[0mappend\u001b[0m\u001b[0;34m(\u001b[0m\u001b[0mchoice\u001b[0m\u001b[0;34m,\u001b[0m \u001b[0;36m3\u001b[0m\u001b[0;34m)\u001b[0m\u001b[0;34m\u001b[0m\u001b[0;34m\u001b[0m\u001b[0m\n\u001b[1;32m     49\u001b[0m             \u001b[0mrew\u001b[0m \u001b[0;34m=\u001b[0m \u001b[0mnp\u001b[0m\u001b[0;34m.\u001b[0m\u001b[0mappend\u001b[0m\u001b[0;34m(\u001b[0m\u001b[0mrew\u001b[0m\u001b[0;34m,\u001b[0m \u001b[0mchoice\u001b[0m\u001b[0;34m[\u001b[0m\u001b[0mt\u001b[0m \u001b[0;34m-\u001b[0m \u001b[0;36m1\u001b[0m\u001b[0;34m]\u001b[0m \u001b[0;34m==\u001b[0m \u001b[0;34m(\u001b[0m\u001b[0ms\u001b[0m \u001b[0;34m%\u001b[0m \u001b[0;36m3\u001b[0m \u001b[0;34m+\u001b[0m \u001b[0;36m1\u001b[0m\u001b[0;34m)\u001b[0m\u001b[0;34m)\u001b[0m\u001b[0;34m\u001b[0m\u001b[0;34m\u001b[0m\u001b[0m\n\u001b[0;32m---> 50\u001b[0;31m             \u001b[0mQ\u001b[0m\u001b[0;34m[\u001b[0m\u001b[0ms\u001b[0m \u001b[0;34m-\u001b[0m \u001b[0;36m1\u001b[0m\u001b[0;34m,\u001b[0m \u001b[0mchoice\u001b[0m\u001b[0;34m[\u001b[0m\u001b[0mt\u001b[0m \u001b[0;34m-\u001b[0m \u001b[0;36m1\u001b[0m\u001b[0;34m]\u001b[0m \u001b[0;34m-\u001b[0m \u001b[0;36m1\u001b[0m\u001b[0;34m]\u001b[0m \u001b[0;34m=\u001b[0m \u001b[0mQ\u001b[0m\u001b[0;34m[\u001b[0m\u001b[0ms\u001b[0m \u001b[0;34m-\u001b[0m \u001b[0;36m1\u001b[0m\u001b[0;34m,\u001b[0m \u001b[0mchoice\u001b[0m\u001b[0;34m[\u001b[0m\u001b[0mt\u001b[0m \u001b[0;34m-\u001b[0m \u001b[0;36m1\u001b[0m\u001b[0;34m]\u001b[0m \u001b[0;34m-\u001b[0m \u001b[0;36m1\u001b[0m\u001b[0;34m]\u001b[0m \u001b[0;34m+\u001b[0m \u001b[0mrealalpha\u001b[0m \u001b[0;34m*\u001b[0m \u001b[0;34m(\u001b[0m\u001b[0mrew\u001b[0m\u001b[0;34m[\u001b[0m\u001b[0mt\u001b[0m \u001b[0;34m-\u001b[0m \u001b[0;36m1\u001b[0m\u001b[0;34m]\u001b[0m \u001b[0;34m-\u001b[0m \u001b[0mQ\u001b[0m\u001b[0;34m[\u001b[0m\u001b[0ms\u001b[0m \u001b[0;34m-\u001b[0m \u001b[0;36m1\u001b[0m\u001b[0;34m,\u001b[0m \u001b[0mchoice\u001b[0m\u001b[0;34m[\u001b[0m\u001b[0mt\u001b[0m \u001b[0;34m-\u001b[0m \u001b[0;36m1\u001b[0m\u001b[0;34m]\u001b[0m \u001b[0;34m-\u001b[0m \u001b[0;36m1\u001b[0m\u001b[0;34m]\u001b[0m\u001b[0;34m)\u001b[0m\u001b[0;34m\u001b[0m\u001b[0;34m\u001b[0m\u001b[0m\n\u001b[0m\u001b[1;32m     51\u001b[0m             \u001b[0mWM\u001b[0m\u001b[0;34m[\u001b[0m\u001b[0ms\u001b[0m \u001b[0;34m-\u001b[0m \u001b[0;36m1\u001b[0m\u001b[0;34m,\u001b[0m \u001b[0mchoice\u001b[0m\u001b[0;34m[\u001b[0m\u001b[0mt\u001b[0m \u001b[0;34m-\u001b[0m \u001b[0;36m1\u001b[0m\u001b[0;34m]\u001b[0m \u001b[0;34m-\u001b[0m \u001b[0;36m1\u001b[0m\u001b[0;34m]\u001b[0m \u001b[0;34m=\u001b[0m \u001b[0mrew\u001b[0m\u001b[0;34m[\u001b[0m\u001b[0mt\u001b[0m \u001b[0;34m-\u001b[0m \u001b[0;36m1\u001b[0m\u001b[0;34m]\u001b[0m\u001b[0;34m\u001b[0m\u001b[0;34m\u001b[0m\u001b[0m\n\u001b[1;32m     52\u001b[0m             \u001b[0mstim\u001b[0m \u001b[0;34m=\u001b[0m \u001b[0mnp\u001b[0m\u001b[0;34m.\u001b[0m\u001b[0mappend\u001b[0m\u001b[0;34m(\u001b[0m\u001b[0mstim\u001b[0m\u001b[0;34m,\u001b[0m \u001b[0ms\u001b[0m\u001b[0;34m)\u001b[0m\u001b[0;34m\u001b[0m\u001b[0;34m\u001b[0m\u001b[0m\n",
            "\u001b[0;31mIndexError\u001b[0m: only integers, slices (`:`), ellipsis (`...`), numpy.newaxis (`None`) and integer or boolean arrays are valid indices"
          ]
        }
      ]
    },
    {
      "cell_type": "code",
      "source": [
        "import numpy as np\n",
        "import matplotlib.pyplot as plt\n",
        "\n",
        "# Define a range of learning rates to test\n",
        "alphas = np.arange(0.05, 1.05, 0.05)\n",
        "\n",
        "# Define a range of softmax parameters to test\n",
        "betas = np.concatenate(([1], np.arange(5, 55, 5)))\n",
        "\n",
        "# Define a range of WM reliance to test\n",
        "rhos = np.arange(0, 1.05, 0.05)\n",
        "\n",
        "# Define a range of capacities to test\n",
        "Ks = np.arange(2, 7)\n",
        "\n",
        "# Simulation parameters\n",
        "realalpha = 0.1\n",
        "realbeta = 10\n",
        "realrho = 0.9\n",
        "realK = 4\n",
        "\n",
        "# Simulate the RLWM task\n",
        "stim = np.array([])\n",
        "update = np.array([])\n",
        "choice = np.array([])\n",
        "rew = np.array([])\n",
        "setsize = np.array([])\n",
        "\n",
        "t = 0\n",
        "for rep in range(3):\n",
        "    for ns in range(1,6):\n",
        "        update = np.append(update, 1)\n",
        "        w = realrho * (min(1, realK / ns))\n",
        "        Q = np.full((ns, 3), 0.5)\n",
        "        WM = np.full((ns, 3), 0.5)\n",
        "        trials = np.tile(np.arange(1, ns), 15)\n",
        "        for s in trials:\n",
        "            t += 1\n",
        "            softmax1 = np.exp(realbeta * Q[s - 1]) / np.sum(np.exp(realbeta * Q[s - 1]))\n",
        "            softmax2 = np.exp(50 * WM[s - 1]) / np.sum(np.exp(50 * WM[s - 1]))\n",
        "            pr = (1 - w) * softmax1 + w * softmax2\n",
        "            r = np.random.rand()\n",
        "            if r < pr[0]:\n",
        "                choice = np.append(choice, 1)\n",
        "            elif r < pr[0] + pr[1]:\n",
        "                choice = np.append(choice, 2)\n",
        "            else:\n",
        "                choice = np.append(choice, 3)\n",
        "            rew = np.append(rew, choice[t - 1] == (s % 3 + 1))\n",
        "            Q[s - 1, choice[t - 1] - 1] = Q[s - 1, choice[t - 1] - 1] + realalpha * (rew[t - 1] - Q[s - 1, choice[t - 1] - 1])\n",
        "            WM[s - 1, choice[t - 1] - 1] = rew[t - 1]\n",
        "            stim = np.append(stim, s)\n",
        "            setsize = np.append(setsize, ns)\n",
        "\n",
        "# Compute likelihood for multiple parameters\n",
        "llh = np.zeros((len(alphas), len(betas), len(rhos), len(Ks)))\n",
        "\n",
        "for i1, alpha in enumerate(alphas):\n",
        "    for i2, beta in enumerate(betas):\n",
        "        for j1, rho in enumerate(rhos):\n",
        "            for j2, K in enumerate(Ks):\n",
        "                l = 0\n",
        "                Q = np.full((int(setsize[0]), 3), 0.5)\n",
        "                WM = np.full((int(setsize[0]), 3), 0.5)\n",
        "                for t in range(len(stim)):\n",
        "                    s = int(stim[t]) - 1\n",
        "                    if update[t]:\n",
        "                        Q = np.full((int(setsize[t]), 3), 0.5)\n",
        "                        WM = np.full((int(setsize[t]), 3), 0.5)\n",
        "                    w = rho * (min(1, K / setsize[t]))\n",
        "                    softmax1 = np.exp(beta * Q[s]) / np.sum(np.exp(beta * Q[s]))\n",
        "                    softmax2 = np.exp(50 * WM[s]) / np.sum(np.exp(50 * WM[s]))\n",
        "                    pr = (1 - w) * softmax1 + w * softmax2\n",
        "                    l += np.log(pr[int(choice[t]) - 1])\n",
        "                    Q[s, int(choice[t]) - 1] = Q[s, int(choice[t]) - 1] + alpha * (rew[t] - Q[s, int(choice[t]) - 1])\n",
        "                    WM[s, int(choice[t]) - 1] = rew[t]\n",
        "                llh[i1, i2, j1, j2] = l\n",
        "\n",
        "# Plot the likelihood surface projected on dimensions alpha and rho\n",
        "llh2 = np.max(np.max(llh, axis=3), axis=1)\n",
        "llh2 = llh2[:-1, :-1]\n",
        "mi = np.min(llh2)\n",
        "ma = np.max(llh2)\n",
        "x, y = np.unravel_index(np.argmax(llh2), llh2.shape)\n",
        "plt.imshow(llh2.T, origin='lower', extent=[alphas[0], alphas[-2], rhos[0], rhos[-2]], cmap='viridis')\n",
        "plt.colorbar()\n",
        "plt.plot(alphas[x], rhos[y], 'ok')\n",
        "plt.plot(realalpha, realrho, 'xr')\n",
        "plt.xlabel('alpha')\n",
        "plt.ylabel('rho')\n",
        "plt.title('Likelihood Surface')\n",
        "plt.show()\n",
        "\n",
        "# Plot 1D versions of the likelihood\n",
        "params = [alphas, betas, rhos, Ks]\n",
        "names = ['alpha', 'beta', 'rho', 'K']\n",
        "\n",
        "for i in range(len(params)):\n",
        "    out = list(range(4))\n",
        "    out.remove(i)\n",
        "    llh1 = np.max(np.max(np.max(llh, axis=out[3]), axis=out[2]), axis=out[1])\n",
        "    v, w = np.max(llh1), np.argmax(llh1)\n",
        "    plt.plot(params[i], llh1, 'o-', linewidth=2)\n",
        "    plt.plot(params[i][w], v, 'rx', linewidth=2)\n",
        "    plt.xlabel(names[i])\n",
        "    plt.ylabel('Log Likelihood')\n",
        "    plt.title('Likelihood Projection: ' + names[i])\n",
        "    plt.show()\n"
      ],
      "metadata": {
        "colab": {
          "base_uri": "https://localhost:8080/",
          "height": 235
        },
        "id": "skGg5MWLbonp",
        "outputId": "d402b622-d85a-49bc-ebc7-3a1d86e5ce2d"
      },
      "execution_count": null,
      "outputs": [
        {
          "output_type": "error",
          "ename": "IndexError",
          "evalue": "ignored",
          "traceback": [
            "\u001b[0;31m---------------------------------------------------------------------------\u001b[0m",
            "\u001b[0;31mIndexError\u001b[0m                                Traceback (most recent call last)",
            "\u001b[0;32m<ipython-input-152-47aee49faca5>\u001b[0m in \u001b[0;36m<cell line: 30>\u001b[0;34m()\u001b[0m\n\u001b[1;32m     48\u001b[0m                 \u001b[0mchoice\u001b[0m \u001b[0;34m=\u001b[0m \u001b[0mnp\u001b[0m\u001b[0;34m.\u001b[0m\u001b[0mappend\u001b[0m\u001b[0;34m(\u001b[0m\u001b[0mchoice\u001b[0m\u001b[0;34m,\u001b[0m \u001b[0;36m3\u001b[0m\u001b[0;34m)\u001b[0m\u001b[0;34m\u001b[0m\u001b[0;34m\u001b[0m\u001b[0m\n\u001b[1;32m     49\u001b[0m             \u001b[0mrew\u001b[0m \u001b[0;34m=\u001b[0m \u001b[0mnp\u001b[0m\u001b[0;34m.\u001b[0m\u001b[0mappend\u001b[0m\u001b[0;34m(\u001b[0m\u001b[0mrew\u001b[0m\u001b[0;34m,\u001b[0m \u001b[0mchoice\u001b[0m\u001b[0;34m[\u001b[0m\u001b[0mt\u001b[0m \u001b[0;34m-\u001b[0m \u001b[0;36m1\u001b[0m\u001b[0;34m]\u001b[0m \u001b[0;34m==\u001b[0m \u001b[0;34m(\u001b[0m\u001b[0ms\u001b[0m \u001b[0;34m%\u001b[0m \u001b[0;36m3\u001b[0m \u001b[0;34m+\u001b[0m \u001b[0;36m1\u001b[0m\u001b[0;34m)\u001b[0m\u001b[0;34m)\u001b[0m\u001b[0;34m\u001b[0m\u001b[0;34m\u001b[0m\u001b[0m\n\u001b[0;32m---> 50\u001b[0;31m             \u001b[0mQ\u001b[0m\u001b[0;34m[\u001b[0m\u001b[0ms\u001b[0m \u001b[0;34m-\u001b[0m \u001b[0;36m1\u001b[0m\u001b[0;34m,\u001b[0m \u001b[0mchoice\u001b[0m\u001b[0;34m[\u001b[0m\u001b[0mt\u001b[0m \u001b[0;34m-\u001b[0m \u001b[0;36m1\u001b[0m\u001b[0;34m]\u001b[0m \u001b[0;34m-\u001b[0m \u001b[0;36m1\u001b[0m\u001b[0;34m]\u001b[0m \u001b[0;34m=\u001b[0m \u001b[0mQ\u001b[0m\u001b[0;34m[\u001b[0m\u001b[0ms\u001b[0m \u001b[0;34m-\u001b[0m \u001b[0;36m1\u001b[0m\u001b[0;34m,\u001b[0m \u001b[0mchoice\u001b[0m\u001b[0;34m[\u001b[0m\u001b[0mt\u001b[0m \u001b[0;34m-\u001b[0m \u001b[0;36m1\u001b[0m\u001b[0;34m]\u001b[0m \u001b[0;34m-\u001b[0m \u001b[0;36m1\u001b[0m\u001b[0;34m]\u001b[0m \u001b[0;34m+\u001b[0m \u001b[0mrealalpha\u001b[0m \u001b[0;34m*\u001b[0m \u001b[0;34m(\u001b[0m\u001b[0mrew\u001b[0m\u001b[0;34m[\u001b[0m\u001b[0mt\u001b[0m \u001b[0;34m-\u001b[0m \u001b[0;36m1\u001b[0m\u001b[0;34m]\u001b[0m \u001b[0;34m-\u001b[0m \u001b[0mQ\u001b[0m\u001b[0;34m[\u001b[0m\u001b[0ms\u001b[0m \u001b[0;34m-\u001b[0m \u001b[0;36m1\u001b[0m\u001b[0;34m,\u001b[0m \u001b[0mchoice\u001b[0m\u001b[0;34m[\u001b[0m\u001b[0mt\u001b[0m \u001b[0;34m-\u001b[0m \u001b[0;36m1\u001b[0m\u001b[0;34m]\u001b[0m \u001b[0;34m-\u001b[0m \u001b[0;36m1\u001b[0m\u001b[0;34m]\u001b[0m\u001b[0;34m)\u001b[0m\u001b[0;34m\u001b[0m\u001b[0;34m\u001b[0m\u001b[0m\n\u001b[0m\u001b[1;32m     51\u001b[0m             \u001b[0mWM\u001b[0m\u001b[0;34m[\u001b[0m\u001b[0ms\u001b[0m \u001b[0;34m-\u001b[0m \u001b[0;36m1\u001b[0m\u001b[0;34m,\u001b[0m \u001b[0mchoice\u001b[0m\u001b[0;34m[\u001b[0m\u001b[0mt\u001b[0m \u001b[0;34m-\u001b[0m \u001b[0;36m1\u001b[0m\u001b[0;34m]\u001b[0m \u001b[0;34m-\u001b[0m \u001b[0;36m1\u001b[0m\u001b[0;34m]\u001b[0m \u001b[0;34m=\u001b[0m \u001b[0mrew\u001b[0m\u001b[0;34m[\u001b[0m\u001b[0mt\u001b[0m \u001b[0;34m-\u001b[0m \u001b[0;36m1\u001b[0m\u001b[0;34m]\u001b[0m\u001b[0;34m\u001b[0m\u001b[0;34m\u001b[0m\u001b[0m\n\u001b[1;32m     52\u001b[0m             \u001b[0mstim\u001b[0m \u001b[0;34m=\u001b[0m \u001b[0mnp\u001b[0m\u001b[0;34m.\u001b[0m\u001b[0mappend\u001b[0m\u001b[0;34m(\u001b[0m\u001b[0mstim\u001b[0m\u001b[0;34m,\u001b[0m \u001b[0ms\u001b[0m\u001b[0;34m)\u001b[0m\u001b[0;34m\u001b[0m\u001b[0;34m\u001b[0m\u001b[0m\n",
            "\u001b[0;31mIndexError\u001b[0m: only integers, slices (`:`), ellipsis (`...`), numpy.newaxis (`None`) and integer or boolean arrays are valid indices"
          ]
        }
      ]
    }
  ]
}